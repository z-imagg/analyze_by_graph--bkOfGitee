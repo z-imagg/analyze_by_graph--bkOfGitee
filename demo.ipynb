{
 "cells": [
  {
   "cell_type": "markdown",
   "id": "a9593f23-5c3b-424e-b37b-47973fb5f13a",
   "metadata": {},
   "source": [
    "### 参考\n",
    "1. [Spark_SQL_cheatsheet_code.ipynb](https://github.com/ShowMeAI-Hub/awesome-AI-cheatsheets/blob/main/Spark/Spark_SQL_cheatsheet_code.ipynb)， 镜像在gitee [ShowMeAI-Hub--awesome-AI-cheatsheets.git](https://gitee.com/mirrr/ShowMeAI-Hub--awesome-AI-cheatsheets/tree/main/Spark)"
   ]
  },
  {
   "cell_type": "markdown",
   "id": "b6bb2800-6bb2-4dfe-b3fe-e2bdfa263753",
   "metadata": {},
   "source": [
    "### 环境安装\n",
    "\n",
    "https://cdn.azul.com/zulu/bin/zulu8.76.0.17-ca-jdk8.0.402-linux_x64.tar.gz\n",
    "\n",
    "https://archive.apache.org/dist/spark/spark-2.4.8/spark-2.4.8-bin-hadoop2.7.tgz"
   ]
  },
  {
   "cell_type": "code",
   "execution_count": 1,
   "id": "0b4438b3-79fd-4178-a338-7111e5d81050",
   "metadata": {},
   "outputs": [
    {
     "name": "stdout",
     "output_type": "stream",
     "text": [
      "2024年 03月 25日 星期一 21:49:33 CST\n",
      "/fridaAnlzAp/analyze_by_spark_GraphFrame\n",
      "/app/Miniconda3-py37_4.12.0/bin/python\n",
      "/app/Miniconda3-py37_4.12.0/bin/pip\n",
      "/app/zulu8.76.0.17-ca-jdk8.0.402-linux_x64: directory\n",
      "/app/spark-2.4.8-bin-hadoop2.7:             directory\n",
      "3af9ae26e91360c0f39a5647d9279715  /app/pack/spark-2.4.8-bin-hadoop2.7.tgz\n",
      "3d8073a1e7bc71a0c53bbbbad590dad2  /app/pack/zulu8.76.0.17-ca-jdk8.0.402-linux_x64.tar.gz\n",
      "-rwxrwxrwx 1 z z 263M  3月 24 16:57 /fridaAnlzAp/frida_js/frida-trace-out-RunBuszJs-1711270533.log\n"
     ]
    }
   ],
   "source": [
    "%%bash\n",
    "date && pwd\n",
    "\n",
    "which python\n",
    "which pip\n",
    "\n",
    "file /app/zulu8.76.0.17-ca-jdk8.0.402-linux_x64 /app/spark-2.4.8-bin-hadoop2.7\n",
    "md5sum /app/pack/spark-2.4.8-bin-hadoop2.7.tgz /app/pack/zulu8.76.0.17-ca-jdk8.0.402-linux_x64.tar.gz\n",
    "\n",
    "ls -lh /fridaAnlzAp/frida_js/*RunBuszJs*.log\n"
   ]
  },
  {
   "cell_type": "code",
   "execution_count": 2,
   "id": "314e8904",
   "metadata": {},
   "outputs": [
    {
     "name": "stdout",
     "output_type": "stream",
     "text": [
      "Looking in indexes: https://pypi.tuna.tsinghua.edu.cn/simple\n",
      "Requirement already satisfied: findspark in /app/Miniconda3-py37_4.12.0/lib/python3.7/site-packages (2.0.1)\n"
     ]
    }
   ],
   "source": [
    "%%bash\n",
    "\n",
    "pip install findspark\n",
    "\n",
    "\n",
    "[[ -d ShowMeAI-Hub--awesome-AI-cheatsheets ]] || git clone https://gitee.com/mirrr/ShowMeAI-Hub--awesome-AI-cheatsheets.git"
   ]
  },
  {
   "cell_type": "code",
   "execution_count": 3,
   "id": "ca528c7b-c1b5-4e82-a911-6d9fd06540d0",
   "metadata": {},
   "outputs": [],
   "source": [
    "import os\n",
    "os.environ[\"JAVA_HOME\"]=\"/app/zulu8.76.0.17-ca-jdk8.0.402-linux_x64\"\n",
    "# os.environ[\"SPARK_HOME\"]=\"/app/spark-2.4.8-bin-hadoop2.7\"\n",
    "\n"
   ]
  },
  {
   "cell_type": "code",
   "execution_count": 4,
   "id": "00ff4476-a724-4ec9-a6a3-84928a55c255",
   "metadata": {},
   "outputs": [],
   "source": [
    "import findspark\n",
    "findspark.init(spark_home=\"/app/spark-2.4.8-bin-hadoop2.7\")"
   ]
  },
  {
   "cell_type": "code",
   "execution_count": 5,
   "id": "e49ba830",
   "metadata": {},
   "outputs": [
    {
     "name": "stdout",
     "output_type": "stream",
     "text": [
      "JAVA_HOME=/app/zulu8.76.0.17-ca-jdk8.0.402-linux_x64\n",
      "HOME=/home/z\n",
      "SPARK_HOME=/app/spark-2.4.8-bin-hadoop2.7\n"
     ]
    }
   ],
   "source": [
    "%%bash\n",
    "\n",
    "env | grep HOME"
   ]
  },
  {
   "cell_type": "code",
   "execution_count": 6,
   "id": "41d44251-7a74-45d3-9021-b597e1af3f9e",
   "metadata": {},
   "outputs": [],
   "source": [
    "from pyspark.sql import SparkSession\n",
    "#必须用py3.7 , 否则 这一行报错 TypeError: 'bytes' object cannot be interpreted as an integer"
   ]
  },
  {
   "cell_type": "markdown",
   "id": "3cabaf60",
   "metadata": {},
   "source": [
    "SparkSession 用于创建数据帧，将数据帧注册为表，执行 SQL 查询，缓存表及读取 Parquet 文件。"
   ]
  },
  {
   "cell_type": "code",
   "execution_count": 7,
   "id": "3a1e7564",
   "metadata": {},
   "outputs": [
    {
     "name": "stderr",
     "output_type": "stream",
     "text": [
      "24/03/25 21:49:35 WARN Utils: Your hostname, mchr resolves to a loopback address: 127.0.1.1; using 10.0.4.23 instead (on interface wlo1)\n",
      "24/03/25 21:49:35 WARN Utils: Set SPARK_LOCAL_IP if you need to bind to another address\n",
      "24/03/25 21:49:35 WARN NativeCodeLoader: Unable to load native-hadoop library for your platform... using builtin-java classes where applicable\n",
      "Using Spark's default log4j profile: org/apache/spark/log4j-defaults.properties\n",
      "Setting default log level to \"WARN\".\n",
      "To adjust logging level use sc.setLogLevel(newLevel). For SparkR, use setLogLevel(newLevel).\n",
      "24/03/25 21:49:36 WARN Utils: Service 'SparkUI' could not bind on port 4040. Attempting port 4041.\n"
     ]
    }
   ],
   "source": [
    "spark = SparkSession \\\n",
    "       .builder \\\n",
    "       .appName(\"analyze_by_spark_GraphFrame\") \\\n",
    "       .config(\"spark.some.config.option\", \"some-value\") \\\n",
    "       .getOrCreate()"
   ]
  },
  {
   "cell_type": "code",
   "execution_count": 8,
   "id": "db69d844",
   "metadata": {},
   "outputs": [
    {
     "name": "stdout",
     "output_type": "stream",
     "text": [
      "Michael, 29\n",
      "Andy, 30\n",
      "Justin, 19\n"
     ]
    }
   ],
   "source": [
    "%%bash\n",
    "\n",
    "cat ./ShowMeAI-Hub--awesome-AI-cheatsheets//Spark/data/people.txt"
   ]
  },
  {
   "cell_type": "code",
   "execution_count": 9,
   "id": "5b04b4d5",
   "metadata": {},
   "outputs": [],
   "source": [
    "from pyspark.sql.types import *\n",
    "from pyspark.sql import *\n",
    "from pyspark.sql.functions import *"
   ]
  },
  {
   "cell_type": "markdown",
   "id": "f2fd321c",
   "metadata": {},
   "source": [
    "###  从Spark数据源创建\n",
    "\n",
    "#### Parquet文件\n",
    "\n",
    "#### 文本文件\n",
    "\n",
    "#### JSON"
   ]
  },
  {
   "cell_type": "code",
   "execution_count": 10,
   "id": "ccedde18",
   "metadata": {},
   "outputs": [
    {
     "name": "stdout",
     "output_type": "stream",
     "text": [
      "{\"firstName\":\"Jane\", \"lastName\":\"Butterburg\", \"address\": {\"street\": \"6649 N Blue Gum St\", \"city\": \"New Orleans\",\"state\": \"LA\", \"zip\": \"70116\" }, \"phoneNumber\":{\"number\":\"210-332-578\", \"type\":\"mobile\"}, \"age\":22}\n",
      "{\"firstName\":\"Josephine\", \"lastName\":\"Darakjy\", \"address\": {\"street\": \"4 B Blue Ridge Blvd\", \"city\": \"Brighton\",\"state\": \"MI\", \"zip\": \"48116\" }, \"phoneNumber\":{\"number\":\"210-319-103\", \"type\":\"mobile\"}, \"age\":25}\n",
      "{\"firstName\":\"Boris\", \"lastName\":\"Chemel\", \"address\": {\"street\": \"8 W Cerritos Ave #54\", \"city\": \"Bridgeport\",\"state\": \"NJ\", \"zip\": \"08014\" }, \"phoneNumber\":{\"number\":\"210-322-007\", \"type\":\"mobile\"}, \"age\":32}\n",
      "{\"firstName\":\"Johnson\", \"lastName\":\"Smith\", \"address\": {\"street\": \"5 W Blue Ave St\", \"city\": \"Bridgeport\",\"state\": \"NJ\", \"zip\": \"08112\" }, \"phoneNumber\":{\"number\":\"210-303-029\", \"type\":\"mobile\"}, \"age\":35}"
     ]
    }
   ],
   "source": [
    "%%bash\n",
    "\n",
    "cat ShowMeAI-Hub--awesome-AI-cheatsheets/Spark/data/customers.json"
   ]
  },
  {
   "cell_type": "code",
   "execution_count": 11,
   "id": "c63ae5ca",
   "metadata": {},
   "outputs": [],
   "source": [
    "df = spark.read.json(\"ShowMeAI-Hub--awesome-AI-cheatsheets/Spark/data/customers.json\")\n"
   ]
  },
  {
   "cell_type": "code",
   "execution_count": 12,
   "id": "1a857e3f",
   "metadata": {},
   "outputs": [
    {
     "name": "stdout",
     "output_type": "stream",
     "text": [
      "+--------------------+---+---------+----------+--------------------+\n",
      "|             address|age|firstName|  lastName|         phoneNumber|\n",
      "+--------------------+---+---------+----------+--------------------+\n",
      "|[New Orleans, LA,...| 22|     Jane|Butterburg|[210-332-578, mob...|\n",
      "|[Brighton, MI, 4 ...| 25|Josephine|   Darakjy|[210-319-103, mob...|\n",
      "|[Bridgeport, NJ, ...| 32|    Boris|    Chemel|[210-322-007, mob...|\n",
      "|[Bridgeport, NJ, ...| 35|  Johnson|     Smith|[210-303-029, mob...|\n",
      "+--------------------+---+---------+----------+--------------------+\n",
      "\n"
     ]
    }
   ],
   "source": [
    "df.show() #显示 df 的内容"
   ]
  },
  {
   "cell_type": "markdown",
   "id": "4763aec2",
   "metadata": {},
   "source": [
    "### 查阅数据信息\n",
    "\n",
    "#### 查阅spark Dataframe的信息"
   ]
  },
  {
   "cell_type": "code",
   "execution_count": 13,
   "id": "4faf525d",
   "metadata": {},
   "outputs": [
    {
     "data": {
      "text/plain": [
       "[('address', 'struct<city:string,state:string,street:string,zip:string>'),\n",
       " ('age', 'bigint'),\n",
       " ('firstName', 'string'),\n",
       " ('lastName', 'string'),\n",
       " ('phoneNumber', 'struct<number:string,type:string>')]"
      ]
     },
     "execution_count": 13,
     "metadata": {},
     "output_type": "execute_result"
    }
   ],
   "source": [
    "df.dtypes   #返回 df 的列名与数据类型"
   ]
  },
  {
   "cell_type": "code",
   "execution_count": 14,
   "id": "23e2a3b2",
   "metadata": {},
   "outputs": [
    {
     "name": "stdout",
     "output_type": "stream",
     "text": [
      "+--------------------+---+---------+----------+--------------------+\n",
      "|             address|age|firstName|  lastName|         phoneNumber|\n",
      "+--------------------+---+---------+----------+--------------------+\n",
      "|[New Orleans, LA,...| 22|     Jane|Butterburg|[210-332-578, mob...|\n",
      "|[Brighton, MI, 4 ...| 25|Josephine|   Darakjy|[210-319-103, mob...|\n",
      "|[Bridgeport, NJ, ...| 32|    Boris|    Chemel|[210-322-007, mob...|\n",
      "|[Bridgeport, NJ, ...| 35|  Johnson|     Smith|[210-303-029, mob...|\n",
      "+--------------------+---+---------+----------+--------------------+\n",
      "\n"
     ]
    }
   ],
   "source": [
    "df.show() #显示 df 的内容"
   ]
  },
  {
   "cell_type": "code",
   "execution_count": 15,
   "id": "c3694720",
   "metadata": {},
   "outputs": [
    {
     "data": {
      "text/plain": [
       "[Row(address=Row(city='New Orleans', state='LA', street='6649 N Blue Gum St', zip='70116'), age=22, firstName='Jane', lastName='Butterburg', phoneNumber=Row(number='210-332-578', type='mobile')),\n",
       " Row(address=Row(city='Brighton', state='MI', street='4 B Blue Ridge Blvd', zip='48116'), age=25, firstName='Josephine', lastName='Darakjy', phoneNumber=Row(number='210-319-103', type='mobile')),\n",
       " Row(address=Row(city='Bridgeport', state='NJ', street='8 W Cerritos Ave #54', zip='08014'), age=32, firstName='Boris', lastName='Chemel', phoneNumber=Row(number='210-322-007', type='mobile'))]"
      ]
     },
     "execution_count": 15,
     "metadata": {},
     "output_type": "execute_result"
    }
   ],
   "source": [
    "df.head(3) #返回前 n 行数据"
   ]
  },
  {
   "cell_type": "code",
   "execution_count": 16,
   "id": "d09697f7",
   "metadata": {},
   "outputs": [
    {
     "data": {
      "text/plain": [
       "Row(address=Row(city='New Orleans', state='LA', street='6649 N Blue Gum St', zip='70116'), age=22, firstName='Jane', lastName='Butterburg', phoneNumber=Row(number='210-332-578', type='mobile'))"
      ]
     },
     "execution_count": 16,
     "metadata": {},
     "output_type": "execute_result"
    }
   ],
   "source": [
    "df.first()  #返回第 1 行数据"
   ]
  },
  {
   "cell_type": "code",
   "execution_count": 17,
   "id": "fb746bdd",
   "metadata": {},
   "outputs": [
    {
     "data": {
      "text/plain": [
       "[Row(address=Row(city='New Orleans', state='LA', street='6649 N Blue Gum St', zip='70116'), age=22, firstName='Jane', lastName='Butterburg', phoneNumber=Row(number='210-332-578', type='mobile')),\n",
       " Row(address=Row(city='Brighton', state='MI', street='4 B Blue Ridge Blvd', zip='48116'), age=25, firstName='Josephine', lastName='Darakjy', phoneNumber=Row(number='210-319-103', type='mobile')),\n",
       " Row(address=Row(city='Bridgeport', state='NJ', street='8 W Cerritos Ave #54', zip='08014'), age=32, firstName='Boris', lastName='Chemel', phoneNumber=Row(number='210-322-007', type='mobile'))]"
      ]
     },
     "execution_count": 17,
     "metadata": {},
     "output_type": "execute_result"
    }
   ],
   "source": [
    "df.take(3) #返回前 n 行数据"
   ]
  },
  {
   "cell_type": "code",
   "execution_count": 18,
   "id": "f4558c60",
   "metadata": {},
   "outputs": [
    {
     "data": {
      "text/plain": [
       "StructType(List(StructField(address,StructType(List(StructField(city,StringType,true),StructField(state,StringType,true),StructField(street,StringType,true),StructField(zip,StringType,true))),true),StructField(age,LongType,true),StructField(firstName,StringType,true),StructField(lastName,StringType,true),StructField(phoneNumber,StructType(List(StructField(number,StringType,true),StructField(type,StringType,true))),true)))"
      ]
     },
     "execution_count": 18,
     "metadata": {},
     "output_type": "execute_result"
    }
   ],
   "source": [
    "df.schema #返回 df 的 Schema"
   ]
  },
  {
   "cell_type": "code",
   "execution_count": 19,
   "id": "90362d8a",
   "metadata": {},
   "outputs": [
    {
     "name": "stdout",
     "output_type": "stream",
     "text": [
      "+-------+-----------------+---------+----------+\n",
      "|summary|              age|firstName|  lastName|\n",
      "+-------+-----------------+---------+----------+\n",
      "|  count|                4|        4|         4|\n",
      "|   mean|             28.5|     null|      null|\n",
      "| stddev|6.027713773341708|     null|      null|\n",
      "|    min|               22|    Boris|Butterburg|\n",
      "|    max|               35|Josephine|     Smith|\n",
      "+-------+-----------------+---------+----------+\n",
      "\n"
     ]
    }
   ],
   "source": [
    "df.describe().show()  #汇总统计数据"
   ]
  },
  {
   "cell_type": "code",
   "execution_count": 20,
   "id": "12b2959f",
   "metadata": {},
   "outputs": [
    {
     "data": {
      "text/plain": [
       "['address', 'age', 'firstName', 'lastName', 'phoneNumber']"
      ]
     },
     "execution_count": 20,
     "metadata": {},
     "output_type": "execute_result"
    }
   ],
   "source": [
    "df.columns #返回 df 的列名"
   ]
  },
  {
   "cell_type": "code",
   "execution_count": 21,
   "id": "52a9bad4",
   "metadata": {},
   "outputs": [
    {
     "data": {
      "text/plain": [
       "4"
      ]
     },
     "execution_count": 21,
     "metadata": {},
     "output_type": "execute_result"
    }
   ],
   "source": [
    "df.count() #返回 df 的行数"
   ]
  },
  {
   "cell_type": "code",
   "execution_count": 22,
   "id": "3f0089d1",
   "metadata": {},
   "outputs": [
    {
     "data": {
      "text/plain": [
       "4"
      ]
     },
     "execution_count": 22,
     "metadata": {},
     "output_type": "execute_result"
    }
   ],
   "source": [
    "df.distinct().count() #返回 df 中不重复的行数"
   ]
  },
  {
   "cell_type": "code",
   "execution_count": 23,
   "id": "edbda13c",
   "metadata": {},
   "outputs": [
    {
     "name": "stdout",
     "output_type": "stream",
     "text": [
      "root\n",
      " |-- address: struct (nullable = true)\n",
      " |    |-- city: string (nullable = true)\n",
      " |    |-- state: string (nullable = true)\n",
      " |    |-- street: string (nullable = true)\n",
      " |    |-- zip: string (nullable = true)\n",
      " |-- age: long (nullable = true)\n",
      " |-- firstName: string (nullable = true)\n",
      " |-- lastName: string (nullable = true)\n",
      " |-- phoneNumber: struct (nullable = true)\n",
      " |    |-- number: string (nullable = true)\n",
      " |    |-- type: string (nullable = true)\n",
      "\n"
     ]
    }
   ],
   "source": [
    "df.printSchema() #返回 df的 Schema"
   ]
  },
  {
   "cell_type": "code",
   "execution_count": 24,
   "id": "70b81a38",
   "metadata": {},
   "outputs": [
    {
     "name": "stdout",
     "output_type": "stream",
     "text": [
      "== Physical Plan ==\n",
      "*(1) FileScan json [address#6,age#7L,firstName#8,lastName#9,phoneNumber#10] Batched: false, Format: JSON, Location: InMemoryFileIndex[file:/fridaAnlzAp/analyze_by_spark_GraphFrame/ShowMeAI-Hub--awesome-AI-cheatshe..., PartitionFilters: [], PushedFilters: [], ReadSchema: struct<address:struct<city:string,state:string,street:string,zip:string>,age:bigint,firstName:str...\n"
     ]
    }
   ],
   "source": [
    "df.explain() #返回逻辑与实体方案"
   ]
  },
  {
   "cell_type": "markdown",
   "id": "e024ed60",
   "metadata": {},
   "source": [
    "### 重复值\n",
    "\n",
    "#### dropDuplicates函数"
   ]
  },
  {
   "cell_type": "code",
   "execution_count": 25,
   "id": "8d4aff8d",
   "metadata": {},
   "outputs": [],
   "source": [
    "df = df.dropDuplicates()"
   ]
  },
  {
   "cell_type": "markdown",
   "id": "8e7e2784",
   "metadata": {},
   "source": [
    "### 查询\n",
    "\n",
    "#### 自定义函数F"
   ]
  },
  {
   "cell_type": "code",
   "execution_count": 26,
   "id": "6ccdd3bd",
   "metadata": {},
   "outputs": [],
   "source": [
    "from pyspark.sql import functions as F"
   ]
  },
  {
   "cell_type": "markdown",
   "id": "193b7ac7",
   "metadata": {},
   "source": [
    "#### Select"
   ]
  },
  {
   "cell_type": "code",
   "execution_count": 27,
   "id": "eb9d2039",
   "metadata": {},
   "outputs": [
    {
     "name": "stdout",
     "output_type": "stream",
     "text": [
      "+---------+\n",
      "|firstName|\n",
      "+---------+\n",
      "|Josephine|\n",
      "|     Jane|\n",
      "|    Boris|\n",
      "|  Johnson|\n",
      "+---------+\n",
      "\n"
     ]
    }
   ],
   "source": [
    "df.select(\"firstName\").show() #显示 firstName 列的所有条目"
   ]
  },
  {
   "cell_type": "code",
   "execution_count": 28,
   "id": "3fc5b4d4",
   "metadata": {},
   "outputs": [
    {
     "name": "stdout",
     "output_type": "stream",
     "text": [
      "+---------+----------+\n",
      "|firstName|  lastName|\n",
      "+---------+----------+\n",
      "|Josephine|   Darakjy|\n",
      "|     Jane|Butterburg|\n",
      "|    Boris|    Chemel|\n",
      "|  Johnson|     Smith|\n",
      "+---------+----------+\n",
      "\n"
     ]
    }
   ],
   "source": [
    "df.select(\"firstName\",\"lastName\").show()"
   ]
  },
  {
   "cell_type": "code",
   "execution_count": 29,
   "id": "f0eb5262",
   "metadata": {},
   "outputs": [
    {
     "name": "stdout",
     "output_type": "stream",
     "text": [
      "+--------------------+---+---------+----------+--------------------+\n",
      "|             address|age|firstName|  lastName|         phoneNumber|\n",
      "+--------------------+---+---------+----------+--------------------+\n",
      "|[Brighton, MI, 4 ...| 25|Josephine|   Darakjy|[210-319-103, mob...|\n",
      "|[New Orleans, LA,...| 22|     Jane|Butterburg|[210-332-578, mob...|\n",
      "|[Bridgeport, NJ, ...| 32|    Boris|    Chemel|[210-322-007, mob...|\n",
      "|[Bridgeport, NJ, ...| 35|  Johnson|     Smith|[210-303-029, mob...|\n",
      "+--------------------+---+---------+----------+--------------------+\n",
      "\n"
     ]
    }
   ],
   "source": [
    "df.show()"
   ]
  },
  {
   "cell_type": "code",
   "execution_count": 30,
   "id": "f3a411e3",
   "metadata": {},
   "outputs": [
    {
     "name": "stdout",
     "output_type": "stream",
     "text": [
      "+--------------------+---------+---+\n",
      "|         contactInfo|firstName|age|\n",
      "+--------------------+---------+---+\n",
      "|[210-319-103, mob...|Josephine| 25|\n",
      "|[210-332-578, mob...|     Jane| 22|\n",
      "|[210-322-007, mob...|    Boris| 32|\n",
      "|[210-303-029, mob...|  Johnson| 35|\n",
      "+--------------------+---------+---+\n",
      "\n"
     ]
    }
   ],
   "source": [
    "#字段phoneNumber取别名contactInfo\n",
    "df.select( \"firstName\", \"age\", df.phoneNumber .alias(\"contactInfo\")  ) \\\n",
    ".select(\"contactInfo\", \"firstName\", \"age\") \\\n",
    ".show()   #显示 firstName、age 的所有条目和类型"
   ]
  },
  {
   "cell_type": "code",
   "execution_count": 31,
   "id": "ecd319f2",
   "metadata": {},
   "outputs": [
    {
     "name": "stdout",
     "output_type": "stream",
     "text": [
      "+---------+---------+\n",
      "|firstName|(age + 1)|\n",
      "+---------+---------+\n",
      "|Josephine|       26|\n",
      "|     Jane|       23|\n",
      "|    Boris|       33|\n",
      "|  Johnson|       36|\n",
      "+---------+---------+\n",
      "\n"
     ]
    }
   ],
   "source": [
    "df.select(df[\"firstName\"],df[\"age\"]+ 1).show()   \n",
    "# 显示 firstName 和 age 列的所有 记录，并对 age 记录添加1"
   ]
  },
  {
   "cell_type": "code",
   "execution_count": 32,
   "id": "dc5de494",
   "metadata": {},
   "outputs": [
    {
     "name": "stdout",
     "output_type": "stream",
     "text": [
      "+----------+\n",
      "|(age > 24)|\n",
      "+----------+\n",
      "|      true|\n",
      "|     false|\n",
      "|      true|\n",
      "|      true|\n",
      "+----------+\n",
      "\n"
     ]
    }
   ],
   "source": [
    "df.select(df['age'] > 24).show()  \n",
    "#显示所有小于24岁的记录"
   ]
  },
  {
   "cell_type": "markdown",
   "id": "da6bf195",
   "metadata": {},
   "source": [
    "#### When "
   ]
  },
  {
   "cell_type": "code",
   "execution_count": 33,
   "id": "0f417501",
   "metadata": {},
   "outputs": [
    {
     "name": "stdout",
     "output_type": "stream",
     "text": [
      "+---------+--------------------------------------+\n",
      "|firstName|CASE WHEN (age > 30) THEN 1 ELSE 0 END|\n",
      "+---------+--------------------------------------+\n",
      "|Josephine|                                     0|\n",
      "|     Jane|                                     0|\n",
      "|    Boris|                                     1|\n",
      "|  Johnson|                                     1|\n",
      "+---------+--------------------------------------+\n",
      "\n"
     ]
    }
   ],
   "source": [
    "df.select(\"firstName\", \\\n",
    "F.when(df.age > 30, 1) \\\n",
    ".otherwise(0) ) \\\n",
    ".show()   \n",
    "#显示 firstName，且大于30岁显示 1，小于30岁显示0"
   ]
  },
  {
   "cell_type": "code",
   "execution_count": 34,
   "id": "bc5e76ca",
   "metadata": {},
   "outputs": [
    {
     "data": {
      "text/plain": [
       "[Row(address=Row(city='New Orleans', state='LA', street='6649 N Blue Gum St', zip='70116'), age=22, firstName='Jane', lastName='Butterburg', phoneNumber=Row(number='210-332-578', type='mobile')),\n",
       " Row(address=Row(city='Bridgeport', state='NJ', street='8 W Cerritos Ave #54', zip='08014'), age=32, firstName='Boris', lastName='Chemel', phoneNumber=Row(number='210-322-007', type='mobile'))]"
      ]
     },
     "execution_count": 34,
     "metadata": {},
     "output_type": "execute_result"
    }
   ],
   "source": [
    "df[df.firstName.isin(\"Jane\",\"Boris\")].collect()  \n",
    "# 显示符合指定条件的 firstName 列 的记录"
   ]
  },
  {
   "cell_type": "markdown",
   "id": "05f145c8",
   "metadata": {},
   "source": [
    "#### Like "
   ]
  },
  {
   "cell_type": "code",
   "execution_count": 35,
   "id": "dd53b200",
   "metadata": {},
   "outputs": [
    {
     "name": "stdout",
     "output_type": "stream",
     "text": [
      "+---------+-------------------+\n",
      "|firstName|lastName LIKE Smith|\n",
      "+---------+-------------------+\n",
      "|Josephine|              false|\n",
      "|     Jane|              false|\n",
      "|    Boris|              false|\n",
      "|  Johnson|               true|\n",
      "+---------+-------------------+\n",
      "\n"
     ]
    }
   ],
   "source": [
    "df.select(\"firstName\", \n",
    "df.lastName.like(\"Smith\")  ) \\\n",
    ".show()   \n",
    "# 显示 lastName 列中包含 Smith 的 firstName 列的记录"
   ]
  },
  {
   "cell_type": "markdown",
   "id": "584e7fe0",
   "metadata": {},
   "source": [
    "####  Startswith - Endswith"
   ]
  },
  {
   "cell_type": "code",
   "execution_count": 36,
   "id": "1493fd3e",
   "metadata": {},
   "outputs": [
    {
     "name": "stdout",
     "output_type": "stream",
     "text": [
      "+---------+------------------------+\n",
      "|firstName|startswith(lastName, Sm)|\n",
      "+---------+------------------------+\n",
      "|Josephine|                   false|\n",
      "|     Jane|                   false|\n",
      "|    Boris|                   false|\n",
      "|  Johnson|                    true|\n",
      "+---------+------------------------+\n",
      "\n"
     ]
    }
   ],
   "source": [
    "df.select(\"firstName\", \n",
    "df.lastName.startswith(\"Sm\")) \\\n",
    ".show()   \n",
    "# 显示 lastName 列中以 Sm 开头的 firstName 列的记录"
   ]
  },
  {
   "cell_type": "code",
   "execution_count": 37,
   "id": "bb3b8466",
   "metadata": {},
   "outputs": [
    {
     "name": "stdout",
     "output_type": "stream",
     "text": [
      "+----------------------+\n",
      "|endswith(lastName, th)|\n",
      "+----------------------+\n",
      "|                 false|\n",
      "|                 false|\n",
      "|                 false|\n",
      "|                  true|\n",
      "+----------------------+\n",
      "\n"
     ]
    }
   ],
   "source": [
    "df.select( df.lastName .endswith(\"th\") ) \\\n",
    ".show()   \n",
    "# 显示以 th 结尾的 lastName"
   ]
  },
  {
   "cell_type": "markdown",
   "id": "b2986a9c",
   "metadata": {},
   "source": [
    "#### Substring "
   ]
  },
  {
   "cell_type": "code",
   "execution_count": 38,
   "id": "4f43b85b",
   "metadata": {},
   "outputs": [
    {
     "data": {
      "text/plain": [
       "[Row(name='Jos'), Row(name='Jan'), Row(name='Bor'), Row(name='Joh')]"
      ]
     },
     "execution_count": 38,
     "metadata": {},
     "output_type": "execute_result"
    }
   ],
   "source": [
    "df.select( df.firstName.substr(1, 3)  .alias(\"name\") ) \\\n",
    " .collect()   \n",
    "#返回 firstName 的子字符串"
   ]
  },
  {
   "cell_type": "markdown",
   "id": "c5591c66",
   "metadata": {},
   "source": [
    "#### Between "
   ]
  },
  {
   "cell_type": "code",
   "execution_count": 39,
   "id": "34c4cbaa",
   "metadata": {},
   "outputs": [
    {
     "name": "stdout",
     "output_type": "stream",
     "text": [
      "+-----------------------------+\n",
      "|((age >= 22) AND (age <= 24))|\n",
      "+-----------------------------+\n",
      "|                        false|\n",
      "|                         true|\n",
      "|                        false|\n",
      "|                        false|\n",
      "+-----------------------------+\n",
      "\n"
     ]
    }
   ],
   "source": [
    "df.select( df.age.between(22, 24) ) \\\n",
    ".show()   \n",
    "#显示介于22岁至24岁之间的 age 列的记录"
   ]
  },
  {
   "cell_type": "markdown",
   "id": "fff80510",
   "metadata": {},
   "source": [
    "###  添加、修改、删除列\n",
    "####  添加列"
   ]
  },
  {
   "cell_type": "code",
   "execution_count": 40,
   "id": "957eea30",
   "metadata": {},
   "outputs": [
    {
     "name": "stdout",
     "output_type": "stream",
     "text": [
      "+------------------+\n",
      "|phoneNumber.number|\n",
      "+------------------+\n",
      "|       210-319-103|\n",
      "|       210-332-578|\n",
      "|       210-322-007|\n",
      "|       210-303-029|\n",
      "+------------------+\n",
      "\n"
     ]
    }
   ],
   "source": [
    "df.select(df.phoneNumber.number).show()"
   ]
  },
  {
   "cell_type": "code",
   "execution_count": 41,
   "id": "247c3f89",
   "metadata": {},
   "outputs": [],
   "source": [
    "df = df.withColumn('city',df.address.city) \\\n",
    " .withColumn('postalCode',df.address.zip) \\\n",
    " .withColumn('state',df.address.state) \\\n",
    " .withColumn('streetAddress',df.address.street) \\\n",
    " .withColumn('telePhoneNumber', df.phoneNumber.number) \\\n",
    " .withColumn('telePhoneType', df.phoneNumber.type)"
   ]
  },
  {
   "cell_type": "code",
   "execution_count": 42,
   "id": "12a7b97e",
   "metadata": {},
   "outputs": [
    {
     "name": "stdout",
     "output_type": "stream",
     "text": [
      "-RECORD 0-------------------------------\n",
      " address         | [Brighton, MI, 4 ... \n",
      " age             | 25                   \n",
      " firstName       | Josephine            \n",
      " lastName        | Darakjy              \n",
      " phoneNumber     | [210-319-103, mob... \n",
      " city            | Brighton             \n",
      " postalCode      | 48116                \n",
      " state           | MI                   \n",
      " streetAddress   | 4 B Blue Ridge Blvd  \n",
      " telePhoneNumber | 210-319-103          \n",
      " telePhoneType   | mobile               \n",
      "-RECORD 1-------------------------------\n",
      " address         | [New Orleans, LA,... \n",
      " age             | 22                   \n",
      " firstName       | Jane                 \n",
      " lastName        | Butterburg           \n",
      " phoneNumber     | [210-332-578, mob... \n",
      " city            | New Orleans          \n",
      " postalCode      | 70116                \n",
      " state           | LA                   \n",
      " streetAddress   | 6649 N Blue Gum St   \n",
      " telePhoneNumber | 210-332-578          \n",
      " telePhoneType   | mobile               \n",
      "-RECORD 2-------------------------------\n",
      " address         | [Bridgeport, NJ, ... \n",
      " age             | 32                   \n",
      " firstName       | Boris                \n",
      " lastName        | Chemel               \n",
      " phoneNumber     | [210-322-007, mob... \n",
      " city            | Bridgeport           \n",
      " postalCode      | 08014                \n",
      " state           | NJ                   \n",
      " streetAddress   | 8 W Cerritos Ave #54 \n",
      " telePhoneNumber | 210-322-007          \n",
      " telePhoneType   | mobile               \n",
      "-RECORD 3-------------------------------\n",
      " address         | [Bridgeport, NJ, ... \n",
      " age             | 35                   \n",
      " firstName       | Johnson              \n",
      " lastName        | Smith                \n",
      " phoneNumber     | [210-303-029, mob... \n",
      " city            | Bridgeport           \n",
      " postalCode      | 08112                \n",
      " state           | NJ                   \n",
      " streetAddress   | 5 W Blue Ave St      \n",
      " telePhoneNumber | 210-303-029          \n",
      " telePhoneType   | mobile               \n",
      "\n"
     ]
    }
   ],
   "source": [
    "df.show(vertical=True)"
   ]
  },
  {
   "cell_type": "markdown",
   "id": "3078b09c",
   "metadata": {},
   "source": [
    "#### 修改列"
   ]
  },
  {
   "cell_type": "code",
   "execution_count": 43,
   "id": "be1732a5",
   "metadata": {},
   "outputs": [],
   "source": [
    "df = df.withColumnRenamed('telePhoneNumber', 'phoneNumber')\n",
    "#列 重命名"
   ]
  },
  {
   "cell_type": "code",
   "execution_count": 44,
   "id": "2fb7851f",
   "metadata": {},
   "outputs": [
    {
     "data": {
      "text/plain": [
       "['address',\n",
       " 'age',\n",
       " 'firstName',\n",
       " 'lastName',\n",
       " 'phoneNumber',\n",
       " 'city',\n",
       " 'postalCode',\n",
       " 'state',\n",
       " 'streetAddress',\n",
       " 'phoneNumber',\n",
       " 'telePhoneType']"
      ]
     },
     "execution_count": 44,
     "metadata": {},
     "output_type": "execute_result"
    }
   ],
   "source": [
    "df.columns"
   ]
  },
  {
   "cell_type": "markdown",
   "id": "952f66a6",
   "metadata": {},
   "source": [
    "#### 删除列"
   ]
  },
  {
   "cell_type": "code",
   "execution_count": 45,
   "id": "e82046c9",
   "metadata": {},
   "outputs": [],
   "source": [
    "df = df.drop(\"address\", \"phoneNumber\")\n",
    "# 等价于\n",
    "# df = df.drop(df.address).drop(df.phoneNumber)"
   ]
  },
  {
   "cell_type": "markdown",
   "id": "d32e4046",
   "metadata": {},
   "source": [
    "#### 分组"
   ]
  },
  {
   "cell_type": "code",
   "execution_count": 46,
   "id": "2ab59ba9",
   "metadata": {},
   "outputs": [
    {
     "name": "stdout",
     "output_type": "stream",
     "text": [
      "+---+-----+\n",
      "|age|count|\n",
      "+---+-----+\n",
      "| 22|    1|\n",
      "| 32|    1|\n",
      "| 25|    1|\n",
      "| 35|    1|\n",
      "+---+-----+\n",
      "\n"
     ]
    }
   ],
   "source": [
    "df.groupBy(\"age\")\\\n",
    "  .count() \\\n",
    "  .show()  \n",
    "#按 age 列分组，统计每组人数"
   ]
  },
  {
   "cell_type": "markdown",
   "id": "95b4aa8e",
   "metadata": {},
   "source": [
    "#### 筛选\n",
    "\n",
    "##### filter筛选"
   ]
  },
  {
   "cell_type": "code",
   "execution_count": 47,
   "id": "0f9d4e79",
   "metadata": {},
   "outputs": [
    {
     "name": "stdout",
     "output_type": "stream",
     "text": [
      "+---+---------+--------+----------+----------+-----+--------------------+-------------+\n",
      "|age|firstName|lastName|      city|postalCode|state|       streetAddress|telePhoneType|\n",
      "+---+---------+--------+----------+----------+-----+--------------------+-------------+\n",
      "| 25|Josephine| Darakjy|  Brighton|     48116|   MI| 4 B Blue Ridge Blvd|       mobile|\n",
      "| 32|    Boris|  Chemel|Bridgeport|     08014|   NJ|8 W Cerritos Ave #54|       mobile|\n",
      "| 35|  Johnson|   Smith|Bridgeport|     08112|   NJ|     5 W Blue Ave St|       mobile|\n",
      "+---+---------+--------+----------+----------+-----+--------------------+-------------+\n",
      "\n"
     ]
    }
   ],
   "source": [
    "df.filter( df[\"age\"]>24 ) .show()   \n",
    "#按 age 列筛选，保留年龄大于24岁的"
   ]
  },
  {
   "cell_type": "markdown",
   "id": "1def914e",
   "metadata": {},
   "source": [
    "#### 排序\n",
    "##### sort与orderBy操作"
   ]
  },
  {
   "cell_type": "code",
   "execution_count": 48,
   "id": "38490191",
   "metadata": {},
   "outputs": [
    {
     "data": {
      "text/plain": [
       "['age',\n",
       " 'firstName',\n",
       " 'lastName',\n",
       " 'city',\n",
       " 'postalCode',\n",
       " 'state',\n",
       " 'streetAddress',\n",
       " 'telePhoneType']"
      ]
     },
     "execution_count": 48,
     "metadata": {},
     "output_type": "execute_result"
    }
   ],
   "source": [
    "df.columns"
   ]
  },
  {
   "cell_type": "code",
   "execution_count": 49,
   "id": "4312f86d",
   "metadata": {},
   "outputs": [
    {
     "data": {
      "text/plain": [
       "[Row(age=35, firstName='Johnson', lastName='Smith', city='Bridgeport', postalCode='08112', state='NJ', streetAddress='5 W Blue Ave St', telePhoneType='mobile'),\n",
       " Row(age=32, firstName='Boris', lastName='Chemel', city='Bridgeport', postalCode='08014', state='NJ', streetAddress='8 W Cerritos Ave #54', telePhoneType='mobile'),\n",
       " Row(age=25, firstName='Josephine', lastName='Darakjy', city='Brighton', postalCode='48116', state='MI', streetAddress='4 B Blue Ridge Blvd', telePhoneType='mobile'),\n",
       " Row(age=22, firstName='Jane', lastName='Butterburg', city='New Orleans', postalCode='70116', state='LA', streetAddress='6649 N Blue Gum St', telePhoneType='mobile')]"
      ]
     },
     "execution_count": 49,
     "metadata": {},
     "output_type": "execute_result"
    }
   ],
   "source": [
    "df.sort( df.age.desc() ).collect()\n",
    "#按字段age降序排列"
   ]
  },
  {
   "cell_type": "code",
   "execution_count": 50,
   "id": "0b0eeefd",
   "metadata": {},
   "outputs": [
    {
     "data": {
      "text/plain": [
       "[Row(age=35, firstName='Johnson', lastName='Smith', city='Bridgeport', postalCode='08112', state='NJ', streetAddress='5 W Blue Ave St', telePhoneType='mobile'),\n",
       " Row(age=32, firstName='Boris', lastName='Chemel', city='Bridgeport', postalCode='08014', state='NJ', streetAddress='8 W Cerritos Ave #54', telePhoneType='mobile'),\n",
       " Row(age=25, firstName='Josephine', lastName='Darakjy', city='Brighton', postalCode='48116', state='MI', streetAddress='4 B Blue Ridge Blvd', telePhoneType='mobile'),\n",
       " Row(age=22, firstName='Jane', lastName='Butterburg', city='New Orleans', postalCode='70116', state='LA', streetAddress='6649 N Blue Gum St', telePhoneType='mobile')]"
      ]
     },
     "execution_count": 50,
     "metadata": {},
     "output_type": "execute_result"
    }
   ],
   "source": [
    "df.sort(\"age\", ascending=False) .collect()\n",
    "#按字段age降序排列"
   ]
  },
  {
   "cell_type": "code",
   "execution_count": 51,
   "id": "88cc1970",
   "metadata": {},
   "outputs": [
    {
     "data": {
      "text/plain": [
       "[Row(age=35, firstName='Johnson', lastName='Smith', city='Bridgeport', postalCode='08112', state='NJ', streetAddress='5 W Blue Ave St', telePhoneType='mobile'),\n",
       " Row(age=32, firstName='Boris', lastName='Chemel', city='Bridgeport', postalCode='08014', state='NJ', streetAddress='8 W Cerritos Ave #54', telePhoneType='mobile'),\n",
       " Row(age=25, firstName='Josephine', lastName='Darakjy', city='Brighton', postalCode='48116', state='MI', streetAddress='4 B Blue Ridge Blvd', telePhoneType='mobile'),\n",
       " Row(age=22, firstName='Jane', lastName='Butterburg', city='New Orleans', postalCode='70116', state='LA', streetAddress='6649 N Blue Gum St', telePhoneType='mobile')]"
      ]
     },
     "execution_count": 51,
     "metadata": {},
     "output_type": "execute_result"
    }
   ],
   "source": [
    "df.orderBy([\"age\",\"phoneNumber\"],ascending=[0,1])  .collect()\n",
    "#按字段age降序、字段phoneNumber升序排列"
   ]
  },
  {
   "cell_type": "markdown",
   "id": "6d86d012",
   "metadata": {},
   "source": [
    "#### 替换缺失值\n",
    "##### replace操作"
   ]
  },
  {
   "cell_type": "code",
   "execution_count": 52,
   "id": "77915d19",
   "metadata": {},
   "outputs": [
    {
     "name": "stdout",
     "output_type": "stream",
     "text": [
      "+---+---------+----------+-----------+----------+-----+--------------------+-------------+\n",
      "|age|firstName|  lastName|       city|postalCode|state|       streetAddress|telePhoneType|\n",
      "+---+---------+----------+-----------+----------+-----+--------------------+-------------+\n",
      "| 25|Josephine|   Darakjy|   Brighton|     48116|   MI| 4 B Blue Ridge Blvd|       mobile|\n",
      "| 22|     Jane|Butterburg|New Orleans|     70116|   LA|  6649 N Blue Gum St|       mobile|\n",
      "| 32|    Boris|    Chemel| Bridgeport|     08014|   NJ|8 W Cerritos Ave #54|       mobile|\n",
      "| 35|  Johnson|     Smith| Bridgeport|     08112|   NJ|     5 W Blue Ave St|       mobile|\n",
      "+---+---------+----------+-----------+----------+-----+--------------------+-------------+\n",
      "\n"
     ]
    }
   ],
   "source": [
    "df.na.fill(50).show()   #用一个值替换空值"
   ]
  },
  {
   "cell_type": "code",
   "execution_count": 53,
   "id": "12cb4543",
   "metadata": {},
   "outputs": [
    {
     "name": "stdout",
     "output_type": "stream",
     "text": [
      "+---+---------+----------+-----------+----------+-----+--------------------+-------------+\n",
      "|age|firstName|  lastName|       city|postalCode|state|       streetAddress|telePhoneType|\n",
      "+---+---------+----------+-----------+----------+-----+--------------------+-------------+\n",
      "| 25|Josephine|   Darakjy|   Brighton|     48116|   MI| 4 B Blue Ridge Blvd|       mobile|\n",
      "| 22|     Jane|Butterburg|New Orleans|     70116|   LA|  6649 N Blue Gum St|       mobile|\n",
      "| 32|    Boris|    Chemel| Bridgeport|     08014|   NJ|8 W Cerritos Ave #54|       mobile|\n",
      "| 35|  Johnson|     Smith| Bridgeport|     08112|   NJ|     5 W Blue Ave St|       mobile|\n",
      "+---+---------+----------+-----------+----------+-----+--------------------+-------------+\n",
      "\n"
     ]
    }
   ],
   "source": [
    "df.na.drop().show()   #去除 df 中为空值的行"
   ]
  },
  {
   "cell_type": "code",
   "execution_count": 54,
   "id": "f275ce9f",
   "metadata": {},
   "outputs": [
    {
     "name": "stdout",
     "output_type": "stream",
     "text": [
      "+---+---------+----------+-----------+----------+-----+--------------------+-------------+\n",
      "|age|firstName|  lastName|       city|postalCode|state|       streetAddress|telePhoneType|\n",
      "+---+---------+----------+-----------+----------+-----+--------------------+-------------+\n",
      "| 25|Josephine|   Darakjy|   Brighton|     48116|   MI| 4 B Blue Ridge Blvd|       mobile|\n",
      "| 22|     Jane|Butterburg|New Orleans|     70116|   LA|  6649 N Blue Gum St|       mobile|\n",
      "| 32|    Boris|    Chemel| Bridgeport|     08014|   NJ|8 W Cerritos Ave #54|       mobile|\n",
      "| 35|  Johnson|     Smith| Bridgeport|     08112|   NJ|     5 W Blue Ave St|       mobile|\n",
      "+---+---------+----------+-----------+----------+-----+--------------------+-------------+\n",
      "\n"
     ]
    }
   ],
   "source": [
    "df.na.replace(10, 20).show()"
   ]
  },
  {
   "cell_type": "markdown",
   "id": "3e8da590",
   "metadata": {},
   "source": [
    "#### 重分区\n",
    "##### repartition重分区"
   ]
  },
  {
   "cell_type": "code",
   "execution_count": 55,
   "id": "577976f6",
   "metadata": {},
   "outputs": [
    {
     "data": {
      "text/plain": [
       "10"
      ]
     },
     "execution_count": 55,
     "metadata": {},
     "output_type": "execute_result"
    }
   ],
   "source": [
    "df.repartition(10)\\\n",
    "      .rdd \\\n",
    "      .getNumPartitions()   #将 df 拆分为10个分区"
   ]
  },
  {
   "cell_type": "code",
   "execution_count": 56,
   "id": "5fbd11ea",
   "metadata": {},
   "outputs": [
    {
     "data": {
      "text/plain": [
       "1"
      ]
     },
     "execution_count": 56,
     "metadata": {},
     "output_type": "execute_result"
    }
   ],
   "source": [
    "df.coalesce(1).rdd.getNumPartitions()   #将 df 合并为1个分区"
   ]
  },
  {
   "cell_type": "markdown",
   "id": "812a4f10",
   "metadata": {},
   "source": [
    "### 运行 SQL 查询\n",
    "#### 将数据帧注册为视图"
   ]
  },
  {
   "cell_type": "code",
   "execution_count": 57,
   "id": "e55fec7b",
   "metadata": {},
   "outputs": [],
   "source": [
    "df.createGlobalTempView(\"dfView\")"
   ]
  },
  {
   "cell_type": "code",
   "execution_count": 58,
   "id": "40570f01",
   "metadata": {},
   "outputs": [],
   "source": [
    "df.createTempView(\"customerView\")"
   ]
  },
  {
   "cell_type": "code",
   "execution_count": 59,
   "id": "adbc8c39",
   "metadata": {},
   "outputs": [],
   "source": [
    "df.createOrReplaceTempView(\"customerView\")"
   ]
  },
  {
   "cell_type": "markdown",
   "id": "0951e44e",
   "metadata": {},
   "source": [
    "#### 查询视图"
   ]
  },
  {
   "cell_type": "code",
   "execution_count": 60,
   "id": "f3ae75f2",
   "metadata": {},
   "outputs": [
    {
     "name": "stdout",
     "output_type": "stream",
     "text": [
      "+---+---------+----------+-----------+----------+-----+--------------------+-------------+\n",
      "|age|firstName|  lastName|       city|postalCode|state|       streetAddress|telePhoneType|\n",
      "+---+---------+----------+-----------+----------+-----+--------------------+-------------+\n",
      "| 25|Josephine|   Darakjy|   Brighton|     48116|   MI| 4 B Blue Ridge Blvd|       mobile|\n",
      "| 22|     Jane|Butterburg|New Orleans|     70116|   LA|  6649 N Blue Gum St|       mobile|\n",
      "| 32|    Boris|    Chemel| Bridgeport|     08014|   NJ|8 W Cerritos Ave #54|       mobile|\n",
      "| 35|  Johnson|     Smith| Bridgeport|     08112|   NJ|     5 W Blue Ave St|       mobile|\n",
      "+---+---------+----------+-----------+----------+-----+--------------------+-------------+\n",
      "\n"
     ]
    }
   ],
   "source": [
    "df5 = spark.sql(\"SELECT * FROM customerView\").show()"
   ]
  },
  {
   "cell_type": "code",
   "execution_count": 61,
   "id": "b2c9d848",
   "metadata": {},
   "outputs": [
    {
     "name": "stdout",
     "output_type": "stream",
     "text": [
      "+---+---------+----------+-----------+----------+-----+--------------------+-------------+\n",
      "|age|firstName|  lastName|       city|postalCode|state|       streetAddress|telePhoneType|\n",
      "+---+---------+----------+-----------+----------+-----+--------------------+-------------+\n",
      "| 25|Josephine|   Darakjy|   Brighton|     48116|   MI| 4 B Blue Ridge Blvd|       mobile|\n",
      "| 22|     Jane|Butterburg|New Orleans|     70116|   LA|  6649 N Blue Gum St|       mobile|\n",
      "| 32|    Boris|    Chemel| Bridgeport|     08014|   NJ|8 W Cerritos Ave #54|       mobile|\n",
      "| 35|  Johnson|     Smith| Bridgeport|     08112|   NJ|     5 W Blue Ave St|       mobile|\n",
      "+---+---------+----------+-----------+----------+-----+--------------------+-------------+\n",
      "\n"
     ]
    }
   ],
   "source": [
    "df2 = spark.sql(\"SELECT * FROM global_temp.dfView\").show()"
   ]
  },
  {
   "cell_type": "markdown",
   "id": "bffa2206",
   "metadata": {},
   "source": [
    "### 输出\n",
    "#### 数据结构"
   ]
  },
  {
   "cell_type": "code",
   "execution_count": 62,
   "id": "4b07ee8f",
   "metadata": {},
   "outputs": [],
   "source": [
    "rdd1 = df.rdd   #将 df 转换为 RDD"
   ]
  },
  {
   "cell_type": "code",
   "execution_count": 63,
   "id": "e1b7b95f",
   "metadata": {},
   "outputs": [
    {
     "data": {
      "text/plain": [
       "'{\"age\":25,\"firstName\":\"Josephine\",\"lastName\":\"Darakjy\",\"city\":\"Brighton\",\"postalCode\":\"48116\",\"state\":\"MI\",\"streetAddress\":\"4 B Blue Ridge Blvd\",\"telePhoneType\":\"mobile\"}'"
      ]
     },
     "execution_count": 63,
     "metadata": {},
     "output_type": "execute_result"
    }
   ],
   "source": [
    "df.toJSON().first()   #将 df 转换为 RDD 字符串"
   ]
  },
  {
   "cell_type": "code",
   "execution_count": 64,
   "id": "7f190039",
   "metadata": {},
   "outputs": [
    {
     "name": "stdout",
     "output_type": "stream",
     "text": [
      "Looking in indexes: https://pypi.tuna.tsinghua.edu.cn/simple\n",
      "Requirement already satisfied: pandas in /app/Miniconda3-py37_4.12.0/lib/python3.7/site-packages (1.3.5)\n",
      "Requirement already satisfied: python-dateutil>=2.7.3 in /app/Miniconda3-py37_4.12.0/lib/python3.7/site-packages (from pandas) (2.9.0.post0)\n",
      "Requirement already satisfied: pytz>=2017.3 in /app/Miniconda3-py37_4.12.0/lib/python3.7/site-packages (from pandas) (2024.1)\n",
      "Requirement already satisfied: numpy>=1.17.3 in /app/Miniconda3-py37_4.12.0/lib/python3.7/site-packages (from pandas) (1.21.6)\n",
      "Requirement already satisfied: six>=1.5 in /app/Miniconda3-py37_4.12.0/lib/python3.7/site-packages (from python-dateutil>=2.7.3->pandas) (1.16.0)\n"
     ]
    }
   ],
   "source": [
    "%%bash\n",
    "\n",
    "pip install pandas"
   ]
  },
  {
   "cell_type": "code",
   "execution_count": 65,
   "id": "cf7aff70",
   "metadata": {},
   "outputs": [
    {
     "data": {
      "text/html": [
       "<div>\n",
       "<style scoped>\n",
       "    .dataframe tbody tr th:only-of-type {\n",
       "        vertical-align: middle;\n",
       "    }\n",
       "\n",
       "    .dataframe tbody tr th {\n",
       "        vertical-align: top;\n",
       "    }\n",
       "\n",
       "    .dataframe thead th {\n",
       "        text-align: right;\n",
       "    }\n",
       "</style>\n",
       "<table border=\"1\" class=\"dataframe\">\n",
       "  <thead>\n",
       "    <tr style=\"text-align: right;\">\n",
       "      <th></th>\n",
       "      <th>age</th>\n",
       "      <th>firstName</th>\n",
       "      <th>lastName</th>\n",
       "      <th>city</th>\n",
       "      <th>postalCode</th>\n",
       "      <th>state</th>\n",
       "      <th>streetAddress</th>\n",
       "      <th>telePhoneType</th>\n",
       "    </tr>\n",
       "  </thead>\n",
       "  <tbody>\n",
       "    <tr>\n",
       "      <th>0</th>\n",
       "      <td>25</td>\n",
       "      <td>Josephine</td>\n",
       "      <td>Darakjy</td>\n",
       "      <td>Brighton</td>\n",
       "      <td>48116</td>\n",
       "      <td>MI</td>\n",
       "      <td>4 B Blue Ridge Blvd</td>\n",
       "      <td>mobile</td>\n",
       "    </tr>\n",
       "    <tr>\n",
       "      <th>1</th>\n",
       "      <td>22</td>\n",
       "      <td>Jane</td>\n",
       "      <td>Butterburg</td>\n",
       "      <td>New Orleans</td>\n",
       "      <td>70116</td>\n",
       "      <td>LA</td>\n",
       "      <td>6649 N Blue Gum St</td>\n",
       "      <td>mobile</td>\n",
       "    </tr>\n",
       "    <tr>\n",
       "      <th>2</th>\n",
       "      <td>32</td>\n",
       "      <td>Boris</td>\n",
       "      <td>Chemel</td>\n",
       "      <td>Bridgeport</td>\n",
       "      <td>08014</td>\n",
       "      <td>NJ</td>\n",
       "      <td>8 W Cerritos Ave #54</td>\n",
       "      <td>mobile</td>\n",
       "    </tr>\n",
       "    <tr>\n",
       "      <th>3</th>\n",
       "      <td>35</td>\n",
       "      <td>Johnson</td>\n",
       "      <td>Smith</td>\n",
       "      <td>Bridgeport</td>\n",
       "      <td>08112</td>\n",
       "      <td>NJ</td>\n",
       "      <td>5 W Blue Ave St</td>\n",
       "      <td>mobile</td>\n",
       "    </tr>\n",
       "  </tbody>\n",
       "</table>\n",
       "</div>"
      ],
      "text/plain": [
       "   age  firstName    lastName         city postalCode state  \\\n",
       "0   25  Josephine     Darakjy     Brighton      48116    MI   \n",
       "1   22       Jane  Butterburg  New Orleans      70116    LA   \n",
       "2   32      Boris      Chemel   Bridgeport      08014    NJ   \n",
       "3   35    Johnson       Smith   Bridgeport      08112    NJ   \n",
       "\n",
       "          streetAddress telePhoneType  \n",
       "0   4 B Blue Ridge Blvd        mobile  \n",
       "1    6649 N Blue Gum St        mobile  \n",
       "2  8 W Cerritos Ave #54        mobile  \n",
       "3       5 W Blue Ave St        mobile  "
      ]
     },
     "execution_count": 65,
     "metadata": {},
     "output_type": "execute_result"
    }
   ],
   "source": [
    "df.toPandas()   #将 df 的内容转为 Pandas 的数据帧"
   ]
  },
  {
   "cell_type": "markdown",
   "id": "a04dc333",
   "metadata": {},
   "source": [
    "### 保存至文件"
   ]
  },
  {
   "cell_type": "code",
   "execution_count": 66,
   "id": "a0c8a816",
   "metadata": {},
   "outputs": [],
   "source": [
    "df.select(\"firstName\", \"city\") .write \\\n",
    "  .save(\"nameAndCity.parquet\",mode='overwrite')"
   ]
  },
  {
   "cell_type": "code",
   "execution_count": 67,
   "id": "1afb5f39",
   "metadata": {},
   "outputs": [],
   "source": [
    "df.select(\"firstName\", \"age\") .write \\\n",
    "  .save(\"namesAndAges.json\",format=\"json\",mode='overwrite')"
   ]
  },
  {
   "cell_type": "markdown",
   "id": "95c443c1",
   "metadata": {},
   "source": [
    "### 终止SparkSession"
   ]
  },
  {
   "cell_type": "code",
   "execution_count": 68,
   "id": "09accb3d",
   "metadata": {},
   "outputs": [],
   "source": [
    "spark.stop()"
   ]
  }
 ],
 "metadata": {
  "kernelspec": {
   "display_name": "Python 3 (ipykernel)",
   "language": "python",
   "name": "python3"
  },
  "language_info": {
   "codemirror_mode": {
    "name": "ipython",
    "version": 3
   },
   "file_extension": ".py",
   "mimetype": "text/x-python",
   "name": "python",
   "nbconvert_exporter": "python",
   "pygments_lexer": "ipython3",
   "version": "3.7.13"
  }
 },
 "nbformat": 4,
 "nbformat_minor": 5
}
