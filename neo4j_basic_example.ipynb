{
 "cells": [
  {
   "cell_type": "markdown",
   "id": "7e474da4-26d9-4ede-b013-3c763509b246",
   "metadata": {
    "jp-MarkdownHeadingCollapsed": true
   },
   "source": [
    "## 此notebook开始时刻"
   ]
  },
  {
   "cell_type": "code",
   "execution_count": 57,
   "id": "07548e79-ed89-4e82-9880-118b07659385",
   "metadata": {},
   "outputs": [
    {
     "name": "stdout",
     "output_type": "stream",
     "text": [
      "2024年 03月 28日 星期四 16:56:31 CST\n"
     ]
    }
   ],
   "source": [
    "%%bash\n",
    "date"
   ]
  },
  {
   "cell_type": "markdown",
   "id": "b7eaad94-b4cb-4e96-994c-33dcff72d018",
   "metadata": {
    "jp-MarkdownHeadingCollapsed": true
   },
   "source": [
    "## 启动本jupyter notebook\n"
   ]
  },
  {
   "cell_type": "markdown",
   "id": "4726d435-3e46-49d8-bfc0-af30af4daf4f",
   "metadata": {},
   "source": [
    "\n",
    "https://mirrors.tuna.tsinghua.edu.cn/anaconda/miniconda/Miniconda3-py310_22.11.1-1-Linux-x86_64.sh\n",
    "\n",
    "```shell\n",
    "source /app/Miniconda3-py310_22.11.1-1/bin/activate\n",
    "cd /fridaAnlzAp/analyze_by_graph/\n",
    "jupyter notebook --NotebookApp.token='' --NotebookApp.password='' &\n",
    "```\n",
    "\n",
    "http://127.0.0.1:8888/tree\n"
   ]
  },
  {
   "cell_type": "markdown",
   "id": "6ec1a692-6170-4916-a1b0-56f4b6db93af",
   "metadata": {
    "jp-MarkdownHeadingCollapsed": true
   },
   "source": [
    "## 公共函数"
   ]
  },
  {
   "cell_type": "code",
   "execution_count": 1,
   "id": "6702d5df-3c22-4829-9a2d-a450def5a048",
   "metadata": {},
   "outputs": [],
   "source": [
    "\n",
    "from sqlite3 import Row as sqlite3Row\n",
    "import typing"
   ]
  },
  {
   "cell_type": "markdown",
   "id": "4be178c7-c7a2-4b52-b3b2-73b83c9b36f1",
   "metadata": {},
   "source": [
    "### sqlite3.Row转为字典Dict\n",
    "由于　sqlite3.Row没有合理的__str__, 因此　要转为Dict\n"
   ]
  },
  {
   "cell_type": "code",
   "execution_count": 2,
   "id": "f9f1eaf1-af43-46bd-8887-eaba44a89b28",
   "metadata": {},
   "outputs": [],
   "source": [
    "def sq3Rows2Dcts(_rowLs:typing.List[sqlite3Row])->typing.List[typing.Dict]:\n",
    "    dctLs=[ {**r} for r in _rowLs ]\n",
    "    return dctLs\n"
   ]
  },
  {
   "cell_type": "markdown",
   "id": "67b77be7-b024-4a33-8579-64226210c157",
   "metadata": {},
   "source": [
    "### 提取 sqlite3.Row 们 中的一个字段 "
   ]
  },
  {
   "cell_type": "code",
   "execution_count": 3,
   "id": "28827f48-15a2-4f3c-af2f-2be679e3a807",
   "metadata": {},
   "outputs": [],
   "source": [
    "\n",
    "def sq3Rows1Field(_rowLs:typing.List[sqlite3Row],fieldName:str)->typing.List[typing.Any]:\n",
    "    fldValLs=[ r[fieldName] for r in _rowLs ]\n",
    "    return fldValLs\n"
   ]
  },
  {
   "cell_type": "markdown",
   "id": "c030119d-1fc0-460d-bbdb-5e2884060ea7",
   "metadata": {},
   "source": [
    "### join 整数们"
   ]
  },
  {
   "cell_type": "code",
   "execution_count": 4,
   "id": "9141d0aa-9e10-4558-87d8-ac5e0e2bb114",
   "metadata": {},
   "outputs": [],
   "source": [
    "\n",
    "\n",
    "def joinInts(_intLs:typing.List[int],_sep:str=\",\")->str:\n",
    "    _strLs=[f\"{k}\" for k in _intLs]\n",
    "    return _sep.join(_strLs)"
   ]
  },
  {
   "cell_type": "markdown",
   "id": "b15c80fa-1a3b-4c93-9ea3-c1344f205f54",
   "metadata": {
    "jp-MarkdownHeadingCollapsed": true
   },
   "source": [
    "## 获取 日志文件全路径"
   ]
  },
  {
   "cell_type": "code",
   "execution_count": 5,
   "id": "78c739d1-3459-46cd-a3e3-3112277de913",
   "metadata": {},
   "outputs": [
    {
     "name": "stdout",
     "output_type": "stream",
     "text": [
      "-rwxrwxrwx 1 z z 311M  3月 28 16:27 /fridaAnlzAp/frida_js/frida-trace-out-RunBuszJs-1711614381.log\n",
      "1045003 /fridaAnlzAp/frida_js/frida-trace-out-RunBuszJs-1711614381.log\n"
     ]
    }
   ],
   "source": [
    "%%bash\n",
    "\n",
    "ls -lh  /fridaAnlzAp/frida_js/*RunBuszJs*.log\n",
    "wc -l /fridaAnlzAp/frida_js/*RunBuszJs*.log"
   ]
  },
  {
   "cell_type": "code",
   "execution_count": 6,
   "id": "26f72038-0689-40bf-897c-67c272c53889",
   "metadata": {},
   "outputs": [],
   "source": [
    "from pathlib import Path\n",
    "logF_ls=[ * Path(\"/fridaAnlzAp/frida_js/\").glob(\"./frida-trace-out-RunBuszJs-*.log\") ]\n",
    "assert len(logF_ls)==1"
   ]
  },
  {
   "cell_type": "markdown",
   "id": "f150a159-fc9b-42eb-9632-2b2ca762fdae",
   "metadata": {},
   "source": [
    "日志文件全路径举例, ```TorchFnCallLogFP=\"/fridaAnlzAp/frida_js/frida-trace-out-RunBuszJs-1711614381.log\"```"
   ]
  },
  {
   "cell_type": "code",
   "execution_count": 7,
   "id": "97504f4d-a8d7-4a55-81aa-8379b8586902",
   "metadata": {},
   "outputs": [],
   "source": [
    "TorchFnCallLogFP=logF_ls[0].as_posix()"
   ]
  },
  {
   "cell_type": "markdown",
   "id": "c138aa5e-e148-4622-9396-e87f9bc7bc10",
   "metadata": {
    "jp-MarkdownHeadingCollapsed": true
   },
   "source": [
    "## torch函数调用日志文件 按行遍历器"
   ]
  },
  {
   "cell_type": "markdown",
   "id": "b445c73e-e9b6-4a0d-a6cf-614e4abb07e6",
   "metadata": {},
   "source": [
    " 逐行加载 frida_js生产的日志文件"
   ]
  },
  {
   "cell_type": "code",
   "execution_count": 8,
   "id": "543f77f7-fd63-4c1e-bc6b-f5a243a2ff02",
   "metadata": {},
   "outputs": [],
   "source": [
    "\n",
    "import json\n",
    "#FirstLineFunc 只在开发时用\n",
    "# LogFP==TorchFnCallLogFP\n",
    "def iterLogF(LogFP:str,LineFunc=None,FirstLineFunc=None)->int:\n",
    "    LogF= open(LogFP,\"r\")\n",
    "\n",
    "    hasFrtLnFunc=FirstLineFunc is not None\n",
    "    hasLineFunc= LineFunc is not None\n",
    "\n",
    "    #如果指定了FirstLineFunc, 则表明现在是开发状态,只看第一行后结束循环\n",
    "    if hasFrtLnFunc and not hasLineFunc:\n",
    "        k,lnK=0,LogF.readline()\n",
    "        FirstLineFunc(k,ln0_json)\n",
    "    elif hasLineFunc:        \n",
    "        for k,lnK in enumerate( LogF ):\n",
    "            if k % 500000 == 0 :  print(f\"即将处理第{k}行日志\")\n",
    "    \n",
    "            lnK_json=json.loads(lnK)\n",
    "    \n",
    "            #对每行 都执行回调行数\n",
    "            LineFunc(k,lnK_json)\n",
    "    else:\n",
    "        raise Exception(f\"函数 iterLogF 条件混乱, hasFrtLnFunc={hasFrtLnFunc},hasLineFunc={hasLineFunc}\")\n",
    "\n",
    "\n",
    "    #关闭日志文件\n",
    "    LogF.close()\n",
    "    \n",
    "    lineCnt:int=k+1\n",
    "    print(f\"已处理,文件{LogFP}共{lineCnt}行\")\n",
    "\n",
    "    #返回日志文件中行个数\n",
    "    return lineCnt\n",
    "    "
   ]
  },
  {
   "cell_type": "code",
   "execution_count": 9,
   "id": "7a210b20-a10f-4017-9ec1-04fd6646fe70",
   "metadata": {},
   "outputs": [
    {
     "name": "stdout",
     "output_type": "stream",
     "text": [
      "即将处理第0行日志\n",
      "即将处理第500000行日志\n",
      "即将处理第1000000行日志\n",
      "已处理,文件/fridaAnlzAp/frida_js/frida-trace-out-RunBuszJs-1711614381.log共1045003行\n",
      "最后一行 <class 'dict'> \n",
      " {'tmPnt': 1045003, 'logId': 1045003, 'processId': 864575, 'curThreadId': 864575, 'direct': 2, 'fnAdr': '0x7ffff61cdd3c', 'fnCallId': 522488, 'fnSym': {'address': '0x7ffff61cdd3c', 'name': '_M_deallocate_buckets', 'moduleName': 'libc10.so', 'fileName': '/usr/include/c++/9/bits/hashtable.h', 'lineNumber': 374, 'column': 7}}\n"
     ]
    }
   ],
   "source": [
    "#显示最后一行的结构\n",
    "lnEnd_json=None\n",
    "def assignEveryLn(k,lnK_json):\n",
    "    global lnEnd_json\n",
    "    lnEnd_json=lnK_json\n",
    "        \n",
    "    \n",
    "iterLogF(TorchFnCallLogFP,assignEveryLn)\n",
    "\n",
    "print(\"最后一行\",type(lnEnd_json), \"\\n\",lnEnd_json)\n",
    "del lnEnd_json\n",
    "\n"
   ]
  },
  {
   "cell_type": "markdown",
   "id": "76c0ae43-7a69-40bb-b9f1-a961a20c1616",
   "metadata": {
    "jp-MarkdownHeadingCollapsed": true
   },
   "source": [
    "##  torch函数调用日志文件 装入 sqlite3 "
   ]
  },
  {
   "cell_type": "markdown",
   "id": "c909705a-e859-45b8-adfd-67cffec157d9",
   "metadata": {},
   "source": [
    "### 初始化sqlite3数据库(表结构)"
   ]
  },
  {
   "cell_type": "code",
   "execution_count": 10,
   "id": "cc05dbae-9c09-40b2-9cd7-08e4762c5223",
   "metadata": {},
   "outputs": [
    {
     "name": "stdout",
     "output_type": "stream",
     "text": [
      "None\n"
     ]
    }
   ],
   "source": [
    "import sqlite3\n",
    "# sq3dbConn = sqlite3.connect(':memory:')\n",
    "sq3dbConn = sqlite3.connect('./FnCallLog.db')\n",
    "\n",
    "#设置sqlite3.connect.execute.fetchall返回字典列表而非tuple列表\n",
    "origin_sq3dbConn_row_factory=sq3dbConn.row_factory #先备份\n",
    "sq3dbConn.row_factory = sqlite3.Row #再修改\n",
    "\n",
    "#sqlite3 不需要游标cursor,直接用连接执行语句\n",
    "# sq3Cursr = sq3dbConn.cursor()\n",
    "\n",
    "print(origin_sq3dbConn_row_factory)\n"
   ]
  },
  {
   "cell_type": "code",
   "execution_count": 11,
   "id": "37c842bb-2be3-4d18-ad06-c1df66aa78cc",
   "metadata": {},
   "outputs": [
    {
     "data": {
      "text/plain": [
       "<sqlite3.Cursor at 0x7ffff47057c0>"
      ]
     },
     "execution_count": 11,
     "metadata": {},
     "output_type": "execute_result"
    }
   ],
   "source": [
    "\n",
    "# 2+8*2 == 18\n",
    "sq3dbConn.execute(\"drop TABLE if exists t_FnSym \")\n",
    "sq3dbConn.execute(\"\"\"\n",
    "CREATE TABLE t_FnSym (\n",
    "address char(18) PRIMARY KEY,  \n",
    "name varchar(256), \n",
    "moduleName  varchar(32), \n",
    "fileName  varchar(256), \n",
    "lineNumber integer,\n",
    "column integer\n",
    ")\n",
    "\"\"\")\n",
    "\n",
    "sq3dbConn.execute(\"drop TABLE if exists t_FnCallLog \")\n",
    "sq3dbConn.execute(\"\"\"\n",
    "CREATE TABLE t_FnCallLog (\n",
    "logId integer PRIMARY KEY, \n",
    "tmPnt integer,\n",
    "processId integer,\n",
    "curThreadId integer, \n",
    "direct short, \n",
    "fnAdr char(18),\n",
    "fnCallId integer,\n",
    "fnSymId char(18)\n",
    ")\n",
    "\"\"\")\n",
    "\n",
    "\n",
    "#有按字段t_FnCallLog.fnCallId查询，因此该字段得有索引\n",
    "sq3dbConn.execute(\"\"\"\n",
    "CREATE INDEX idx__t_FnCallLog__fnCallId ON t_FnCallLog (fnCallId)\n",
    "\"\"\")\n"
   ]
  },
  {
   "cell_type": "markdown",
   "id": "0b2598e4-ed87-4cf2-9c5c-3f9e143d1dcf",
   "metadata": {},
   "source": [
    "### 写 表 FnSym"
   ]
  },
  {
   "cell_type": "markdown",
   "id": "b2b53542-d77f-453b-8650-f83d246c53e4",
   "metadata": {},
   "source": [
    "#### sql语句模板"
   ]
  },
  {
   "cell_type": "code",
   "execution_count": 12,
   "id": "6f2e6b73-8228-4216-8bd6-031684bd6fec",
   "metadata": {},
   "outputs": [],
   "source": [
    "sqlTmpl_t_FnSym_query=f\"select address, name,moduleName,fileName,lineNumber,column from t_FnSym where  address = ?\"\n",
    "sqlTmpl_t_FnSym_insert=f\"INSERT INTO t_FnSym (address, name,moduleName,fileName,lineNumber,column) VALUES (?,?,?,?,?,?)\""
   ]
  },
  {
   "cell_type": "markdown",
   "id": "7a0fb352-0f9a-488f-b924-364789656454",
   "metadata": {},
   "source": [
    "#### 行回调函数中执行插入"
   ]
  },
  {
   "cell_type": "code",
   "execution_count": 13,
   "id": "67b16bdb-e1fc-462c-b1ca-f782ee1420a7",
   "metadata": {},
   "outputs": [],
   "source": [
    "\n",
    "def assertRowEqFnSym(r,fnSym):\n",
    "    assert  \\\n",
    "r[\"address\"]==fnSym[\"address\"] and \\\n",
    "r[\"name\"]==fnSym[\"name\"] and \\\n",
    "r[\"moduleName\"]==fnSym[\"moduleName\"] and \\\n",
    "r[\"fileName\"]==fnSym[\"fileName\"] and \\\n",
    "r[\"lineNumber\"]==fnSym[\"lineNumber\"] and \\\n",
    "r[\"column\"]==fnSym[\"column\"], f\"断言 frida_js项目中 每次 写入的 从DebugSymb中按地址读取出来的 fnSym 是 不变的, rowInSqlite3Tab={r},fnSym={fnSym}\"\n",
    "\n",
    "def sq3_insert_t_FnSym(lnNum,ln):\n",
    "    fnSym=ln['fnSym'] \n",
    "    try:\n",
    "        row_ls=sq3dbConn.execute(sqlTmpl_t_FnSym_query,[ fnSym['address']  ]).fetchall()\n",
    "        #若已经有fnSym,则跳过（即不必再插入）\n",
    "        if row_ls is not None and len(row_ls) > 0:\n",
    "            #下面断言意义不大 是在验证 sqlite3的主键 是否 真唯一\n",
    "            assert len(row_ls) == 1, \"断言失败，一个地址只能有一个fnSym\"  \n",
    "            #下面断言意义不大 是在验证 frida_js项目中 每次 写入的 从DebugSymb中按地址读取出来的 fnSym 是 不变的\n",
    "            r=row_ls[0] ; assertRowEqFnSym(r,fnSym)\n",
    "            return\n",
    "\n",
    "        #torch源文件路径前的无意义部分换成相对路径\n",
    "        fileName=fnSym['fileName'].replace('/home/z/torch-repo/pytorch/', './')\n",
    "        \n",
    "        sq3dbConn.execute(sqlTmpl_t_FnSym_insert,\n",
    "[ fnSym['address'], fnSym['name'], fnSym['moduleName'], fnSym['fileName'], fnSym['lineNumber'], fnSym['column'] ])\n",
    "    except (KeyError, ValueError) as e:\n",
    "        print(\"出错行为\",ln)\n",
    "        import traceback\n",
    "        traceback.print_exception(e)\n",
    "        raise e\n",
    "\n",
    "\n",
    "\n",
    "\n"
   ]
  },
  {
   "cell_type": "code",
   "execution_count": 14,
   "id": "bb8f658a-bfeb-4784-a8bb-5d87782d2a6f",
   "metadata": {},
   "outputs": [
    {
     "name": "stdout",
     "output_type": "stream",
     "text": [
      "从表t_FnSym删除行数  0\n",
      "即将处理第0行日志\n",
      "即将处理第500000行日志\n",
      "即将处理第1000000行日志\n",
      "已处理,文件/fridaAnlzAp/frida_js/frida-trace-out-RunBuszJs-1711614381.log共1045003行\n"
     ]
    },
    {
     "data": {
      "text/plain": [
       "1045003"
      ]
     },
     "execution_count": 14,
     "metadata": {},
     "output_type": "execute_result"
    }
   ],
   "source": [
    "print(\"从表t_FnSym删除行数 \",sq3dbConn.execute(\"delete from t_FnSym\").rowcount)\n",
    "    \n",
    "iterLogF(TorchFnCallLogFP,LineFunc=sq3_insert_t_FnSym)\n"
   ]
  },
  {
   "cell_type": "markdown",
   "id": "fa26ef5f-2aee-4a44-bf04-958b20387e4e",
   "metadata": {},
   "source": [
    "#### 开发调试用语句"
   ]
  },
  {
   "cell_type": "code",
   "execution_count": 15,
   "id": "1d96d0b7-88d2-46b0-9622-ec376284f493",
   "metadata": {},
   "outputs": [],
   "source": [
    "# iterLogF(TorchFnCallLogFP,FirstLineFunc=sq3_insert_t_FnSym)"
   ]
  },
  {
   "cell_type": "code",
   "execution_count": 16,
   "id": "aff2c467-3cf5-442b-8963-4116fbb5dd13",
   "metadata": {},
   "outputs": [
    {
     "data": {
      "text/plain": [
       "[<sqlite3.Row at 0x7ffff06113c0>]"
      ]
     },
     "execution_count": 16,
     "metadata": {},
     "output_type": "execute_result"
    }
   ],
   "source": [
    "sq3dbConn.execute(sqlTmpl_t_FnSym_query,[ '0x7ffff61cdd3c'  ]).fetchall()"
   ]
  },
  {
   "cell_type": "markdown",
   "id": "c708d2fb-955f-4254-bc3a-a2564b460034",
   "metadata": {},
   "source": [
    "###  写 表FnCallLog"
   ]
  },
  {
   "cell_type": "markdown",
   "id": "99b51790-58da-4848-9923-d5878a68a8d8",
   "metadata": {},
   "source": [
    "#### sql语句模板"
   ]
  },
  {
   "cell_type": "code",
   "execution_count": 17,
   "id": "e6f7f386-f324-4e3f-980a-35509e7f25a6",
   "metadata": {},
   "outputs": [],
   "source": [
    "\n",
    "sqlTmpl_t_FnCallLog_insert=f\"INSERT INTO t_FnCallLog (logId,tmPnt,processId,curThreadId,direct,fnAdr,fnCallId,fnSymId) VALUES (?,?,?,?,?,?,?,?)\""
   ]
  },
  {
   "cell_type": "markdown",
   "id": "39c13c22-f0e4-4f24-8eb5-29f96b5060c3",
   "metadata": {},
   "source": [
    "#### 行回调函数中执行插入"
   ]
  },
  {
   "cell_type": "code",
   "execution_count": 18,
   "id": "3ba83a4e-d0b4-4e4b-a6e6-7cfa93a52a2e",
   "metadata": {},
   "outputs": [],
   "source": [
    "\n",
    "def sq3_insert_t_FnCallLog(lnNum,ln):\n",
    "    try:\n",
    "        sq3dbConn.execute(sqlTmpl_t_FnCallLog_insert,[ ln['logId'],ln['tmPnt'],ln['processId'], ln['curThreadId'],ln['direct'],ln['fnAdr'],ln['fnCallId'],ln['fnSym']['address'] ])\n",
    "    except (KeyError, ValueError) as e:\n",
    "        print(\"出错行为\",ln)\n",
    "        import traceback\n",
    "        traceback.print_exception(e)\n",
    "        raise e\n",
    "        \n",
    "\n",
    "\n"
   ]
  },
  {
   "cell_type": "code",
   "execution_count": 19,
   "id": "c89fb2e5-0235-4718-b6fa-e4265066e351",
   "metadata": {},
   "outputs": [
    {
     "name": "stdout",
     "output_type": "stream",
     "text": [
      "从表t_FnCallLog删除行数  0\n",
      "即将处理第0行日志\n",
      "即将处理第500000行日志\n",
      "即将处理第1000000行日志\n",
      "已处理,文件/fridaAnlzAp/frida_js/frida-trace-out-RunBuszJs-1711614381.log共1045003行\n"
     ]
    }
   ],
   "source": [
    "print(\"从表t_FnCallLog删除行数 \",sq3dbConn.execute(\"delete from t_FnCallLog\").rowcount)    \n",
    "LogLineCnt:int=iterLogF(TorchFnCallLogFP,LineFunc=sq3_insert_t_FnCallLog)\n"
   ]
  },
  {
   "cell_type": "markdown",
   "id": "734cd3d3-c628-4c81-9ca2-93bf5a7a10cb",
   "metadata": {},
   "source": [
    "#### 开发调试用语句"
   ]
  },
  {
   "cell_type": "code",
   "execution_count": 20,
   "id": "91379ed8-28ca-4e3d-b84e-67d2ce2ed1f8",
   "metadata": {},
   "outputs": [
    {
     "data": {
      "text/plain": [
       "[<sqlite3.Row at 0x7ffff0613df0>]"
      ]
     },
     "execution_count": 20,
     "metadata": {},
     "output_type": "execute_result"
    }
   ],
   "source": [
    "# iterLogF(TorchFnCallLogFP,FirstLineFunc=sq3_insert_t_FnCallLog)\n",
    "sq3dbConn.execute(\"select count(*) from t_FnCallLog\").fetchall()"
   ]
  },
  {
   "cell_type": "markdown",
   "id": "5a9f184b-5b84-4473-a55d-8a127ca5bccf",
   "metadata": {},
   "source": [
    "### 提交、关闭sqlite3数据库"
   ]
  },
  {
   "cell_type": "code",
   "execution_count": 21,
   "id": "6c22491f-718a-4d4a-bec4-c07d040c4ab2",
   "metadata": {},
   "outputs": [],
   "source": [
    "\n",
    "sq3dbConn.commit()\n",
    "# sq3dbConn.close()\n"
   ]
  },
  {
   "cell_type": "code",
   "execution_count": 22,
   "id": "256d1a5b-166f-4270-a989-9a11d32bd632",
   "metadata": {},
   "outputs": [
    {
     "name": "stdout",
     "output_type": "stream",
     "text": [
      "总计 70M\n",
      "-rwxrwxrwx 1 z z 70M  3月 28 16:40 FnCallLog.db\n",
      "-rwxrwxrwx 1 z z 38K  3月 28 16:40 neo4j_basic_example.ipynb\n",
      "-rwxrwxrwx 1 z z 920  3月 27 12:53 readme.md\n"
     ]
    }
   ],
   "source": [
    "!ls -lh"
   ]
  },
  {
   "cell_type": "markdown",
   "id": "036acf6b-ced5-4f3d-86a4-abc2f804f732",
   "metadata": {
    "jp-MarkdownHeadingCollapsed": true
   },
   "source": [
    "## 找进出不平衡的fnCallId\n"
   ]
  },
  {
   "cell_type": "markdown",
   "id": "9f7ba176-8403-4081-84e5-c686061f4cc2",
   "metadata": {},
   "source": [
    "\n",
    " 以前用spark也找出过[sql方式找进出不平衡的fncallid](http://giteaz:3000/frida_analyze_app_src/analyze_by_graph/raw/tag/%E5%AE%8C%E5%A4%87%E4%BE%8B%E5%AD%90/spark3.5.0_pyspark3.5.0_sql%E4%B8%BA%E4%B8%BB/spark_demo_pyspark.ipynb#sql%E6%96%B9%E5%BC%8F%E6%89%BE%E8%BF%9B%E5%87%BA%E4%B8%8D%E5%B9%B3%E8%A1%A1%E7%9A%84fncallid)，　可以作为这里的对比"
   ]
  },
  {
   "cell_type": "markdown",
   "id": "ef411576-e337-4478-b0e3-717aa79fc760",
   "metadata": {},
   "source": [
    "### 找到不平衡的fnCallId列表 \n",
    "\n"
   ]
  },
  {
   "cell_type": "code",
   "execution_count": 23,
   "id": "f86d53af-1579-49cc-a2a3-3dc50807cddc",
   "metadata": {},
   "outputs": [
    {
     "name": "stdout",
     "output_type": "stream",
     "text": [
      "[{'fnCallId': 522484, 'cnt': 1}]\n",
      "找到不平衡的fnCallId列表　 notBalancedFnCallIdLs= [522484]\n"
     ]
    }
   ],
   "source": [
    "#找到不平衡的fnCallId列表　clIdLs_notBlc\n",
    "_clIdCnLs_nBl=sq3dbConn.execute(\"select fnCallId,count(*) cnt from t_FnCallLog group by fnCallId having cnt=1\").fetchall()\n",
    "print(sq3Rows2Dcts(_clIdCnLs_nBl))\n",
    "notBalancedFnCallIdLs=sq3Rows1Field(_clIdCnLs_nBl,'fnCallId')\n",
    "print(\"找到不平衡的fnCallId列表　 notBalancedFnCallIdLs=\",notBalancedFnCallIdLs)\n"
   ]
  },
  {
   "cell_type": "markdown",
   "id": "663b713c-65ac-4822-bfc6-a7910551e90f",
   "metadata": {},
   "source": [
    "### _ 找到不平衡的FnCallLog列表 "
   ]
  },
  {
   "cell_type": "code",
   "execution_count": 24,
   "id": "d668068c-8cc8-4a79-ac95-189b00c91c86",
   "metadata": {},
   "outputs": [
    {
     "name": "stdout",
     "output_type": "stream",
     "text": [
      "找到不平衡的FnCallLog列表 _clLogLs_nBl= [{'logId': 1044967, 'tmPnt': 1044967, 'processId': 864575, 'curThreadId': 864575, 'direct': 1, 'fnAdr': '0x7ffff61cda54', 'fnCallId': 522484, 'fnSymId': '0x7ffff61cda54'}]\n"
     ]
    }
   ],
   "source": [
    "#找到不平衡的FnCallLog列表 _clLogLs_nBl\n",
    "\n",
    "_clIdStrLs_nBl=joinInts(notBalancedFnCallIdLs)\n",
    "# type(_rowLs[0][\"fnCallId\"])\n",
    "_clLogLs_nBl=sq3dbConn.execute(f\"select  *  from t_FnCallLog where fnCallId in ({_clIdStrLs_nBl})\" ).fetchall()\n",
    "print(\"找到不平衡的FnCallLog列表 _clLogLs_nBl=\",sq3Rows2Dcts(_clLogLs_nBl))\n",
    "\n"
   ]
  },
  {
   "cell_type": "markdown",
   "id": "5af72c54-43bc-4e8d-b68e-7bb0caf9ef2e",
   "metadata": {},
   "source": [
    "### _ 找到不平衡的FnSym列表 "
   ]
  },
  {
   "cell_type": "code",
   "execution_count": 25,
   "id": "d088760d-5164-4e7d-a29b-c63517e602c4",
   "metadata": {},
   "outputs": [
    {
     "name": "stdout",
     "output_type": "stream",
     "text": [
      "找到不平衡的FnSym列表 _symLs_nBl= [{'address': '0x7ffff61cda54', 'name': '_ZNSt10_HashtableIN3c1012TensorTypeIdES1_SaIS1_ENSt8__detail9_IdentityESt8equal_toIS1_ESt4hashIS1_ENS3_18_Mod_range_hashingENS3_20_Default_ranged_hashENS3_20_Prime_rehash_policyENS3_17_Hashtable_traitsILb1ELb1ELb1EEEED1Ev', 'moduleName': 'libc10.so', 'fileName': '', 'lineNumber': 0, 'column': 0}]\n"
     ]
    }
   ],
   "source": [
    "\n",
    "#找到不平衡的FnSym列表 _symLs_nBl\n",
    "\n",
    "_symIdLs_notBlc=sq3Rows1Field(_clLogLs_nBl,'fnSymId')\n",
    "_symIdStrLs_notBlc=f'''\"{joinInts(_symIdLs_notBlc,'\",\"')}\"'''\n",
    "_symLs_nBl=sq3dbConn.execute(f\"select  *  from t_FnSym where address in ({_symIdStrLs_notBlc})\" ).fetchall()\n",
    "print(\"找到不平衡的FnSym列表 _symLs_nBl=\",sq3Rows2Dcts(_symLs_nBl))\n",
    "\n",
    "\n"
   ]
  },
  {
   "cell_type": "markdown",
   "id": "2b6797ce-b35d-4ce6-b300-d850f1c06deb",
   "metadata": {
    "jp-MarkdownHeadingCollapsed": true
   },
   "source": [
    "## neo4j 社区版 安装、启动\n"
   ]
  },
  {
   "cell_type": "markdown",
   "id": "6e6341a5-b09d-42f6-9f1f-b4f65b58c0a4",
   "metadata": {},
   "source": [
    "\n",
    "https://hub.docker.com/layers/library/neo4j/4.4.32-community/images/sha256-ce25409b8c3cfaa9a63f4e182753d09266881893e667d0298935ad4bfb0f11e5?context=explore\n"
   ]
  },
  {
   "cell_type": "markdown",
   "id": "c34f6c37-669a-408e-9980-5ae4649706fe",
   "metadata": {},
   "source": [
    "###  安装、启动"
   ]
  },
  {
   "cell_type": "code",
   "execution_count": 26,
   "id": "8a0f2391-1246-487f-8962-4c262ab59fdf",
   "metadata": {},
   "outputs": [],
   "source": [
    "%%bash\n",
    "# docker pull neo4j:4.4.32-community\n",
    "# docker run -d -p 7474:7474 -p 7687:7687 --name neo4j -e \"NEO4J_AUTH=neo4j/123456\" neo4j:4.4.32-community"
   ]
  },
  {
   "cell_type": "markdown",
   "id": "84d87a47-6106-4b19-8aa2-a438cd03e77e",
   "metadata": {},
   "source": [
    "###  日常启动"
   ]
  },
  {
   "cell_type": "code",
   "execution_count": 27,
   "id": "86ed99c7-251a-48e7-b45b-133631db1831",
   "metadata": {},
   "outputs": [],
   "source": [
    "%%bash\n",
    "# docker start  neo4j "
   ]
  },
  {
   "cell_type": "markdown",
   "id": "2e888189-fbd5-4a8a-ad44-df9f619a7425",
   "metadata": {},
   "source": [
    "### web控制台 访问"
   ]
  },
  {
   "cell_type": "markdown",
   "id": "46247cc1-e69e-4143-b999-415500e5d807",
   "metadata": {},
   "source": [
    "http://localhost:7474/browser/  ， 输入用户名、密码，  到达 neo4j 的web控制台"
   ]
  },
  {
   "cell_type": "markdown",
   "id": "a227f11b-85ff-4027-8c50-798cf60f3c6a",
   "metadata": {
    "jp-MarkdownHeadingCollapsed": true
   },
   "source": [
    "## 写 neo4j 顶点(日志行号）、边（同fnCallId的进和出） "
   ]
  },
  {
   "cell_type": "markdown",
   "id": "4967e767-5a63-42a0-86ec-7f936953c48e",
   "metadata": {},
   "source": [
    "\n",
    "写 neo4j 顶点(日志行号）、边（同fnCallId的函数进入指向函数退出） \n",
    "\n",
    "，来自 https://neo4j.com/docs/api/python-driver/5.18/#quick-example\n"
   ]
  },
  {
   "cell_type": "markdown",
   "id": "c8d2e856-6f6a-4c0f-9d53-06cf9cab3ba1",
   "metadata": {},
   "source": [
    "### python连接neo4j"
   ]
  },
  {
   "cell_type": "code",
   "execution_count": 28,
   "id": "a8bbcd19-14c2-4202-90ac-aca705e80087",
   "metadata": {},
   "outputs": [],
   "source": [
    "from neo4j import GraphDatabase, RoutingControl\n",
    "\n",
    "\n",
    "URI = \"neo4j://localhost:7687\"\n",
    "AUTH = (\"neo4j\", \"123456\")\n"
   ]
  },
  {
   "cell_type": "code",
   "execution_count": 29,
   "id": "96fab4dd-4e75-4132-85f6-0049df910149",
   "metadata": {},
   "outputs": [],
   "source": [
    "\n",
    "driver=GraphDatabase.driver(URI, auth=AUTH)\n",
    "# driver.close() #到最后再关闭neo4j的连接\n"
   ]
  },
  {
   "cell_type": "markdown",
   "id": "36798b67-b7ff-413f-b9ab-00fbe8d83c88",
   "metadata": {},
   "source": [
    "### 删除现有顶点、边"
   ]
  },
  {
   "cell_type": "markdown",
   "id": "b3a1e8ee-23d1-49db-af0e-2f1b7518e1a9",
   "metadata": {},
   "source": [
    "#### 删除关系 E_FnEL\n",
    "\n",
    "E_FnEL == \"Edge FunctionEnter  ---> FunctionLeave\""
   ]
  },
  {
   "cell_type": "code",
   "execution_count": 30,
   "id": "da87847b-6a4e-404a-b158-9c5de3f6056c",
   "metadata": {},
   "outputs": [],
   "source": [
    "#一次删除行数\n",
    "_LnCntIn1Batch_Del=100000"
   ]
  },
  {
   "cell_type": "code",
   "execution_count": 31,
   "id": "df3211de-38b6-4c4f-bbdc-75c0dcacb862",
   "metadata": {},
   "outputs": [],
   "source": [
    "\n",
    "# 删除关系 E_FnEL\n",
    "Cypher_delete_E_FnEL=\"\"\"\n",
    "MATCH ()-[r:E_FnEL]-()\n",
    "WITH r\n",
    "LIMIT 100000\n",
    "DETACH DELETE r\n",
    "\"\"\"\n",
    "# 不把 py变量 _LnCntIn1Batch_Del 写入 Cypher 语句 中, 为了以后容易阅读\n",
    "\n",
    "# 循环删除, 因为一次行删除 可能报内存超出\n",
    "for k in range(0,LogLineCnt,_LnCntIn1Batch_Del-1):\n",
    "    driver.execute_query(Cypher_delete_E_FnEL,database_=\"neo4j\",)\n"
   ]
  },
  {
   "cell_type": "markdown",
   "id": "0fdfd6b2-5bc8-4980-8583-23b4ad562775",
   "metadata": {},
   "source": [
    "#### 删除顶点 V_FnCallLog"
   ]
  },
  {
   "cell_type": "code",
   "execution_count": 32,
   "id": "dc840507-aefb-4550-8ca7-13dea29ba0d0",
   "metadata": {
    "scrolled": true
   },
   "outputs": [],
   "source": [
    "\n",
    "# 删除顶点 V_FnCallLog\n",
    "Cypher_delete_V_FnCallLog=\"\"\"\n",
    "MATCH (n:V_FnCallLog)\n",
    "WITH n\n",
    "LIMIT 100000\n",
    "DETACH DELETE n\n",
    "\"\"\"\n",
    "# 不把 py变量 _LnCntIn1Batch_Del 写入 Cypher 语句 中, 为了以后容易阅读\n",
    "\n",
    "# 循环删除, 因为一次行删除 可能报内存超出\n",
    "for k in range(0,LogLineCnt,_LnCntIn1Batch_Del-1):\n",
    "    driver.execute_query(Cypher_delete_V_FnCallLog,database_=\"neo4j\",)\n"
   ]
  },
  {
   "cell_type": "markdown",
   "id": "b770fb55-86ea-4c6d-bd20-69dbab665b24",
   "metadata": {},
   "source": [
    "一次删除全部顶点(边)可能报内存超出\n",
    "\n",
    "一次删除全部顶点语句如下\n",
    "```cypher\n",
    "MATCH (n:V_FnCallLog)\n",
    "DELETE n\n",
    "```\n",
    "\n",
    "一次删除全部边语句如下\n",
    "```cypher\n",
    "MATCH ()-[r:E_FnEL]-()\n",
    "DELETE r\n",
    "```"
   ]
  },
  {
   "cell_type": "markdown",
   "id": "b1dfa0c7-7adb-4c0e-a4e8-c7ee343dd858",
   "metadata": {},
   "source": [
    "### 遍历fnCallId过程中写neo4j顶点、边"
   ]
  },
  {
   "cell_type": "markdown",
   "id": "acb1b08e-5efa-409e-b6ba-eebd254b2380",
   "metadata": {},
   "source": [
    "#### sqlite3 sql语句模板"
   ]
  },
  {
   "cell_type": "code",
   "execution_count": 33,
   "id": "2021eb21-f3bd-42f1-b0a6-b3c2ace4f4cf",
   "metadata": {},
   "outputs": [],
   "source": [
    "sqlTmpl_t_FnCallLog_query_fnCallId_ls=\"select distinct fnCallId  from t_FnCallLog order by fnCallId asc\"\n",
    "\n",
    "sqlTmpl_t_FnCallLog_query_by_fnCallId=\"select  *  from t_FnCallLog where fnCallId=?\"\n",
    "#按字段t_FnCallLog.fnCallId查询，因此该字段得有索引\n",
    "\n",
    "sqlTmpl_t_FnSym_query_by_address=\"select  *  from t_FnSym where address=?\""
   ]
  },
  {
   "cell_type": "code",
   "execution_count": 34,
   "id": "1d9bd85d-d12f-4ec2-81bf-579f18ab599f",
   "metadata": {},
   "outputs": [],
   "source": [
    "#开发调试用\n",
    "# sqlTmpl_t_FnCallLog_query_fnCallId_ls=\"select distinct fnCallId  from t_FnCallLog limit 1000\"\n"
   ]
  },
  {
   "cell_type": "markdown",
   "id": "999df738-093e-4a0d-b316-e4104ef0866e",
   "metadata": {},
   "source": [
    "#### 遍历fnCallId过程"
   ]
  },
  {
   "cell_type": "code",
   "execution_count": 35,
   "id": "1c9ddeb2-4d4c-4627-b9c8-e7af92ddbd1d",
   "metadata": {},
   "outputs": [],
   "source": [
    "from datetime import datetime\n",
    "def nowDateTimeTxt():\n",
    "    return datetime.now()   .strftime( '%Y-%m-%d %H:%M:%S %f' ) \n"
   ]
  },
  {
   "cell_type": "markdown",
   "id": "748a0a85-b569-4952-aca8-a7fb457646ab",
   "metadata": {},
   "source": [
    "http://giteaz:3000/frida_analyze_app_src/frida_js/src/branch/main/DebugSymbolUtil.ts\n",
    "\n",
    "```javascript\n",
    "//方向枚举: 函数进入 或 函数离开\n",
    "enum Direct{\n",
    "  // 函数进入\n",
    "  EnterFn = 1,\n",
    "  // 函数离开\n",
    "  LeaveFn = 2,\n",
    "}\n",
    "\n",
    "```\n"
   ]
  },
  {
   "cell_type": "code",
   "execution_count": 36,
   "id": "92356ad5-a96f-4ee5-835e-284ee46812e5",
   "metadata": {},
   "outputs": [],
   "source": [
    "#方向枚举: 函数进入 或 函数离开\n",
    "class Direct:\n",
    "    #函数进入\n",
    "    EnterFn = 1\n",
    "    #函数离开\n",
    "    LeaveFn = 2"
   ]
  },
  {
   "cell_type": "code",
   "execution_count": 37,
   "id": "56a52dec-3906-4d4c-bc90-3c080059f6a8",
   "metadata": {},
   "outputs": [],
   "source": [
    "#按照fnCallId查询出 函数进入、函数离开 日志\n",
    "def queryFnEnterLeave(fnCallId):\n",
    "    _rowLs=sq3dbConn.execute(sqlTmpl_t_FnCallLog_query_by_fnCallId, [fnCallId]).fetchall()\n",
    "    # print(_rowLs)\n",
    "    assert len(_rowLs) == 2\n",
    "    ls_1=list(filter(lambda r:r[\"direct\"]==Direct.EnterFn, _rowLs)); assert len(ls_1) == 1\n",
    "    ls_2=list(filter(lambda r:r[\"direct\"]==Direct.LeaveFn, _rowLs)); assert len(ls_1) == 1\n",
    "    fnEnter=ls_1[0]\n",
    "    fnLeave=ls_2[0]\n",
    "    \n",
    "    fnEnter,fnLeave=_rowLs\n",
    "    return fnEnter,fnLeave"
   ]
  },
  {
   "cell_type": "code",
   "execution_count": 38,
   "id": "8afb249a-9c69-43df-afda-8b6d304b2f4a",
   "metadata": {
    "scrolled": true
   },
   "outputs": [
    {
     "name": "stdout",
     "output_type": "stream",
     "text": [
      "2024-03-28 16:40:46 275015,fnCallId=10000\n",
      "2024-03-28 16:40:58 117779,fnCallId=20000\n",
      "2024-03-28 16:41:16 737520,fnCallId=30000\n",
      "2024-03-28 16:41:28 492148,fnCallId=40000\n",
      "2024-03-28 16:41:40 289664,fnCallId=50000\n",
      "2024-03-28 16:41:51 918340,fnCallId=60000\n",
      "2024-03-28 16:42:03 428302,fnCallId=70000\n",
      "2024-03-28 16:42:15 039081,fnCallId=80000\n",
      "2024-03-28 16:42:33 899735,fnCallId=90000\n",
      "2024-03-28 16:42:45 520644,fnCallId=100000\n",
      "2024-03-28 16:42:57 142167,fnCallId=110000\n",
      "2024-03-28 16:43:08 749908,fnCallId=120000\n",
      "2024-03-28 16:43:20 404604,fnCallId=130000\n",
      "2024-03-28 16:43:32 007578,fnCallId=140000\n",
      "2024-03-28 16:43:47 884406,fnCallId=150000\n",
      "2024-03-28 16:44:02 820865,fnCallId=160000\n",
      "2024-03-28 16:44:25 113282,fnCallId=170000\n",
      "2024-03-28 16:44:40 291029,fnCallId=180000\n",
      "2024-03-28 16:44:52 104968,fnCallId=190000\n",
      "2024-03-28 16:45:11 167966,fnCallId=200000\n",
      "2024-03-28 16:45:22 959236,fnCallId=210000\n",
      "2024-03-28 16:45:34 821482,fnCallId=220000\n",
      "2024-03-28 16:45:46 449035,fnCallId=230000\n",
      "2024-03-28 16:45:58 281369,fnCallId=240000\n",
      "2024-03-28 16:46:10 027970,fnCallId=250000\n",
      "2024-03-28 16:46:22 092489,fnCallId=260000\n",
      "2024-03-28 16:46:41 085540,fnCallId=270000\n",
      "2024-03-28 16:46:52 724055,fnCallId=280000\n",
      "2024-03-28 16:47:04 568191,fnCallId=290000\n",
      "2024-03-28 16:47:16 412377,fnCallId=300000\n",
      "2024-03-28 16:47:28 038836,fnCallId=310000\n",
      "2024-03-28 16:47:39 955744,fnCallId=320000\n",
      "2024-03-28 16:47:59 297446,fnCallId=330000\n",
      "2024-03-28 16:48:11 124387,fnCallId=340000\n",
      "2024-03-28 16:48:23 763403,fnCallId=350000\n",
      "2024-03-28 16:48:35 642771,fnCallId=360000\n",
      "2024-03-28 16:48:47 652627,fnCallId=370000\n",
      "2024-03-28 16:48:59 688036,fnCallId=380000\n",
      "2024-03-28 16:49:14 722485,fnCallId=390000\n",
      "2024-03-28 16:49:30 556550,fnCallId=400000\n",
      "2024-03-28 16:49:42 346973,fnCallId=410000\n",
      "2024-03-28 16:49:54 083215,fnCallId=420000\n",
      "2024-03-28 16:50:05 938126,fnCallId=430000\n",
      "2024-03-28 16:50:17 628910,fnCallId=440000\n",
      "2024-03-28 16:50:29 297656,fnCallId=450000\n",
      "2024-03-28 16:50:46 306252,fnCallId=460000\n",
      "2024-03-28 16:51:00 056085,fnCallId=470000\n",
      "2024-03-28 16:51:11 967782,fnCallId=480000\n",
      "2024-03-28 16:51:24 280152,fnCallId=490000\n",
      "2024-03-28 16:51:36 104125,fnCallId=500000\n",
      "2024-03-28 16:51:47 861202,fnCallId=510000\n",
      "2024-03-28 16:52:04 832082,fnCallId=520000\n",
      "忽略 不平衡的fnCallId 522484\n"
     ]
    }
   ],
   "source": [
    "\n",
    "for fnCallIdRow in sq3dbConn.execute(sqlTmpl_t_FnCallLog_query_fnCallId_ls):\n",
    "    fnCallId=fnCallIdRow[\"fnCallId\"]\n",
    "    \n",
    "    if fnCallId % 10000 == 0 : print(f\"{nowDateTimeTxt()},fnCallId={fnCallId}\")\n",
    "    # print(\"开发调试打印\",type(fnCallId), fnCallId.keys())\n",
    "    \n",
    "    if fnCallId in notBalancedFnCallIdLs :\n",
    "        print(f\"忽略 不平衡的fnCallId {fnCallId}\")\n",
    "        continue\n",
    "\n",
    "    #按照fnCallId查询出 函数进入、函数离开 日志\n",
    "    fnEnter,fnLeave=queryFnEnterLeave(fnCallId)\n",
    "\n",
    "    fnEnter_fnAdr=fnEnter[\"fnAdr\"]\n",
    "    fnEnter_curThreadId=fnEnter[\"curThreadId\"]\n",
    "    fnEnter_direct=fnEnter[\"direct\"]\n",
    "    #断言 函数进入、函数离开 日志 中的 函数地址 是 相同的\n",
    "    assert fnEnter_fnAdr == fnLeave[\"fnAdr\"] \n",
    "    \n",
    "    # print(fnEnter[\"fnAdr\"]) #开发调试语句\n",
    "    # break\n",
    "\n",
    "    #按照函数地址 查询函数调试信息\n",
    "    _fnSymLs=sq3dbConn.execute(sqlTmpl_t_FnSym_query_by_address, [fnEnter_fnAdr]).fetchall()\n",
    "    # 断言 该函数地址 只能查询到一个调试信息\n",
    "    assert len(_fnSymLs) == 1\n",
    "    fnSym=_fnSymLs[0]\n",
    "    # print(fnSym)\n",
    "    \n",
    "    fnSym_address=fnSym[\"address\"]\n",
    "    fnSym_name=fnSym[\"name\"]\n",
    "    fnSym_moduleName=fnSym[\"moduleName\"]\n",
    "    fnSym_fileName=fnSym[\"fileName\"]\n",
    "    fnSym_lineNumber=fnSym[\"lineNumber\"]\n",
    "    fnSym_column=fnSym[\"column\"]\n",
    "\n",
    "    #插入到neo4j\n",
    "    driver.execute_query(\n",
    "\"CREATE (fnEnter_:V_FnCallLog {curThreadId: $curThreadId, direct:$fnEnter_direct, fnAdr:$fnAdr, fnCallId:$fnCallId, fnSym_address:$fnSym_address, fnSym_name:$fnSym_name, fnSym_moduleName:$fnSym_moduleName, fnSym_fileName:$fnSym_fileName, fnSym_lineNumber:$fnSym_lineNumber, fnSym_column:$fnSym_column}) \"\n",
    "\"CREATE (fnLeave_:V_FnCallLog {curThreadId: $curThreadId, direct:$fnLeave_direct, fnAdr:$fnAdr, fnCallId:$fnCallId, fnSym_address:$fnSym_address, fnSym_name:$fnSym_name, fnSym_moduleName:$fnSym_moduleName, fnSym_fileName:$fnSym_fileName, fnSym_lineNumber:$fnSym_lineNumber, fnSym_column:$fnSym_column}) \"\n",
    "\"CREATE (fnEnter_)-[:E_FnEL]->(fnLeave_)\",\n",
    "# \"CREATE (fnEnter)-[:Edge2]->(fnLeave)\",\n",
    "# 以下这些是作为 参数 parameters_ 的\n",
    "curThreadId=fnEnter_curThreadId, \n",
    "fnEnter_direct=fnEnter_direct, \n",
    "fnLeave_direct=fnEnter_direct, \n",
    "fnAdr=fnEnter_fnAdr, \n",
    "fnCallId=fnCallId, \n",
    "fnSym_address=fnSym_address,\n",
    "fnSym_name=fnSym_name,\n",
    "fnSym_moduleName=fnSym_moduleName,\n",
    "fnSym_fileName=fnSym_fileName,\n",
    "fnSym_lineNumber=fnSym_lineNumber,\n",
    "fnSym_column=fnSym_column,\n",
    "\n",
    "database_=\"neo4j\",\n",
    ")\n"
   ]
  },
  {
   "cell_type": "markdown",
   "id": "e4ef75b5-1431-4132-b52b-e4d8ef1c2c47",
   "metadata": {},
   "source": [
    "#### 开发调试用语句"
   ]
  },
  {
   "cell_type": "code",
   "execution_count": 39,
   "id": "616916e6-2bf9-4e74-9d94-429f5f11098d",
   "metadata": {},
   "outputs": [],
   "source": [
    "#设置sqlite3.connect.execute.fetchall返回tuple列表而非字典列表 （人类可读用）\n",
    "sq3dbConn.row_factory=origin_sq3dbConn_row_factory"
   ]
  },
  {
   "cell_type": "code",
   "execution_count": 40,
   "id": "41a824ce-1c4c-4eee-aeb1-ca08cd6e9ed5",
   "metadata": {},
   "outputs": [
    {
     "data": {
      "text/plain": [
       "[(1,), (2,), (3,), (4,), (5,), (6,), (7,), (8,), (9,), (10,)]"
      ]
     },
     "execution_count": 40,
     "metadata": {},
     "output_type": "execute_result"
    }
   ],
   "source": [
    "sq3dbConn.execute(\"select distinct fnCallId from t_FnCallLog limit 10\").fetchall()\n"
   ]
  },
  {
   "cell_type": "code",
   "execution_count": 41,
   "id": "91dd7106-6616-40cc-8739-54ae67a05066",
   "metadata": {},
   "outputs": [
    {
     "data": {
      "text/plain": [
       "[(0, 'logId', 'INTEGER', 0, None, 1),\n",
       " (1, 'tmPnt', 'INTEGER', 0, None, 0),\n",
       " (2, 'processId', 'INTEGER', 0, None, 0),\n",
       " (3, 'curThreadId', 'INTEGER', 0, None, 0),\n",
       " (4, 'direct', 'short', 0, None, 0),\n",
       " (5, 'fnAdr', 'char(18)', 0, None, 0),\n",
       " (6, 'fnCallId', 'INTEGER', 0, None, 0),\n",
       " (7, 'fnSymId', 'char(18)', 0, None, 0)]"
      ]
     },
     "execution_count": 41,
     "metadata": {},
     "output_type": "execute_result"
    }
   ],
   "source": [
    "sq3dbConn.execute(\" PRAGMA table_info(t_FnCallLog) \").fetchall()"
   ]
  },
  {
   "cell_type": "code",
   "execution_count": 42,
   "id": "7638abd4-1d7e-45e0-92fa-72e815279674",
   "metadata": {},
   "outputs": [
    {
     "data": {
      "text/plain": [
       "[(0, 'address', 'char(18)', 0, None, 1),\n",
       " (1, 'name', 'varchar(256)', 0, None, 0),\n",
       " (2, 'moduleName', 'varchar(32)', 0, None, 0),\n",
       " (3, 'fileName', 'varchar(256)', 0, None, 0),\n",
       " (4, 'lineNumber', 'INTEGER', 0, None, 0),\n",
       " (5, 'column', 'INTEGER', 0, None, 0)]"
      ]
     },
     "execution_count": 42,
     "metadata": {},
     "output_type": "execute_result"
    }
   ],
   "source": [
    "sq3dbConn.execute(\" PRAGMA table_info(t_FnSym) \").fetchall()"
   ]
  },
  {
   "cell_type": "code",
   "execution_count": 43,
   "id": "5d6b1f64-5f02-4fa5-9243-e6652c83fc50",
   "metadata": {},
   "outputs": [
    {
     "data": {
      "text/plain": [
       "[(1, 1, 864575, 864575, 1, '0x55555556b4fe', 1, '0x55555556b4fe'),\n",
       " (2, 2, 864575, 864575, 1, '0x55555556b752', 2, '0x55555556b752')]"
      ]
     },
     "execution_count": 43,
     "metadata": {},
     "output_type": "execute_result"
    }
   ],
   "source": [
    "sq3dbConn.execute(\"select * from t_FnCallLog where logId <=2\").fetchall()"
   ]
  },
  {
   "cell_type": "code",
   "execution_count": 44,
   "id": "9866b2a1-5444-496b-b3d9-b83ad85221ed",
   "metadata": {},
   "outputs": [],
   "source": [
    "#还原 \n",
    "# 设置sqlite3.connect.execute.fetchall返回字典列表而非tuple列表  （程序用）\n",
    "sq3dbConn.row_factory = sqlite3.Row"
   ]
  },
  {
   "cell_type": "code",
   "execution_count": 45,
   "id": "4802839c-6484-4e91-8467-cd6562a71b2b",
   "metadata": {
    "scrolled": true
   },
   "outputs": [
    {
     "data": {
      "text/plain": [
       "[<sqlite3.Row at 0x7fff964bccd0>, <sqlite3.Row at 0x7fff964bd8d0>]"
      ]
     },
     "execution_count": 45,
     "metadata": {},
     "output_type": "execute_result"
    }
   ],
   "source": [
    "sq3dbConn.execute(sqlTmpl_t_FnCallLog_query_by_fnCallId, [1]).fetchall()"
   ]
  },
  {
   "cell_type": "markdown",
   "id": "2d9e41cd-d176-4459-b2fa-c5ed47cf297c",
   "metadata": {
    "jp-MarkdownHeadingCollapsed": true
   },
   "source": [
    "\n",
    "## TODO 写 neo4j 顶点(日志行号）、边（同线程下的时刻） \n",
    "\n",
    "\n"
   ]
  },
  {
   "cell_type": "markdown",
   "id": "2491af5a-563b-499a-a0aa-f8bebeed0362",
   "metadata": {
    "jp-MarkdownHeadingCollapsed": true
   },
   "source": [
    "## 可视化neo4j图（以networkx）\n"
   ]
  },
  {
   "cell_type": "markdown",
   "id": "7e149457-556d-47c6-982d-9af9e7c31e46",
   "metadata": {},
   "source": [
    "networkx在边上 显示neo4j的关系名 ，支持多个关系名，多个关系名写在同一个networkx边上, 获得关系名字列表的简单写法"
   ]
  },
  {
   "cell_type": "code",
   "execution_count": 46,
   "id": "108ddaf3-fe54-4c00-9b4a-8d5811326d1a",
   "metadata": {},
   "outputs": [
    {
     "name": "stdout",
     "output_type": "stream",
     "text": [
      "Looking in indexes: https://pypi.tuna.tsinghua.edu.cn/simple\n",
      "Requirement already satisfied: networkx in /app/Miniconda3-py310_22.11.1-1/lib/python3.10/site-packages (3.2.1)\n",
      "Requirement already satisfied: matplotlib in /app/Miniconda3-py310_22.11.1-1/lib/python3.10/site-packages (3.8.3)\n",
      "Requirement already satisfied: contourpy>=1.0.1 in /app/Miniconda3-py310_22.11.1-1/lib/python3.10/site-packages (from matplotlib) (1.2.0)\n",
      "Requirement already satisfied: pyparsing>=2.3.1 in /app/Miniconda3-py310_22.11.1-1/lib/python3.10/site-packages (from matplotlib) (3.1.2)\n",
      "Requirement already satisfied: kiwisolver>=1.3.1 in /app/Miniconda3-py310_22.11.1-1/lib/python3.10/site-packages (from matplotlib) (1.4.5)\n",
      "Requirement already satisfied: numpy<2,>=1.21 in /app/Miniconda3-py310_22.11.1-1/lib/python3.10/site-packages (from matplotlib) (1.26.4)\n",
      "Requirement already satisfied: pillow>=8 in /app/Miniconda3-py310_22.11.1-1/lib/python3.10/site-packages (from matplotlib) (10.2.0)\n",
      "Requirement already satisfied: fonttools>=4.22.0 in /app/Miniconda3-py310_22.11.1-1/lib/python3.10/site-packages (from matplotlib) (4.50.0)\n",
      "Requirement already satisfied: python-dateutil>=2.7 in /home/z/.local/lib/python3.10/site-packages (from matplotlib) (2.9.0.post0)\n",
      "Requirement already satisfied: cycler>=0.10 in /app/Miniconda3-py310_22.11.1-1/lib/python3.10/site-packages (from matplotlib) (0.12.1)\n",
      "Requirement already satisfied: packaging>=20.0 in /home/z/.local/lib/python3.10/site-packages (from matplotlib) (24.0)\n",
      "Requirement already satisfied: six>=1.5 in /app/Miniconda3-py310_22.11.1-1/lib/python3.10/site-packages (from python-dateutil>=2.7->matplotlib) (1.16.0)\n"
     ]
    }
   ],
   "source": [
    "%%bash\n",
    "\n",
    "pip install networkx matplotlib"
   ]
  },
  {
   "cell_type": "code",
   "execution_count": 47,
   "id": "aae5125a-c951-46f7-88c2-6f65cf5c326b",
   "metadata": {},
   "outputs": [],
   "source": [
    "from neo4j import GraphDatabase\n",
    "import networkx as nx\n",
    "import matplotlib.pyplot as plt\n"
   ]
  },
  {
   "cell_type": "markdown",
   "id": "f77d8b2c-f36b-4455-924d-67c239eea3bb",
   "metadata": {},
   "source": [
    "#### 只可视化前TopN即30个边"
   ]
  },
  {
   "cell_type": "code",
   "execution_count": 48,
   "id": "c21ed853-1a0d-4c62-a1d1-2297338baad5",
   "metadata": {},
   "outputs": [],
   "source": [
    "\n",
    "TopN=30\n"
   ]
  },
  {
   "cell_type": "markdown",
   "id": "c1fb7a76-3e66-4a8e-877a-5ef04a8f4730",
   "metadata": {},
   "source": [
    "#### 可视化方法"
   ]
  },
  {
   "cell_type": "code",
   "execution_count": 49,
   "id": "9f87c035-4ef0-4e06-8797-10de6c801774",
   "metadata": {
    "scrolled": true
   },
   "outputs": [],
   "source": [
    "\n",
    "def visual(driver):\n",
    "    G = nx.MultiGraph()\n",
    "    records, _, _ = driver.execute_query(\n",
    "f\"\"\"MATCH (n)-[r]->(m)\n",
    "RETURN n, r, m LIMIT {TopN}\"\"\",\n",
    "        database_=\"neo4j\", routing_=RoutingControl.READ,\n",
    "    )\n",
    "    for record in records:\n",
    "        srcV=record['n']['fnSym_address']\n",
    "        dstV=record['m']['fnSym_address']\n",
    "        relation_type = record['r'].type\n",
    "        # print(\"neo4j中的关系名字为\",relation_type)\n",
    "        G.add_node(srcV)\n",
    "        G.add_node(dstV)\n",
    "        G.add_edge(srcV,dstV,E_FnEL=relation_type)\n",
    "    return G\n",
    "\n"
   ]
  },
  {
   "cell_type": "markdown",
   "id": "2f5464e5-2746-43c0-8f91-95a1940320ae",
   "metadata": {},
   "source": [
    "#### 可视化"
   ]
  },
  {
   "cell_type": "code",
   "execution_count": 50,
   "id": "76674465-7a5a-4272-83ea-37201052b4ab",
   "metadata": {},
   "outputs": [],
   "source": [
    "# 前面已经建立过了neo4j连接，这里不再建立\n",
    "# driver= GraphDatabase.driver(URI, auth=AUTH)"
   ]
  },
  {
   "cell_type": "code",
   "execution_count": 51,
   "id": "9fcf0263-f98f-4ab0-9b07-10459df89dfc",
   "metadata": {},
   "outputs": [
    {
     "data": {
      "image/png": "[encoded data removed]",
      "text/plain": [
       "<Figure size 1000x800 with 1 Axes>"
      ]
     },
     "metadata": {},
     "output_type": "display_data"
    }
   ],
   "source": [
    "\n",
    "\n",
    "G=visual(driver)\n",
    "\n",
    "pos = nx.spring_layout(G)  \n",
    "plt.figure(figsize=(10, 8))\n",
    "\n",
    "nx.draw_networkx_nodes(G, pos, node_size=800, node_color='skyblue')\n",
    "nx.draw_networkx_edges(G, pos)\n",
    "nx.draw_networkx_labels(G, pos)\n",
    "\n",
    "edge_labels = {(u, v): [d['E_FnEL'] for k, d in G[u][v].items()] for u, v in G.edges()}\n",
    "nx.draw_networkx_edge_labels(G, pos, edge_labels=edge_labels)\n",
    "\n",
    "plt.title(\"visual neo4j graph by networkx\")\n",
    "plt.show()"
   ]
  },
  {
   "cell_type": "markdown",
   "id": "3d83f501-875d-47dd-a026-fc21f4190f80",
   "metadata": {},
   "source": [
    "#### 关闭neo4j连接"
   ]
  },
  {
   "cell_type": "code",
   "execution_count": 52,
   "id": "abf8c0b8-9573-44ef-8cdd-3ca93bef4f44",
   "metadata": {},
   "outputs": [],
   "source": [
    "\n",
    "driver.close()"
   ]
  },
  {
   "cell_type": "markdown",
   "id": "6018ae63-1a82-4400-82e8-183f7e645d67",
   "metadata": {},
   "source": [
    "#### 调试写法"
   ]
  },
  {
   "cell_type": "code",
   "execution_count": 53,
   "id": "352bc07b-ec9d-459c-8e23-16d8c644f04c",
   "metadata": {},
   "outputs": [
    {
     "data": {
      "text/plain": [
       "MultiEdgeDataView([('0x7ffff40aacc0', '0x7ffff40aacc0'), ('0x7ffff40e70e0', '0x7ffff40e70e0'), ('0x7ffff3fbd338', '0x7ffff3fbd338'), ('0x7ffff40aabdc', '0x7ffff40aabdc'), ('0x7ffff40e7092', '0x7ffff40e7092'), ('0x7ffff3fbd155', '0x7ffff3fbd155'), ('0x7ffff40aaa6c', '0x7ffff40aaa6c'), ('0x7ffff40e7044', '0x7ffff40e7044'), ('0x7ffff3fbac80', '0x7ffff3fbac80'), ('0x7ffff3fbac80', '0x7ffff3fbac80'), ('0x7ffff3fbe87e', '0x7ffff3fbe87e'), ('0x7ffff3fbe87e', '0x7ffff3fbe87e'), ('0x7ffff3fbe890', '0x7ffff3fbe890'), ('0x7ffff3fbe890', '0x7ffff3fbe890'), ('0x7ffff40abb39', '0x7ffff40abb39'), ('0x7ffff40abb39', '0x7ffff40abb39'), ('0x7ffff40e77bd', '0x7ffff40e77bd'), ('0x7ffff40e77bd', '0x7ffff40e77bd'), ('0x7ffff3fba1da', '0x7ffff3fba1da'), ('0x7ffff3fba1da', '0x7ffff3fba1da'), ('0x7ffff3fbd05c', '0x7ffff3fbd05c'), ('0x7ffff3fbd05c', '0x7ffff3fbd05c'), ('0x7ffff40aa975', '0x7ffff40aa975'), ('0x7ffff40aa975', '0x7ffff40aa975'), ('0x7ffff40e6fee', '0x7ffff40e6fee'), ('0x7ffff40e6fee', '0x7ffff40e6fee'), ('0x7ffff3fba1ba', '0x7ffff3fba1ba'), ('0x7ffff3fba1ba', '0x7ffff3fba1ba'), ('0x7ffff3fbd04c', '0x7ffff3fbd04c'), ('0x7ffff3fbd04c', '0x7ffff3fbd04c')])"
      ]
     },
     "execution_count": 53,
     "metadata": {},
     "output_type": "execute_result"
    }
   ],
   "source": [
    "#边列表，简陋\n",
    "G.edges()"
   ]
  },
  {
   "cell_type": "code",
   "execution_count": 54,
   "id": "8b36b56c-5f64-4ff2-a7dd-8c429315d95c",
   "metadata": {},
   "outputs": [
    {
     "data": {
      "text/plain": [
       "MultiEdgeDataView([('0x7ffff40aacc0', '0x7ffff40aacc0', 0, {'E_FnEL': 'E_FnEL'}), ('0x7ffff40e70e0', '0x7ffff40e70e0', 0, {'E_FnEL': 'E_FnEL'}), ('0x7ffff3fbd338', '0x7ffff3fbd338', 0, {'E_FnEL': 'E_FnEL'}), ('0x7ffff40aabdc', '0x7ffff40aabdc', 0, {'E_FnEL': 'E_FnEL'}), ('0x7ffff40e7092', '0x7ffff40e7092', 0, {'E_FnEL': 'E_FnEL'}), ('0x7ffff3fbd155', '0x7ffff3fbd155', 0, {'E_FnEL': 'E_FnEL'}), ('0x7ffff40aaa6c', '0x7ffff40aaa6c', 0, {'E_FnEL': 'E_FnEL'}), ('0x7ffff40e7044', '0x7ffff40e7044', 0, {'E_FnEL': 'E_FnEL'}), ('0x7ffff3fbac80', '0x7ffff3fbac80', 0, {'E_FnEL': 'E_FnEL'}), ('0x7ffff3fbac80', '0x7ffff3fbac80', 1, {'E_FnEL': 'E_FnEL'}), ('0x7ffff3fbe87e', '0x7ffff3fbe87e', 0, {'E_FnEL': 'E_FnEL'}), ('0x7ffff3fbe87e', '0x7ffff3fbe87e', 1, {'E_FnEL': 'E_FnEL'}), ('0x7ffff3fbe890', '0x7ffff3fbe890', 0, {'E_FnEL': 'E_FnEL'}), ('0x7ffff3fbe890', '0x7ffff3fbe890', 1, {'E_FnEL': 'E_FnEL'}), ('0x7ffff40abb39', '0x7ffff40abb39', 0, {'E_FnEL': 'E_FnEL'}), ('0x7ffff40abb39', '0x7ffff40abb39', 1, {'E_FnEL': 'E_FnEL'}), ('0x7ffff40e77bd', '0x7ffff40e77bd', 0, {'E_FnEL': 'E_FnEL'}), ('0x7ffff40e77bd', '0x7ffff40e77bd', 1, {'E_FnEL': 'E_FnEL'}), ('0x7ffff3fba1da', '0x7ffff3fba1da', 0, {'E_FnEL': 'E_FnEL'}), ('0x7ffff3fba1da', '0x7ffff3fba1da', 1, {'E_FnEL': 'E_FnEL'}), ('0x7ffff3fbd05c', '0x7ffff3fbd05c', 0, {'E_FnEL': 'E_FnEL'}), ('0x7ffff3fbd05c', '0x7ffff3fbd05c', 1, {'E_FnEL': 'E_FnEL'}), ('0x7ffff40aa975', '0x7ffff40aa975', 0, {'E_FnEL': 'E_FnEL'}), ('0x7ffff40aa975', '0x7ffff40aa975', 1, {'E_FnEL': 'E_FnEL'}), ('0x7ffff40e6fee', '0x7ffff40e6fee', 0, {'E_FnEL': 'E_FnEL'}), ('0x7ffff40e6fee', '0x7ffff40e6fee', 1, {'E_FnEL': 'E_FnEL'}), ('0x7ffff3fba1ba', '0x7ffff3fba1ba', 0, {'E_FnEL': 'E_FnEL'}), ('0x7ffff3fba1ba', '0x7ffff3fba1ba', 1, {'E_FnEL': 'E_FnEL'}), ('0x7ffff3fbd04c', '0x7ffff3fbd04c', 0, {'E_FnEL': 'E_FnEL'}), ('0x7ffff3fbd04c', '0x7ffff3fbd04c', 1, {'E_FnEL': 'E_FnEL'})])"
      ]
     },
     "execution_count": 54,
     "metadata": {},
     "output_type": "execute_result"
    }
   ],
   "source": [
    "#边列表，完备\n",
    "G.edges(keys=True, data=True)"
   ]
  },
  {
   "cell_type": "code",
   "execution_count": 55,
   "id": "da80f2cb-7d64-4835-9624-2220a0be2401",
   "metadata": {},
   "outputs": [
    {
     "data": {
      "text/plain": [
       "[('0x7ffff40aacc0,0x7ffff40aacc0',\n",
       "  ItemsView(AtlasView({0: {'E_FnEL': 'E_FnEL'}}))),\n",
       " ('0x7ffff40e70e0,0x7ffff40e70e0',\n",
       "  ItemsView(AtlasView({0: {'E_FnEL': 'E_FnEL'}}))),\n",
       " ('0x7ffff3fbd338,0x7ffff3fbd338',\n",
       "  ItemsView(AtlasView({0: {'E_FnEL': 'E_FnEL'}}))),\n",
       " ('0x7ffff40aabdc,0x7ffff40aabdc',\n",
       "  ItemsView(AtlasView({0: {'E_FnEL': 'E_FnEL'}}))),\n",
       " ('0x7ffff40e7092,0x7ffff40e7092',\n",
       "  ItemsView(AtlasView({0: {'E_FnEL': 'E_FnEL'}}))),\n",
       " ('0x7ffff3fbd155,0x7ffff3fbd155',\n",
       "  ItemsView(AtlasView({0: {'E_FnEL': 'E_FnEL'}}))),\n",
       " ('0x7ffff40aaa6c,0x7ffff40aaa6c',\n",
       "  ItemsView(AtlasView({0: {'E_FnEL': 'E_FnEL'}}))),\n",
       " ('0x7ffff40e7044,0x7ffff40e7044',\n",
       "  ItemsView(AtlasView({0: {'E_FnEL': 'E_FnEL'}}))),\n",
       " ('0x7ffff3fbac80,0x7ffff3fbac80',\n",
       "  ItemsView(AtlasView({0: {'E_FnEL': 'E_FnEL'}, 1: {'E_FnEL': 'E_FnEL'}}))),\n",
       " ('0x7ffff3fbac80,0x7ffff3fbac80',\n",
       "  ItemsView(AtlasView({0: {'E_FnEL': 'E_FnEL'}, 1: {'E_FnEL': 'E_FnEL'}}))),\n",
       " ('0x7ffff3fbe87e,0x7ffff3fbe87e',\n",
       "  ItemsView(AtlasView({0: {'E_FnEL': 'E_FnEL'}, 1: {'E_FnEL': 'E_FnEL'}}))),\n",
       " ('0x7ffff3fbe87e,0x7ffff3fbe87e',\n",
       "  ItemsView(AtlasView({0: {'E_FnEL': 'E_FnEL'}, 1: {'E_FnEL': 'E_FnEL'}}))),\n",
       " ('0x7ffff3fbe890,0x7ffff3fbe890',\n",
       "  ItemsView(AtlasView({0: {'E_FnEL': 'E_FnEL'}, 1: {'E_FnEL': 'E_FnEL'}}))),\n",
       " ('0x7ffff3fbe890,0x7ffff3fbe890',\n",
       "  ItemsView(AtlasView({0: {'E_FnEL': 'E_FnEL'}, 1: {'E_FnEL': 'E_FnEL'}}))),\n",
       " ('0x7ffff40abb39,0x7ffff40abb39',\n",
       "  ItemsView(AtlasView({0: {'E_FnEL': 'E_FnEL'}, 1: {'E_FnEL': 'E_FnEL'}}))),\n",
       " ('0x7ffff40abb39,0x7ffff40abb39',\n",
       "  ItemsView(AtlasView({0: {'E_FnEL': 'E_FnEL'}, 1: {'E_FnEL': 'E_FnEL'}}))),\n",
       " ('0x7ffff40e77bd,0x7ffff40e77bd',\n",
       "  ItemsView(AtlasView({0: {'E_FnEL': 'E_FnEL'}, 1: {'E_FnEL': 'E_FnEL'}}))),\n",
       " ('0x7ffff40e77bd,0x7ffff40e77bd',\n",
       "  ItemsView(AtlasView({0: {'E_FnEL': 'E_FnEL'}, 1: {'E_FnEL': 'E_FnEL'}}))),\n",
       " ('0x7ffff3fba1da,0x7ffff3fba1da',\n",
       "  ItemsView(AtlasView({0: {'E_FnEL': 'E_FnEL'}, 1: {'E_FnEL': 'E_FnEL'}}))),\n",
       " ('0x7ffff3fba1da,0x7ffff3fba1da',\n",
       "  ItemsView(AtlasView({0: {'E_FnEL': 'E_FnEL'}, 1: {'E_FnEL': 'E_FnEL'}}))),\n",
       " ('0x7ffff3fbd05c,0x7ffff3fbd05c',\n",
       "  ItemsView(AtlasView({0: {'E_FnEL': 'E_FnEL'}, 1: {'E_FnEL': 'E_FnEL'}}))),\n",
       " ('0x7ffff3fbd05c,0x7ffff3fbd05c',\n",
       "  ItemsView(AtlasView({0: {'E_FnEL': 'E_FnEL'}, 1: {'E_FnEL': 'E_FnEL'}}))),\n",
       " ('0x7ffff40aa975,0x7ffff40aa975',\n",
       "  ItemsView(AtlasView({0: {'E_FnEL': 'E_FnEL'}, 1: {'E_FnEL': 'E_FnEL'}}))),\n",
       " ('0x7ffff40aa975,0x7ffff40aa975',\n",
       "  ItemsView(AtlasView({0: {'E_FnEL': 'E_FnEL'}, 1: {'E_FnEL': 'E_FnEL'}}))),\n",
       " ('0x7ffff40e6fee,0x7ffff40e6fee',\n",
       "  ItemsView(AtlasView({0: {'E_FnEL': 'E_FnEL'}, 1: {'E_FnEL': 'E_FnEL'}}))),\n",
       " ('0x7ffff40e6fee,0x7ffff40e6fee',\n",
       "  ItemsView(AtlasView({0: {'E_FnEL': 'E_FnEL'}, 1: {'E_FnEL': 'E_FnEL'}}))),\n",
       " ('0x7ffff3fba1ba,0x7ffff3fba1ba',\n",
       "  ItemsView(AtlasView({0: {'E_FnEL': 'E_FnEL'}, 1: {'E_FnEL': 'E_FnEL'}}))),\n",
       " ('0x7ffff3fba1ba,0x7ffff3fba1ba',\n",
       "  ItemsView(AtlasView({0: {'E_FnEL': 'E_FnEL'}, 1: {'E_FnEL': 'E_FnEL'}}))),\n",
       " ('0x7ffff3fbd04c,0x7ffff3fbd04c',\n",
       "  ItemsView(AtlasView({0: {'E_FnEL': 'E_FnEL'}, 1: {'E_FnEL': 'E_FnEL'}}))),\n",
       " ('0x7ffff3fbd04c,0x7ffff3fbd04c',\n",
       "  ItemsView(AtlasView({0: {'E_FnEL': 'E_FnEL'}, 1: {'E_FnEL': 'E_FnEL'}})))]"
      ]
     },
     "execution_count": 55,
     "metadata": {},
     "output_type": "execute_result"
    }
   ],
   "source": [
    "#获取关系名字ReltnName列表\n",
    "[  ( f\"{u},{v}\", G[u][v].items() ) for u, v in G.edges()]"
   ]
  },
  {
   "cell_type": "markdown",
   "id": "110d3ac3-d54f-4766-9cfa-71293dc3f6c1",
   "metadata": {},
   "source": [
    "#### 错误写法"
   ]
  },
  {
   "cell_type": "code",
   "execution_count": 56,
   "id": "990f84bb-cf1a-46ee-8c4e-27ddfb48d62e",
   "metadata": {
    "scrolled": true
   },
   "outputs": [
    {
     "data": {
      "text/plain": [
       "{('0x7ffff40aacc0', '0x7ffff40aacc0'): 'E_FnEL',\n",
       " ('0x7ffff40e70e0', '0x7ffff40e70e0'): 'E_FnEL',\n",
       " ('0x7ffff3fbd338', '0x7ffff3fbd338'): 'E_FnEL',\n",
       " ('0x7ffff40aabdc', '0x7ffff40aabdc'): 'E_FnEL',\n",
       " ('0x7ffff40e7092', '0x7ffff40e7092'): 'E_FnEL',\n",
       " ('0x7ffff3fbd155', '0x7ffff3fbd155'): 'E_FnEL',\n",
       " ('0x7ffff40aaa6c', '0x7ffff40aaa6c'): 'E_FnEL',\n",
       " ('0x7ffff40e7044', '0x7ffff40e7044'): 'E_FnEL',\n",
       " ('0x7ffff3fbac80', '0x7ffff3fbac80'): 'E_FnEL',\n",
       " ('0x7ffff3fbe87e', '0x7ffff3fbe87e'): 'E_FnEL',\n",
       " ('0x7ffff3fbe890', '0x7ffff3fbe890'): 'E_FnEL',\n",
       " ('0x7ffff40abb39', '0x7ffff40abb39'): 'E_FnEL',\n",
       " ('0x7ffff40e77bd', '0x7ffff40e77bd'): 'E_FnEL',\n",
       " ('0x7ffff3fba1da', '0x7ffff3fba1da'): 'E_FnEL',\n",
       " ('0x7ffff3fbd05c', '0x7ffff3fbd05c'): 'E_FnEL',\n",
       " ('0x7ffff40aa975', '0x7ffff40aa975'): 'E_FnEL',\n",
       " ('0x7ffff40e6fee', '0x7ffff40e6fee'): 'E_FnEL',\n",
       " ('0x7ffff3fba1ba', '0x7ffff3fba1ba'): 'E_FnEL',\n",
       " ('0x7ffff3fbd04c', '0x7ffff3fbd04c'): 'E_FnEL'}"
      ]
     },
     "execution_count": 56,
     "metadata": {},
     "output_type": "execute_result"
    }
   ],
   "source": [
    "#错误写法，只获取到了最后一个关系名字ReltnName\n",
    "{(u, v): d['E_FnEL']  for u, v, k, d in G.edges(keys=True, data=True)}"
   ]
  },
  {
   "cell_type": "markdown",
   "id": "6eb89a0f-5c89-4330-bb58-d509203f7216",
   "metadata": {
    "jp-MarkdownHeadingCollapsed": true
   },
   "source": [
    "## 此notebook结束时刻"
   ]
  },
  {
   "cell_type": "code",
   "execution_count": null,
   "id": "bf9e0999-dcc1-47a3-b5d5-67129372ce57",
   "metadata": {},
   "outputs": [],
   "source": [
    "%%bash\n",
    "date"
   ]
  }
 ],
 "metadata": {
  "kernelspec": {
   "display_name": "Python 3 (ipykernel)",
   "language": "python",
   "name": "python3"
  },
  "language_info": {
   "codemirror_mode": {
    "name": "ipython",
    "version": 3
   },
   "file_extension": ".py",
   "mimetype": "text/x-python",
   "name": "python",
   "nbconvert_exporter": "python",
   "pygments_lexer": "ipython3",
   "version": "3.10.8"
  }
 },
 "nbformat": 4,
 "nbformat_minor": 5
}
