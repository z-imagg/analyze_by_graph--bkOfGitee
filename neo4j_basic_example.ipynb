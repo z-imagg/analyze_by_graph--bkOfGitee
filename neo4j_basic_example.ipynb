{
 "cells": [
  {
   "cell_type": "markdown",
   "id": "c138aa5e-e148-4622-9396-e87f9bc7bc10",
   "metadata": {
    "jp-MarkdownHeadingCollapsed": true
   },
   "source": [
    "## torch函数调用日志文件 按行遍历器"
   ]
  },
  {
   "cell_type": "markdown",
   "id": "b445c73e-e9b6-4a0d-a6cf-614e4abb07e6",
   "metadata": {},
   "source": [
    " 逐行加载 frida_js生产的日志文件"
   ]
  },
  {
   "cell_type": "code",
   "execution_count": 1,
   "id": "78c739d1-3459-46cd-a3e3-3112277de913",
   "metadata": {},
   "outputs": [
    {
     "name": "stdout",
     "output_type": "stream",
     "text": [
      "-rwxrwxrwx 1 z z 263M  3月 24 16:57 /fridaAnlzAp/frida_js/frida-trace-out-RunBuszJs-1711270533.log\n",
      "1045003 /fridaAnlzAp/frida_js/frida-trace-out-RunBuszJs-1711270533.log\n"
     ]
    }
   ],
   "source": [
    "%%bash\n",
    "\n",
    "ls -lh  /fridaAnlzAp/frida_js/*RunBuszJs*.log\n",
    "wc -l /fridaAnlzAp/frida_js/*RunBuszJs*.log"
   ]
  },
  {
   "cell_type": "code",
   "execution_count": 2,
   "id": "fd147b84-653f-4248-9214-99441caf141d",
   "metadata": {},
   "outputs": [],
   "source": [
    "TorchFnCallLogFP=\"/fridaAnlzAp/frida_js/frida-trace-out-RunBuszJs-1711270533.log\""
   ]
  },
  {
   "cell_type": "code",
   "execution_count": 3,
   "id": "543f77f7-fd63-4c1e-bc6b-f5a243a2ff02",
   "metadata": {},
   "outputs": [],
   "source": [
    "\n",
    "import json\n",
    "#FirstLineFunc 只在开发时用\n",
    "def iterLogF(LogFP:str,LineFunc=None,FirstLineFunc=None):\n",
    "    # LogFP=\"/fridaAnlzAp/frida_js/frida-trace-out-RunBuszJs-1711270533.log\"\n",
    "    LogF= open(LogFP,\"r\")\n",
    "    for k,lnK in enumerate( LogF ):\n",
    "        if k % 100000 == 0 :  print(f\"即将处理第{k}行日志\")\n",
    "        lnK_json=json.loads(lnK)\n",
    "        if LineFunc is not None:\n",
    "            LineFunc(k,lnK_json)\n",
    "        if k ==0 and FirstLineFunc is not None:\n",
    "            FirstLineFunc(k,lnK_json)\n",
    "        \n",
    "    LogF.close()"
   ]
  },
  {
   "cell_type": "code",
   "execution_count": 4,
   "id": "7a210b20-a10f-4017-9ec1-04fd6646fe70",
   "metadata": {
    "jupyter": {
     "source_hidden": true
    }
   },
   "outputs": [
    {
     "name": "stdout",
     "output_type": "stream",
     "text": [
      "即将处理第0行日志\n",
      "即将处理第100000行日志\n",
      "即将处理第200000行日志\n",
      "即将处理第300000行日志\n",
      "即将处理第400000行日志\n",
      "即将处理第500000行日志\n",
      "即将处理第600000行日志\n",
      "即将处理第700000行日志\n",
      "即将处理第800000行日志\n",
      "即将处理第900000行日志\n",
      "即将处理第1000000行日志\n",
      "<class 'dict'> \n",
      " {'curThreadId': 392463, 'direct': 2, 'fnAdr': '0x7ffff61cdd3c', 'fnCallId': 522488, 'fnSym': {'address': '0x7ffff61cdd3c', 'name': '_M_deallocate_buckets', 'moduleName': 'libc10.so', 'fileName': '/usr/include/c++/9/bits/hashtable.h', 'lineNumber': 374, 'column': 7}}\n"
     ]
    }
   ],
   "source": [
    "#显示最后一行的结构\n",
    "lnEnd_json=None\n",
    "def assignEveryLn(k,lnK_json):\n",
    "    global lnEnd_json\n",
    "    lnEnd_json=lnK_json\n",
    "        \n",
    "    \n",
    "iterLogF(\"/fridaAnlzAp/frida_js/frida-trace-out-RunBuszJs-1711270533.log\",assignEveryLn)\n",
    "\n",
    "print(type(lnEnd_json), \"\\n\",lnEnd_json)\n",
    "del lnEnd_json\n",
    "\n"
   ]
  },
  {
   "cell_type": "markdown",
   "id": "76c0ae43-7a69-40bb-b9f1-a961a20c1616",
   "metadata": {},
   "source": [
    "##  torch函数调用日志文件 装入 sqlite3 "
   ]
  },
  {
   "cell_type": "markdown",
   "id": "c909705a-e859-45b8-adfd-67cffec157d9",
   "metadata": {},
   "source": [
    "### 初始化sqlite3数据库(表结构)"
   ]
  },
  {
   "cell_type": "code",
   "execution_count": 5,
   "id": "cc05dbae-9c09-40b2-9cd7-08e4762c5223",
   "metadata": {},
   "outputs": [
    {
     "name": "stdout",
     "output_type": "stream",
     "text": [
      "None\n"
     ]
    }
   ],
   "source": [
    "import sqlite3\n",
    "# sq3dbConn = sqlite3.connect(':memory:')\n",
    "sq3dbConn = sqlite3.connect('./FnCallLog.db')\n",
    "\n",
    "#设置sqlite3.connect.execute.fetchall返回字典列表而非tuple列表\n",
    "origin_sq3dbConn_row_factory=sq3dbConn.row_factory #先备份\n",
    "sq3dbConn.row_factory = sqlite3.Row #再修改\n",
    "\n",
    "#sqlite3 不需要游标cursor,直接用连接执行语句\n",
    "# sq3Cursr = sq3dbConn.cursor()\n",
    "\n",
    "print(origin_sq3dbConn_row_factory)\n"
   ]
  },
  {
   "cell_type": "code",
   "execution_count": 6,
   "id": "37c842bb-2be3-4d18-ad06-c1df66aa78cc",
   "metadata": {},
   "outputs": [
    {
     "data": {
      "text/plain": [
       "<sqlite3.Cursor at 0x7cf6450a53c0>"
      ]
     },
     "execution_count": 6,
     "metadata": {},
     "output_type": "execute_result"
    }
   ],
   "source": [
    "\n",
    "# 2+8*2 == 18\n",
    "sq3dbConn.execute(\"drop TABLE if exists t_FnSym \")\n",
    "sq3dbConn.execute(\"\"\"\n",
    "CREATE TABLE t_FnSym (\n",
    "address char(18) PRIMARY KEY,  \n",
    "name varchar(256), \n",
    "moduleName  varchar(32), \n",
    "fileName  varchar(256), \n",
    "lineNumber integer,\n",
    "column integer\n",
    ")\n",
    "\"\"\")\n",
    "\n",
    "sq3dbConn.execute(\"drop TABLE if exists t_FnCallLog \")\n",
    "sq3dbConn.execute(\"\"\"\n",
    "CREATE TABLE t_FnCallLog (\n",
    "id INTEGER PRIMARY KEY, \n",
    "curThreadId integer, \n",
    "direct short, \n",
    "fnAdr char(18),\n",
    "fnCallId integer,\n",
    "fnSymId char(18)\n",
    ")\n",
    "\"\"\")\n",
    "\n",
    "\n",
    "#有按字段t_FnCallLog.fnCallId查询，因此该字段得有索引\n",
    "sq3dbConn.execute(\"\"\"\n",
    "CREATE INDEX idx__t_FnCallLog__fnCallId ON t_FnCallLog (fnCallId)\n",
    "\"\"\")\n"
   ]
  },
  {
   "cell_type": "markdown",
   "id": "0b2598e4-ed87-4cf2-9c5c-3f9e143d1dcf",
   "metadata": {},
   "source": [
    "### 写 表 FnSym"
   ]
  },
  {
   "cell_type": "markdown",
   "id": "b2b53542-d77f-453b-8650-f83d246c53e4",
   "metadata": {},
   "source": [
    "#### sql语句模板"
   ]
  },
  {
   "cell_type": "code",
   "execution_count": 7,
   "id": "6f2e6b73-8228-4216-8bd6-031684bd6fec",
   "metadata": {},
   "outputs": [],
   "source": [
    "sqlTmpl_t_FnSym_query=f\"select address, name,moduleName,fileName,lineNumber,column from t_FnSym where  address = ?\"\n",
    "sqlTmpl_t_FnSym_insert=f\"INSERT INTO t_FnSym (address, name,moduleName,fileName,lineNumber,column) VALUES (?,?,?,?,?,?)\""
   ]
  },
  {
   "cell_type": "markdown",
   "id": "7a0fb352-0f9a-488f-b924-364789656454",
   "metadata": {},
   "source": [
    "#### 行回调函数中执行插入"
   ]
  },
  {
   "cell_type": "code",
   "execution_count": 8,
   "id": "67b16bdb-e1fc-462c-b1ca-f782ee1420a7",
   "metadata": {},
   "outputs": [],
   "source": [
    "\n",
    "def assertRowEqFnSym(r,fnSym):\n",
    "    assert  \\\n",
    "r[\"address\"]==fnSym[\"address\"] and \\\n",
    "r[\"name\"]==fnSym[\"name\"] and \\\n",
    "r[\"moduleName\"]==fnSym[\"moduleName\"] and \\\n",
    "r[\"fileName\"]==fnSym[\"fileName\"] and \\\n",
    "r[\"lineNumber\"]==fnSym[\"lineNumber\"] and \\\n",
    "r[\"column\"]==fnSym[\"column\"], f\"断言 frida_js项目中 每次 写入的 从DebugSymb中按地址读取出来的 fnSym 是 不变的, rowInSqlite3Tab={r},fnSym={fnSym}\"\n",
    "\n",
    "def sq3_insert_t_FnSym(lnNum,ln):\n",
    "    fnSym=ln['fnSym'] \n",
    "    try:\n",
    "        row_ls=sq3dbConn.execute(sqlTmpl_t_FnSym_query,[ fnSym['address']  ]).fetchall()\n",
    "        #若已经有fnSym,则跳过（即不必再插入）\n",
    "        if row_ls is not None and len(row_ls) > 0:\n",
    "            #下面断言意义不大 是在验证 sqlite3的主键 是否 真唯一\n",
    "            assert len(row_ls) == 1, \"断言失败，一个地址只能有一个fnSym\"  \n",
    "            #下面断言意义不大 是在验证 frida_js项目中 每次 写入的 从DebugSymb中按地址读取出来的 fnSym 是 不变的\n",
    "            r=row_ls[0] ; assertRowEqFnSym(r,fnSym)\n",
    "            return\n",
    "\n",
    "        #torch源文件路径前的无意义部分换成相对路径\n",
    "        fileName=fnSym['fileName'].replace('/home/z/torch-repo/pytorch/', './')\n",
    "        \n",
    "        sq3dbConn.execute(sqlTmpl_t_FnSym_insert,\n",
    "[ fnSym['address'], fnSym['name'], fnSym['moduleName'], fnSym['fileName'], fnSym['lineNumber'], fnSym['column'] ])\n",
    "    except (KeyError, ValueError) as e:\n",
    "        print(\"出错行为\",ln)\n",
    "        import traceback\n",
    "        traceback.print_exception(e)\n",
    "        raise e\n",
    "\n",
    "\n",
    "\n",
    "\n"
   ]
  },
  {
   "cell_type": "code",
   "execution_count": 9,
   "id": "bb8f658a-bfeb-4784-a8bb-5d87782d2a6f",
   "metadata": {},
   "outputs": [
    {
     "name": "stdout",
     "output_type": "stream",
     "text": [
      "从表t_FnSym删除行数  0\n",
      "即将处理第0行日志\n",
      "即将处理第100000行日志\n",
      "即将处理第200000行日志\n",
      "即将处理第300000行日志\n",
      "即将处理第400000行日志\n",
      "即将处理第500000行日志\n",
      "即将处理第600000行日志\n",
      "即将处理第700000行日志\n",
      "即将处理第800000行日志\n",
      "即将处理第900000行日志\n",
      "即将处理第1000000行日志\n"
     ]
    }
   ],
   "source": [
    "print(\"从表t_FnSym删除行数 \",sq3dbConn.execute(\"delete from t_FnSym\").rowcount)\n",
    "    \n",
    "iterLogF(TorchFnCallLogFP,LineFunc=sq3_insert_t_FnSym)\n"
   ]
  },
  {
   "cell_type": "markdown",
   "id": "fa26ef5f-2aee-4a44-bf04-958b20387e4e",
   "metadata": {},
   "source": [
    "#### 开发调试用语句"
   ]
  },
  {
   "cell_type": "code",
   "execution_count": 10,
   "id": "1d96d0b7-88d2-46b0-9622-ec376284f493",
   "metadata": {},
   "outputs": [],
   "source": [
    "# iterLogF(TorchFnCallLogFP,FirstLineFunc=sq3_insert_t_FnSym)"
   ]
  },
  {
   "cell_type": "code",
   "execution_count": 11,
   "id": "aff2c467-3cf5-442b-8963-4116fbb5dd13",
   "metadata": {},
   "outputs": [
    {
     "data": {
      "text/plain": [
       "[<sqlite3.Row at 0x7cf63c79fc70>]"
      ]
     },
     "execution_count": 11,
     "metadata": {},
     "output_type": "execute_result"
    }
   ],
   "source": [
    "sq3dbConn.execute(sqlTmpl_t_FnSym_query,[ '0x7ffff61cdd3c'  ]).fetchall()"
   ]
  },
  {
   "cell_type": "markdown",
   "id": "c708d2fb-955f-4254-bc3a-a2564b460034",
   "metadata": {},
   "source": [
    "###  写 表FnCallLog"
   ]
  },
  {
   "cell_type": "markdown",
   "id": "99b51790-58da-4848-9923-d5878a68a8d8",
   "metadata": {},
   "source": [
    "#### sql语句模板"
   ]
  },
  {
   "cell_type": "code",
   "execution_count": 12,
   "id": "e6f7f386-f324-4e3f-980a-35509e7f25a6",
   "metadata": {},
   "outputs": [],
   "source": [
    "\n",
    "sqlTmpl_t_FnCallLog_insert=f\"INSERT INTO t_FnCallLog (id, curThreadId,direct,fnAdr,fnCallId,fnSymId) VALUES (?,?,?,?,?,?)\""
   ]
  },
  {
   "cell_type": "markdown",
   "id": "39c13c22-f0e4-4f24-8eb5-29f96b5060c3",
   "metadata": {},
   "source": [
    "#### 行回调函数中执行插入"
   ]
  },
  {
   "cell_type": "code",
   "execution_count": 13,
   "id": "3ba83a4e-d0b4-4e4b-a6e6-7cfa93a52a2e",
   "metadata": {},
   "outputs": [],
   "source": [
    "\n",
    "def sq3_insert_t_FnCallLog(lnNum,ln):\n",
    "    try:\n",
    "        sq3dbConn.execute(sqlTmpl_t_FnCallLog_insert,[ lnNum,ln['curThreadId'],ln['direct'],ln['fnAdr'],ln['fnCallId'],ln['fnSym']['address'] ])\n",
    "    except (KeyError, ValueError) as e:\n",
    "        print(\"出错行为\",ln)\n",
    "        import traceback\n",
    "        traceback.print_exception(e)\n",
    "        raise e\n",
    "        \n",
    "\n",
    "\n"
   ]
  },
  {
   "cell_type": "code",
   "execution_count": 14,
   "id": "c89fb2e5-0235-4718-b6fa-e4265066e351",
   "metadata": {},
   "outputs": [
    {
     "name": "stdout",
     "output_type": "stream",
     "text": [
      "从表t_FnCallLog删除行数  0\n",
      "即将处理第0行日志\n",
      "即将处理第100000行日志\n",
      "即将处理第200000行日志\n",
      "即将处理第300000行日志\n",
      "即将处理第400000行日志\n",
      "即将处理第500000行日志\n",
      "即将处理第600000行日志\n",
      "即将处理第700000行日志\n",
      "即将处理第800000行日志\n",
      "即将处理第900000行日志\n",
      "即将处理第1000000行日志\n"
     ]
    }
   ],
   "source": [
    "print(\"从表t_FnCallLog删除行数 \",sq3dbConn.execute(\"delete from t_FnCallLog\").rowcount)    \n",
    "iterLogF(TorchFnCallLogFP,LineFunc=sq3_insert_t_FnCallLog)\n"
   ]
  },
  {
   "cell_type": "markdown",
   "id": "734cd3d3-c628-4c81-9ca2-93bf5a7a10cb",
   "metadata": {},
   "source": [
    "#### 开发调试用语句"
   ]
  },
  {
   "cell_type": "code",
   "execution_count": 15,
   "id": "91379ed8-28ca-4e3d-b84e-67d2ce2ed1f8",
   "metadata": {},
   "outputs": [
    {
     "data": {
      "text/plain": [
       "[<sqlite3.Row at 0x7cf63c79e3e0>]"
      ]
     },
     "execution_count": 15,
     "metadata": {},
     "output_type": "execute_result"
    }
   ],
   "source": [
    "# iterLogF(TorchFnCallLogFP,FirstLineFunc=sq3_insert_t_FnCallLog)\n",
    "sq3dbConn.execute(\"select count(*) from t_FnCallLog\").fetchall()"
   ]
  },
  {
   "cell_type": "markdown",
   "id": "5a9f184b-5b84-4473-a55d-8a127ca5bccf",
   "metadata": {},
   "source": [
    "### 提交、关闭sqlite3数据库"
   ]
  },
  {
   "cell_type": "code",
   "execution_count": 16,
   "id": "6c22491f-718a-4d4a-bec4-c07d040c4ab2",
   "metadata": {},
   "outputs": [],
   "source": [
    "\n",
    "sq3dbConn.commit()\n",
    "# sq3dbConn.close()\n"
   ]
  },
  {
   "cell_type": "code",
   "execution_count": 17,
   "id": "256d1a5b-166f-4270-a989-9a11d32bd632",
   "metadata": {},
   "outputs": [
    {
     "name": "stdout",
     "output_type": "stream",
     "text": [
      "总计 62M\n",
      "-rwxrwxrwx 1 z z 62M  3月 27 19:41 FnCallLog.db\n",
      "-rwxrwxrwx 1 z z 45K  3月 27 19:40 neo4j_basic_example.ipynb\n",
      "-rwxrwxrwx 1 z z 920  3月 27 12:53 readme.md\n"
     ]
    }
   ],
   "source": [
    "!ls -lh"
   ]
  },
  {
   "cell_type": "markdown",
   "id": "e07edd18-3cad-4d88-9534-56e314e838e4",
   "metadata": {},
   "source": [
    "##  neo4j"
   ]
  },
  {
   "cell_type": "markdown",
   "id": "2b6797ce-b35d-4ce6-b300-d850f1c06deb",
   "metadata": {},
   "source": [
    "### neo4j 社区版 安装\n",
    "\n",
    "https://hub.docker.com/layers/library/neo4j/4.4.32-community/images/sha256-ce25409b8c3cfaa9a63f4e182753d09266881893e667d0298935ad4bfb0f11e5?context=explore\n"
   ]
  },
  {
   "cell_type": "code",
   "execution_count": 18,
   "id": "8a0f2391-1246-487f-8962-4c262ab59fdf",
   "metadata": {},
   "outputs": [],
   "source": [
    "%%bash\n",
    "# docker pull neo4j:4.4.32-community\n",
    "# docker run -d -p 7474:7474 -p 7687:7687 --name neo4j -e \"NEO4J_AUTH=neo4j/123456\" neo4j:4.4.32-community"
   ]
  },
  {
   "cell_type": "markdown",
   "id": "46247cc1-e69e-4143-b999-415500e5d807",
   "metadata": {},
   "source": [
    "http://localhost:7474/browser/  ， 输入用户名、密码，  到达 neo4j 的web控制台"
   ]
  },
  {
   "cell_type": "markdown",
   "id": "a227f11b-85ff-4027-8c50-798cf60f3c6a",
   "metadata": {},
   "source": [
    "\n",
    "## 写 neo4j 顶点(日志行号）、边（同fnCallId两点） \n",
    "\n",
    "写 neo4j 顶点(日志行号）、边（同fnCallId的函数进入指向函数退出） \n",
    "\n",
    "，来自 https://neo4j.com/docs/api/python-driver/5.18/#quick-example\n"
   ]
  },
  {
   "cell_type": "markdown",
   "id": "036acf6b-ced5-4f3d-86a4-abc2f804f732",
   "metadata": {},
   "source": [
    "### 找进出不平衡的fnCallId\n",
    "\n",
    "暂时用 以前用spark找出的[sql方式找进出不平衡的fncallid](http://giteaz:3000/frida_analyze_app_src/analyze_by_graph/raw/tag/%E5%AE%8C%E5%A4%87%E4%BE%8B%E5%AD%90/spark3.5.0_pyspark3.5.0_sql%E4%B8%BA%E4%B8%BB/spark_demo_pyspark.ipynb#sql%E6%96%B9%E5%BC%8F%E6%89%BE%E8%BF%9B%E5%87%BA%E4%B8%8D%E5%B9%B3%E8%A1%A1%E7%9A%84fncallid)"
   ]
  },
  {
   "cell_type": "code",
   "execution_count": 19,
   "id": "d088760d-5164-4e7d-a29b-c63517e602c4",
   "metadata": {},
   "outputs": [],
   "source": [
    "# 找进出不平衡的fnCallId\n",
    "notBalancedFnCallIdLs=[522484]"
   ]
  },
  {
   "cell_type": "markdown",
   "id": "c8d2e856-6f6a-4c0f-9d53-06cf9cab3ba1",
   "metadata": {},
   "source": [
    "### python连接neo4j"
   ]
  },
  {
   "cell_type": "code",
   "execution_count": 20,
   "id": "a8bbcd19-14c2-4202-90ac-aca705e80087",
   "metadata": {},
   "outputs": [],
   "source": [
    "from neo4j import GraphDatabase, RoutingControl\n",
    "\n",
    "\n",
    "URI = \"neo4j://localhost:7687\"\n",
    "AUTH = (\"neo4j\", \"123456\")\n"
   ]
  },
  {
   "cell_type": "code",
   "execution_count": 21,
   "id": "96fab4dd-4e75-4132-85f6-0049df910149",
   "metadata": {},
   "outputs": [],
   "source": [
    "\n",
    "driver=GraphDatabase.driver(URI, auth=AUTH)\n",
    "# driver.close() #到最后再关闭neo4j的连接\n"
   ]
  },
  {
   "cell_type": "markdown",
   "id": "36798b67-b7ff-413f-b9ab-00fbe8d83c88",
   "metadata": {},
   "source": [
    "### 删除现有顶点、边"
   ]
  },
  {
   "cell_type": "markdown",
   "id": "b3a1e8ee-23d1-49db-af0e-2f1b7518e1a9",
   "metadata": {},
   "source": [
    "#### 删除关系 E_FnEL\n",
    "\n",
    "E_FnEL == \"Edge FunctionEnter  ---> FunctionLeave\""
   ]
  },
  {
   "cell_type": "code",
   "execution_count": 22,
   "id": "df3211de-38b6-4c4f-bbdc-75c0dcacb862",
   "metadata": {},
   "outputs": [
    {
     "data": {
      "text/plain": [
       "EagerResult(records=[], summary=<neo4j._work.summary.ResultSummary object at 0x7cf5e6ed7580>, keys=[])"
      ]
     },
     "execution_count": 22,
     "metadata": {},
     "output_type": "execute_result"
    }
   ],
   "source": [
    "\n",
    "# 删除关系 E_FnEL\n",
    "Cypher_delete_E_FnEL=\"\"\"\n",
    "MATCH ()-[r:E_FnEL]-()\n",
    "DELETE r\n",
    "\"\"\"\n",
    "driver.execute_query(Cypher_delete_E_FnEL,database_=\"neo4j\",)\n"
   ]
  },
  {
   "cell_type": "markdown",
   "id": "0fdfd6b2-5bc8-4980-8583-23b4ad562775",
   "metadata": {},
   "source": [
    "#### 删除顶点 V_FnCallLog"
   ]
  },
  {
   "cell_type": "code",
   "execution_count": 23,
   "id": "dc840507-aefb-4550-8ca7-13dea29ba0d0",
   "metadata": {
    "scrolled": true
   },
   "outputs": [
    {
     "data": {
      "text/plain": [
       "EagerResult(records=[], summary=<neo4j._work.summary.ResultSummary object at 0x7cf63c7ae320>, keys=[])"
      ]
     },
     "execution_count": 23,
     "metadata": {},
     "output_type": "execute_result"
    }
   ],
   "source": [
    "\n",
    "# 删除顶点 V_FnCallLog\n",
    "Cypher_delete_V_FnCallLog=\"\"\"\n",
    "MATCH (n:V_FnCallLog)\n",
    "DELETE n\n",
    "\"\"\"\n",
    "driver.execute_query(Cypher_delete_V_FnCallLog,database_=\"neo4j\",)\n"
   ]
  },
  {
   "cell_type": "markdown",
   "id": "b770fb55-86ea-4c6d-bd20-69dbab665b24",
   "metadata": {},
   "source": [
    "若上一条一次删除全部顶点语句报内存超出，则用下面语句逐量删除\n",
    "```cypher\n",
    "MATCH (n:V_FnCallLog)\n",
    "WITH n\n",
    "LIMIT 100000\n",
    "DETACH DELETE n\n",
    "```"
   ]
  },
  {
   "cell_type": "markdown",
   "id": "b1dfa0c7-7adb-4c0e-a4e8-c7ee343dd858",
   "metadata": {},
   "source": [
    "### 遍历fnCallId过程中写neo4j顶点、边"
   ]
  },
  {
   "cell_type": "markdown",
   "id": "acb1b08e-5efa-409e-b6ba-eebd254b2380",
   "metadata": {},
   "source": [
    "#### sqlite3 sql语句模板"
   ]
  },
  {
   "cell_type": "code",
   "execution_count": 24,
   "id": "2021eb21-f3bd-42f1-b0a6-b3c2ace4f4cf",
   "metadata": {},
   "outputs": [],
   "source": [
    "sqlTmpl_t_FnCallLog_query_fnCallId_ls=\"select distinct fnCallId  from t_FnCallLog order by fnCallId asc\"\n",
    "\n",
    "sqlTmpl_t_FnCallLog_query_by_fnCallId=\"select  *  from t_FnCallLog where fnCallId=?\"\n",
    "#按字段t_FnCallLog.fnCallId查询，因此该字段得有索引\n",
    "\n",
    "sqlTmpl_t_FnSym_query_by_address=\"select  *  from t_FnSym where address=?\""
   ]
  },
  {
   "cell_type": "code",
   "execution_count": 25,
   "id": "1d9bd85d-d12f-4ec2-81bf-579f18ab599f",
   "metadata": {},
   "outputs": [],
   "source": [
    "#开发调试用\n",
    "# sqlTmpl_t_FnCallLog_query_fnCallId_ls=\"select distinct fnCallId  from t_FnCallLog limit 1000\"\n"
   ]
  },
  {
   "cell_type": "markdown",
   "id": "999df738-093e-4a0d-b316-e4104ef0866e",
   "metadata": {},
   "source": [
    "#### 遍历fnCallId过程"
   ]
  },
  {
   "cell_type": "code",
   "execution_count": 26,
   "id": "1c9ddeb2-4d4c-4627-b9c8-e7af92ddbd1d",
   "metadata": {},
   "outputs": [],
   "source": [
    "from datetime import datetime\n",
    "def nowDateTimeTxt():\n",
    "    return datetime.now()   .strftime( '%Y-%m-%d %H:%M:%S %f' ) \n"
   ]
  },
  {
   "cell_type": "markdown",
   "id": "748a0a85-b569-4952-aca8-a7fb457646ab",
   "metadata": {},
   "source": [
    "http://giteaz:3000/frida_analyze_app_src/frida_js/src/branch/main/DebugSymbolUtil.ts\n",
    "\n",
    "```javascript\n",
    "//方向枚举: 函数进入 或 函数离开\n",
    "enum Direct{\n",
    "  // 函数进入\n",
    "  EnterFn = 1,\n",
    "  // 函数离开\n",
    "  LeaveFn = 2,\n",
    "}\n",
    "\n",
    "```\n"
   ]
  },
  {
   "cell_type": "code",
   "execution_count": 27,
   "id": "92356ad5-a96f-4ee5-835e-284ee46812e5",
   "metadata": {},
   "outputs": [],
   "source": [
    "#方向枚举: 函数进入 或 函数离开\n",
    "class Direct:\n",
    "    #函数进入\n",
    "    EnterFn = 1\n",
    "    #函数离开\n",
    "    LeaveFn = 2"
   ]
  },
  {
   "cell_type": "code",
   "execution_count": 28,
   "id": "56a52dec-3906-4d4c-bc90-3c080059f6a8",
   "metadata": {},
   "outputs": [],
   "source": [
    "#按照fnCallId查询出 函数进入、函数离开 日志\n",
    "def queryFnEnterLeave(fnCallId):\n",
    "    _rowLs=sq3dbConn.execute(sqlTmpl_t_FnCallLog_query_by_fnCallId, [fnCallId]).fetchall()\n",
    "    # print(_rowLs)\n",
    "    assert len(_rowLs) == 2\n",
    "    ls_1=list(filter(lambda r:r[\"direct\"]==Direct.EnterFn, _rowLs)); assert len(ls_1) == 1\n",
    "    ls_2=list(filter(lambda r:r[\"direct\"]==Direct.LeaveFn, _rowLs)); assert len(ls_1) == 1\n",
    "    fnEnter=ls_1[0]\n",
    "    fnLeave=ls_2[0]\n",
    "    \n",
    "    fnEnter,fnLeave=_rowLs\n",
    "    return fnEnter,fnLeave"
   ]
  },
  {
   "cell_type": "code",
   "execution_count": 29,
   "id": "8afb249a-9c69-43df-afda-8b6d304b2f4a",
   "metadata": {
    "scrolled": true
   },
   "outputs": [],
   "source": [
    "\n",
    "for fnCallIdRow in sq3dbConn.execute(sqlTmpl_t_FnCallLog_query_fnCallId_ls):\n",
    "    fnCallId=fnCallIdRow[\"fnCallId\"]\n",
    "    \n",
    "    if fnCallId % 10000 == 0 : print(f\"{nowDateTimeTxt()},fnCallId={fnCallId}\")\n",
    "    # print(\"开发调试打印\",type(fnCallId), fnCallId.keys())\n",
    "    \n",
    "    if fnCallId in notBalancedFnCallIdLs :\n",
    "        print(f\"忽略 不平衡的fnCallId {fnCallId}\")\n",
    "        continue\n",
    "\n",
    "    #按照fnCallId查询出 函数进入、函数离开 日志\n",
    "    fnEnter,fnLeave=queryFnEnterLeave(fnCallId)\n",
    "\n",
    "    fnEnter_fnAdr=fnEnter[\"fnAdr\"]\n",
    "    fnEnter_curThreadId=fnEnter[\"curThreadId\"]\n",
    "    fnEnter_direct=fnEnter[\"direct\"]\n",
    "    #断言 函数进入、函数离开 日志 中的 函数地址 是 相同的\n",
    "    assert fnEnter_fnAdr == fnLeave[\"fnAdr\"] \n",
    "    \n",
    "    # print(fnEnter[\"fnAdr\"]) #开发调试语句\n",
    "    # break\n",
    "\n",
    "    #按照函数地址 查询函数调试信息\n",
    "    _fnSymLs=sq3dbConn.execute(sqlTmpl_t_FnSym_query_by_address, [fnEnter_fnAdr]).fetchall()\n",
    "    # 断言 该函数地址 只能查询到一个调试信息\n",
    "    assert len(_fnSymLs) == 1\n",
    "    fnSym=_fnSymLs[0]\n",
    "    # print(fnSym)\n",
    "    \n",
    "    fnSym_address=fnSym[\"address\"]\n",
    "    fnSym_name=fnSym[\"name\"]\n",
    "    fnSym_moduleName=fnSym[\"moduleName\"]\n",
    "    fnSym_fileName=fnSym[\"fileName\"]\n",
    "    fnSym_lineNumber=fnSym[\"lineNumber\"]\n",
    "    fnSym_column=fnSym[\"column\"]\n",
    "\n",
    "    #插入到neo4j\n",
    "    driver.execute_query(\n",
    "\"CREATE (fnEnter_:V_FnCallLog {curThreadId: $curThreadId, direct:$fnEnter_direct, fnAdr:$fnAdr, fnCallId:$fnCallId, fnSym_address:$fnSym_address, fnSym_name:$fnSym_name, fnSym_moduleName:$fnSym_moduleName, fnSym_fileName:$fnSym_fileName, fnSym_lineNumber:$fnSym_lineNumber, fnSym_column:$fnSym_column}) \"\n",
    "\"CREATE (fnLeave_:V_FnCallLog {curThreadId: $curThreadId, direct:$fnLeave_direct, fnAdr:$fnAdr, fnCallId:$fnCallId, fnSym_address:$fnSym_address, fnSym_name:$fnSym_name, fnSym_moduleName:$fnSym_moduleName, fnSym_fileName:$fnSym_fileName, fnSym_lineNumber:$fnSym_lineNumber, fnSym_column:$fnSym_column}) \"\n",
    "\"CREATE (fnEnter_)-[:E_FnEL]->(fnLeave_)\",\n",
    "# \"CREATE (fnEnter)-[:Edge2]->(fnLeave)\",\n",
    "# 以下这些是作为 参数 parameters_ 的\n",
    "curThreadId=fnEnter_curThreadId, \n",
    "fnEnter_direct=fnEnter_direct, \n",
    "fnLeave_direct=fnEnter_direct, \n",
    "fnAdr=fnEnter_fnAdr, \n",
    "fnCallId=fnCallId, \n",
    "fnSym_address=fnSym_address,\n",
    "fnSym_name=fnSym_name,\n",
    "fnSym_moduleName=fnSym_moduleName,\n",
    "fnSym_fileName=fnSym_fileName,\n",
    "fnSym_lineNumber=fnSym_lineNumber,\n",
    "fnSym_column=fnSym_column,\n",
    "\n",
    "database_=\"neo4j\",\n",
    ")\n"
   ]
  },
  {
   "cell_type": "markdown",
   "id": "e4ef75b5-1431-4132-b52b-e4d8ef1c2c47",
   "metadata": {},
   "source": [
    "#### 开发调试用语句"
   ]
  },
  {
   "cell_type": "code",
   "execution_count": 30,
   "id": "616916e6-2bf9-4e74-9d94-429f5f11098d",
   "metadata": {},
   "outputs": [],
   "source": [
    "#设置sqlite3.connect.execute.fetchall返回tuple列表而非字典列表 （人类可读用）\n",
    "sq3dbConn.row_factory=origin_sq3dbConn_row_factory"
   ]
  },
  {
   "cell_type": "code",
   "execution_count": 31,
   "id": "41a824ce-1c4c-4eee-aeb1-ca08cd6e9ed5",
   "metadata": {},
   "outputs": [
    {
     "data": {
      "text/plain": [
       "[(1,), (2,), (3,), (4,), (5,), (6,), (7,), (8,), (9,), (10,)]"
      ]
     },
     "execution_count": 31,
     "metadata": {},
     "output_type": "execute_result"
    }
   ],
   "source": [
    "sq3dbConn.execute(\"select distinct fnCallId from t_FnCallLog limit 10\").fetchall()\n"
   ]
  },
  {
   "cell_type": "code",
   "execution_count": 32,
   "id": "91dd7106-6616-40cc-8739-54ae67a05066",
   "metadata": {},
   "outputs": [
    {
     "data": {
      "text/plain": [
       "[(0, 'id', 'INTEGER', 0, None, 1),\n",
       " (1, 'curThreadId', 'INTEGER', 0, None, 0),\n",
       " (2, 'direct', 'short', 0, None, 0),\n",
       " (3, 'fnAdr', 'char(18)', 0, None, 0),\n",
       " (4, 'fnCallId', 'INTEGER', 0, None, 0),\n",
       " (5, 'fnSymId', 'char(18)', 0, None, 0)]"
      ]
     },
     "execution_count": 32,
     "metadata": {},
     "output_type": "execute_result"
    }
   ],
   "source": [
    "sq3dbConn.execute(\" PRAGMA table_info(t_FnCallLog) \").fetchall()"
   ]
  },
  {
   "cell_type": "code",
   "execution_count": 33,
   "id": "7638abd4-1d7e-45e0-92fa-72e815279674",
   "metadata": {},
   "outputs": [
    {
     "data": {
      "text/plain": [
       "[(0, 'address', 'char(18)', 0, None, 1),\n",
       " (1, 'name', 'varchar(256)', 0, None, 0),\n",
       " (2, 'moduleName', 'varchar(32)', 0, None, 0),\n",
       " (3, 'fileName', 'varchar(256)', 0, None, 0),\n",
       " (4, 'lineNumber', 'INTEGER', 0, None, 0),\n",
       " (5, 'column', 'INTEGER', 0, None, 0)]"
      ]
     },
     "execution_count": 33,
     "metadata": {},
     "output_type": "execute_result"
    }
   ],
   "source": [
    "sq3dbConn.execute(\" PRAGMA table_info(t_FnSym) \").fetchall()"
   ]
  },
  {
   "cell_type": "code",
   "execution_count": 34,
   "id": "5d6b1f64-5f02-4fa5-9243-e6652c83fc50",
   "metadata": {},
   "outputs": [
    {
     "data": {
      "text/plain": [
       "[(0, 392463, 1, '0x55555556b4fe', 1, '0x55555556b4fe'),\n",
       " (1, 392463, 1, '0x55555556b752', 2, '0x55555556b752'),\n",
       " (2, 392463, 1, '0x55555556cc0c', 3, '0x55555556cc0c')]"
      ]
     },
     "execution_count": 34,
     "metadata": {},
     "output_type": "execute_result"
    }
   ],
   "source": [
    "sq3dbConn.execute(\"select * from t_FnCallLog where id <=2\").fetchall()"
   ]
  },
  {
   "cell_type": "code",
   "execution_count": 35,
   "id": "9866b2a1-5444-496b-b3d9-b83ad85221ed",
   "metadata": {},
   "outputs": [],
   "source": [
    "#还原 \n",
    "# 设置sqlite3.connect.execute.fetchall返回字典列表而非tuple列表  （程序用）\n",
    "sq3dbConn.row_factory = sqlite3.Row"
   ]
  },
  {
   "cell_type": "code",
   "execution_count": 36,
   "id": "4802839c-6484-4e91-8467-cd6562a71b2b",
   "metadata": {
    "scrolled": true
   },
   "outputs": [
    {
     "data": {
      "text/plain": [
       "[<sqlite3.Row at 0x7cf5e6f1bbb0>, <sqlite3.Row at 0x7cf5e6f1a680>]"
      ]
     },
     "execution_count": 36,
     "metadata": {},
     "output_type": "execute_result"
    }
   ],
   "source": [
    "sq3dbConn.execute(sqlTmpl_t_FnCallLog_query_by_fnCallId, [1]).fetchall()"
   ]
  },
  {
   "cell_type": "markdown",
   "id": "6c1bf97a-4bc8-4695-96ec-c9d5c9c6ac70",
   "metadata": {},
   "source": [
    "**运行到此**"
   ]
  },
  {
   "cell_type": "markdown",
   "id": "2491af5a-563b-499a-a0aa-f8bebeed0362",
   "metadata": {},
   "source": [
    "## 可视化neo4j图（以networkx）\n",
    "networkx在边上 显示neo4j的关系名 ，支持多个关系名，多个关系名写在同一个networkx边上, 获得关系名字列表的简单写法"
   ]
  },
  {
   "cell_type": "code",
   "execution_count": 37,
   "id": "108ddaf3-fe54-4c00-9b4a-8d5811326d1a",
   "metadata": {},
   "outputs": [
    {
     "name": "stdout",
     "output_type": "stream",
     "text": [
      "Looking in indexes: https://pypi.tuna.tsinghua.edu.cn/simple\n",
      "Requirement already satisfied: networkx in /app/Miniconda3-py310_22.11.1-1/lib/python3.10/site-packages (3.2.1)\n",
      "Requirement already satisfied: matplotlib in /app/Miniconda3-py310_22.11.1-1/lib/python3.10/site-packages (3.8.3)\n",
      "Requirement already satisfied: numpy<2,>=1.21 in /app/Miniconda3-py310_22.11.1-1/lib/python3.10/site-packages (from matplotlib) (1.26.4)\n",
      "Requirement already satisfied: packaging>=20.0 in /home/z/.local/lib/python3.10/site-packages (from matplotlib) (24.0)\n",
      "Requirement already satisfied: python-dateutil>=2.7 in /home/z/.local/lib/python3.10/site-packages (from matplotlib) (2.9.0.post0)\n",
      "Requirement already satisfied: fonttools>=4.22.0 in /app/Miniconda3-py310_22.11.1-1/lib/python3.10/site-packages (from matplotlib) (4.50.0)\n",
      "Requirement already satisfied: pillow>=8 in /app/Miniconda3-py310_22.11.1-1/lib/python3.10/site-packages (from matplotlib) (10.2.0)\n",
      "Requirement already satisfied: cycler>=0.10 in /app/Miniconda3-py310_22.11.1-1/lib/python3.10/site-packages (from matplotlib) (0.12.1)\n",
      "Requirement already satisfied: contourpy>=1.0.1 in /app/Miniconda3-py310_22.11.1-1/lib/python3.10/site-packages (from matplotlib) (1.2.0)\n",
      "Requirement already satisfied: pyparsing>=2.3.1 in /app/Miniconda3-py310_22.11.1-1/lib/python3.10/site-packages (from matplotlib) (3.1.2)\n",
      "Requirement already satisfied: kiwisolver>=1.3.1 in /app/Miniconda3-py310_22.11.1-1/lib/python3.10/site-packages (from matplotlib) (1.4.5)\n",
      "Requirement already satisfied: six>=1.5 in /app/Miniconda3-py310_22.11.1-1/lib/python3.10/site-packages (from python-dateutil>=2.7->matplotlib) (1.16.0)\n"
     ]
    }
   ],
   "source": [
    "%%bash\n",
    "\n",
    "pip install networkx matplotlib"
   ]
  },
  {
   "cell_type": "code",
   "execution_count": 38,
   "id": "aae5125a-c951-46f7-88c2-6f65cf5c326b",
   "metadata": {},
   "outputs": [],
   "source": [
    "from neo4j import GraphDatabase\n",
    "import networkx as nx\n",
    "import matplotlib.pyplot as plt\n"
   ]
  },
  {
   "cell_type": "markdown",
   "id": "f77d8b2c-f36b-4455-924d-67c239eea3bb",
   "metadata": {},
   "source": [
    "#### 只可视化前TopN即30个边"
   ]
  },
  {
   "cell_type": "code",
   "execution_count": 39,
   "id": "c21ed853-1a0d-4c62-a1d1-2297338baad5",
   "metadata": {},
   "outputs": [],
   "source": [
    "\n",
    "TopN=30\n"
   ]
  },
  {
   "cell_type": "markdown",
   "id": "c1fb7a76-3e66-4a8e-877a-5ef04a8f4730",
   "metadata": {},
   "source": [
    "#### 可视化方法"
   ]
  },
  {
   "cell_type": "code",
   "execution_count": 40,
   "id": "9f87c035-4ef0-4e06-8797-10de6c801774",
   "metadata": {
    "scrolled": true
   },
   "outputs": [],
   "source": [
    "\n",
    "def visual(driver):\n",
    "    G = nx.MultiGraph()\n",
    "    records, _, _ = driver.execute_query(\n",
    "f\"\"\"MATCH (n)-[r]->(m)\n",
    "RETURN n, r, m LIMIT {TopN}\"\"\",\n",
    "        database_=\"neo4j\", routing_=RoutingControl.READ,\n",
    "    )\n",
    "    for record in records:\n",
    "        srcV=record['n']['fnSym_address']\n",
    "        dstV=record['m']['fnSym_address']\n",
    "        relation_type = record['r'].type\n",
    "        # print(\"neo4j中的关系名字为\",relation_type)\n",
    "        G.add_node(srcV)\n",
    "        G.add_node(dstV)\n",
    "        G.add_edge(srcV,dstV,E_FnEL=relation_type)\n",
    "    return G\n",
    "\n"
   ]
  },
  {
   "cell_type": "markdown",
   "id": "2f5464e5-2746-43c0-8f91-95a1940320ae",
   "metadata": {},
   "source": [
    "#### 可视化"
   ]
  },
  {
   "cell_type": "code",
   "execution_count": 41,
   "id": "76674465-7a5a-4272-83ea-37201052b4ab",
   "metadata": {},
   "outputs": [],
   "source": [
    "# 前面已经建立过了neo4j连接，这里不再建立\n",
    "# driver= GraphDatabase.driver(URI, auth=AUTH)"
   ]
  },
  {
   "cell_type": "code",
   "execution_count": 42,
   "id": "9fcf0263-f98f-4ab0-9b07-10459df89dfc",
   "metadata": {},
   "outputs": [
    {
     "data": {
      "image/png": "[encoded data removed]",
      "text/plain": [
       "<Figure size 1000x800 with 1 Axes>"
      ]
     },
     "metadata": {},
     "output_type": "display_data"
    }
   ],
   "source": [
    "\n",
    "\n",
    "G=visual(driver)\n",
    "\n",
    "pos = nx.spring_layout(G)  \n",
    "plt.figure(figsize=(10, 8))\n",
    "\n",
    "nx.draw_networkx_nodes(G, pos, node_size=800, node_color='skyblue')\n",
    "nx.draw_networkx_edges(G, pos)\n",
    "nx.draw_networkx_labels(G, pos)\n",
    "\n",
    "edge_labels = {(u, v): [d['E_FnEL'] for k, d in G[u][v].items()] for u, v in G.edges()}\n",
    "nx.draw_networkx_edge_labels(G, pos, edge_labels=edge_labels)\n",
    "\n",
    "plt.title(\"visual neo4j graph by networkx\")\n",
    "plt.show()"
   ]
  },
  {
   "cell_type": "markdown",
   "id": "3d83f501-875d-47dd-a026-fc21f4190f80",
   "metadata": {},
   "source": [
    "#### 关闭neo4j连接"
   ]
  },
  {
   "cell_type": "code",
   "execution_count": 43,
   "id": "abf8c0b8-9573-44ef-8cdd-3ca93bef4f44",
   "metadata": {},
   "outputs": [],
   "source": [
    "\n",
    "driver.close()"
   ]
  },
  {
   "cell_type": "markdown",
   "id": "6018ae63-1a82-4400-82e8-183f7e645d67",
   "metadata": {},
   "source": [
    "#### 调试写法"
   ]
  },
  {
   "cell_type": "code",
   "execution_count": 44,
   "id": "352bc07b-ec9d-459c-8e23-16d8c644f04c",
   "metadata": {},
   "outputs": [
    {
     "data": {
      "text/plain": [
       "MultiEdgeDataView([('0x55555556b4fe', '0x55555556b4fe'), ('0x55555556b752', '0x55555556b752'), ('0x55555556cc0c', '0x55555556cc0c'), ('0x55555556ca72', '0x55555556ca72'), ('0x7ffff770930c', '0x7ffff770930c'), ('0x7ffff770ef00', '0x7ffff770ef00'), ('0x7ffff771130c', '0x7ffff771130c'), ('0x7ffff6d19966', '0x7ffff6d19966'), ('0x7ffff4bf84ea', '0x7ffff4bf84ea'), ('0x7ffff4bf84ea', '0x7ffff4bf84ea'), ('0x7ffff4bf9326', '0x7ffff4bf9326'), ('0x7ffff4bf9326', '0x7ffff4bf9326'), ('0x7ffff74ba1c1', '0x7ffff74ba1c1'), ('0x7ffff74ba1c1', '0x7ffff74ba1c1'), ('0x7ffff74be6f8', '0x7ffff74be6f8'), ('0x7ffff74be6f8', '0x7ffff74be6f8'), ('0x7ffff74be706', '0x7ffff74be706'), ('0x7ffff74be706', '0x7ffff74be706'), ('0x7ffff770ef80', '0x7ffff770ef80'), ('0x7ffff770ef80', '0x7ffff770ef80'), ('0x7ffff747029e', '0x7ffff747029e'), ('0x7ffff747029e', '0x7ffff747029e'), ('0x7ffff7471d70', '0x7ffff7471d70'), ('0x7ffff7471d70', '0x7ffff7471d70'), ('0x7ffff771133a', '0x7ffff771133a'), ('0x7ffff771133a', '0x7ffff771133a'), ('0x7ffff7712a4a', '0x7ffff7712a4a'), ('0x7ffff771489e', '0x7ffff771489e'), ('0x7ffff7712a6a', '0x7ffff7712a6a'), ('0x55555556a5cf', '0x55555556a5cf')])"
      ]
     },
     "execution_count": 44,
     "metadata": {},
     "output_type": "execute_result"
    }
   ],
   "source": [
    "#边列表，简陋\n",
    "G.edges()"
   ]
  },
  {
   "cell_type": "code",
   "execution_count": 45,
   "id": "8b36b56c-5f64-4ff2-a7dd-8c429315d95c",
   "metadata": {},
   "outputs": [
    {
     "data": {
      "text/plain": [
       "MultiEdgeDataView([('0x55555556b4fe', '0x55555556b4fe', 0, {'E_FnEL': 'E_FnEL'}), ('0x55555556b752', '0x55555556b752', 0, {'E_FnEL': 'E_FnEL'}), ('0x55555556cc0c', '0x55555556cc0c', 0, {'E_FnEL': 'E_FnEL'}), ('0x55555556ca72', '0x55555556ca72', 0, {'E_FnEL': 'E_FnEL'}), ('0x7ffff770930c', '0x7ffff770930c', 0, {'E_FnEL': 'E_FnEL'}), ('0x7ffff770ef00', '0x7ffff770ef00', 0, {'E_FnEL': 'E_FnEL'}), ('0x7ffff771130c', '0x7ffff771130c', 0, {'E_FnEL': 'E_FnEL'}), ('0x7ffff6d19966', '0x7ffff6d19966', 0, {'E_FnEL': 'E_FnEL'}), ('0x7ffff4bf84ea', '0x7ffff4bf84ea', 0, {'E_FnEL': 'E_FnEL'}), ('0x7ffff4bf84ea', '0x7ffff4bf84ea', 1, {'E_FnEL': 'E_FnEL'}), ('0x7ffff4bf9326', '0x7ffff4bf9326', 0, {'E_FnEL': 'E_FnEL'}), ('0x7ffff4bf9326', '0x7ffff4bf9326', 1, {'E_FnEL': 'E_FnEL'}), ('0x7ffff74ba1c1', '0x7ffff74ba1c1', 0, {'E_FnEL': 'E_FnEL'}), ('0x7ffff74ba1c1', '0x7ffff74ba1c1', 1, {'E_FnEL': 'E_FnEL'}), ('0x7ffff74be6f8', '0x7ffff74be6f8', 0, {'E_FnEL': 'E_FnEL'}), ('0x7ffff74be6f8', '0x7ffff74be6f8', 1, {'E_FnEL': 'E_FnEL'}), ('0x7ffff74be706', '0x7ffff74be706', 0, {'E_FnEL': 'E_FnEL'}), ('0x7ffff74be706', '0x7ffff74be706', 1, {'E_FnEL': 'E_FnEL'}), ('0x7ffff770ef80', '0x7ffff770ef80', 0, {'E_FnEL': 'E_FnEL'}), ('0x7ffff770ef80', '0x7ffff770ef80', 1, {'E_FnEL': 'E_FnEL'}), ('0x7ffff747029e', '0x7ffff747029e', 0, {'E_FnEL': 'E_FnEL'}), ('0x7ffff747029e', '0x7ffff747029e', 1, {'E_FnEL': 'E_FnEL'}), ('0x7ffff7471d70', '0x7ffff7471d70', 0, {'E_FnEL': 'E_FnEL'}), ('0x7ffff7471d70', '0x7ffff7471d70', 1, {'E_FnEL': 'E_FnEL'}), ('0x7ffff771133a', '0x7ffff771133a', 0, {'E_FnEL': 'E_FnEL'}), ('0x7ffff771133a', '0x7ffff771133a', 1, {'E_FnEL': 'E_FnEL'}), ('0x7ffff7712a4a', '0x7ffff7712a4a', 0, {'E_FnEL': 'E_FnEL'}), ('0x7ffff771489e', '0x7ffff771489e', 0, {'E_FnEL': 'E_FnEL'}), ('0x7ffff7712a6a', '0x7ffff7712a6a', 0, {'E_FnEL': 'E_FnEL'}), ('0x55555556a5cf', '0x55555556a5cf', 0, {'E_FnEL': 'E_FnEL'})])"
      ]
     },
     "execution_count": 45,
     "metadata": {},
     "output_type": "execute_result"
    }
   ],
   "source": [
    "#边列表，完备\n",
    "G.edges(keys=True, data=True)"
   ]
  },
  {
   "cell_type": "code",
   "execution_count": 46,
   "id": "da80f2cb-7d64-4835-9624-2220a0be2401",
   "metadata": {},
   "outputs": [
    {
     "data": {
      "text/plain": [
       "[('0x55555556b4fe,0x55555556b4fe',\n",
       "  ItemsView(AtlasView({0: {'E_FnEL': 'E_FnEL'}}))),\n",
       " ('0x55555556b752,0x55555556b752',\n",
       "  ItemsView(AtlasView({0: {'E_FnEL': 'E_FnEL'}}))),\n",
       " ('0x55555556cc0c,0x55555556cc0c',\n",
       "  ItemsView(AtlasView({0: {'E_FnEL': 'E_FnEL'}}))),\n",
       " ('0x55555556ca72,0x55555556ca72',\n",
       "  ItemsView(AtlasView({0: {'E_FnEL': 'E_FnEL'}}))),\n",
       " ('0x7ffff770930c,0x7ffff770930c',\n",
       "  ItemsView(AtlasView({0: {'E_FnEL': 'E_FnEL'}}))),\n",
       " ('0x7ffff770ef00,0x7ffff770ef00',\n",
       "  ItemsView(AtlasView({0: {'E_FnEL': 'E_FnEL'}}))),\n",
       " ('0x7ffff771130c,0x7ffff771130c',\n",
       "  ItemsView(AtlasView({0: {'E_FnEL': 'E_FnEL'}}))),\n",
       " ('0x7ffff6d19966,0x7ffff6d19966',\n",
       "  ItemsView(AtlasView({0: {'E_FnEL': 'E_FnEL'}}))),\n",
       " ('0x7ffff4bf84ea,0x7ffff4bf84ea',\n",
       "  ItemsView(AtlasView({0: {'E_FnEL': 'E_FnEL'}, 1: {'E_FnEL': 'E_FnEL'}}))),\n",
       " ('0x7ffff4bf84ea,0x7ffff4bf84ea',\n",
       "  ItemsView(AtlasView({0: {'E_FnEL': 'E_FnEL'}, 1: {'E_FnEL': 'E_FnEL'}}))),\n",
       " ('0x7ffff4bf9326,0x7ffff4bf9326',\n",
       "  ItemsView(AtlasView({0: {'E_FnEL': 'E_FnEL'}, 1: {'E_FnEL': 'E_FnEL'}}))),\n",
       " ('0x7ffff4bf9326,0x7ffff4bf9326',\n",
       "  ItemsView(AtlasView({0: {'E_FnEL': 'E_FnEL'}, 1: {'E_FnEL': 'E_FnEL'}}))),\n",
       " ('0x7ffff74ba1c1,0x7ffff74ba1c1',\n",
       "  ItemsView(AtlasView({0: {'E_FnEL': 'E_FnEL'}, 1: {'E_FnEL': 'E_FnEL'}}))),\n",
       " ('0x7ffff74ba1c1,0x7ffff74ba1c1',\n",
       "  ItemsView(AtlasView({0: {'E_FnEL': 'E_FnEL'}, 1: {'E_FnEL': 'E_FnEL'}}))),\n",
       " ('0x7ffff74be6f8,0x7ffff74be6f8',\n",
       "  ItemsView(AtlasView({0: {'E_FnEL': 'E_FnEL'}, 1: {'E_FnEL': 'E_FnEL'}}))),\n",
       " ('0x7ffff74be6f8,0x7ffff74be6f8',\n",
       "  ItemsView(AtlasView({0: {'E_FnEL': 'E_FnEL'}, 1: {'E_FnEL': 'E_FnEL'}}))),\n",
       " ('0x7ffff74be706,0x7ffff74be706',\n",
       "  ItemsView(AtlasView({0: {'E_FnEL': 'E_FnEL'}, 1: {'E_FnEL': 'E_FnEL'}}))),\n",
       " ('0x7ffff74be706,0x7ffff74be706',\n",
       "  ItemsView(AtlasView({0: {'E_FnEL': 'E_FnEL'}, 1: {'E_FnEL': 'E_FnEL'}}))),\n",
       " ('0x7ffff770ef80,0x7ffff770ef80',\n",
       "  ItemsView(AtlasView({0: {'E_FnEL': 'E_FnEL'}, 1: {'E_FnEL': 'E_FnEL'}}))),\n",
       " ('0x7ffff770ef80,0x7ffff770ef80',\n",
       "  ItemsView(AtlasView({0: {'E_FnEL': 'E_FnEL'}, 1: {'E_FnEL': 'E_FnEL'}}))),\n",
       " ('0x7ffff747029e,0x7ffff747029e',\n",
       "  ItemsView(AtlasView({0: {'E_FnEL': 'E_FnEL'}, 1: {'E_FnEL': 'E_FnEL'}}))),\n",
       " ('0x7ffff747029e,0x7ffff747029e',\n",
       "  ItemsView(AtlasView({0: {'E_FnEL': 'E_FnEL'}, 1: {'E_FnEL': 'E_FnEL'}}))),\n",
       " ('0x7ffff7471d70,0x7ffff7471d70',\n",
       "  ItemsView(AtlasView({0: {'E_FnEL': 'E_FnEL'}, 1: {'E_FnEL': 'E_FnEL'}}))),\n",
       " ('0x7ffff7471d70,0x7ffff7471d70',\n",
       "  ItemsView(AtlasView({0: {'E_FnEL': 'E_FnEL'}, 1: {'E_FnEL': 'E_FnEL'}}))),\n",
       " ('0x7ffff771133a,0x7ffff771133a',\n",
       "  ItemsView(AtlasView({0: {'E_FnEL': 'E_FnEL'}, 1: {'E_FnEL': 'E_FnEL'}}))),\n",
       " ('0x7ffff771133a,0x7ffff771133a',\n",
       "  ItemsView(AtlasView({0: {'E_FnEL': 'E_FnEL'}, 1: {'E_FnEL': 'E_FnEL'}}))),\n",
       " ('0x7ffff7712a4a,0x7ffff7712a4a',\n",
       "  ItemsView(AtlasView({0: {'E_FnEL': 'E_FnEL'}}))),\n",
       " ('0x7ffff771489e,0x7ffff771489e',\n",
       "  ItemsView(AtlasView({0: {'E_FnEL': 'E_FnEL'}}))),\n",
       " ('0x7ffff7712a6a,0x7ffff7712a6a',\n",
       "  ItemsView(AtlasView({0: {'E_FnEL': 'E_FnEL'}}))),\n",
       " ('0x55555556a5cf,0x55555556a5cf',\n",
       "  ItemsView(AtlasView({0: {'E_FnEL': 'E_FnEL'}})))]"
      ]
     },
     "execution_count": 46,
     "metadata": {},
     "output_type": "execute_result"
    }
   ],
   "source": [
    "#获取关系名字ReltnName列表\n",
    "[  ( f\"{u},{v}\", G[u][v].items() ) for u, v in G.edges()]"
   ]
  },
  {
   "cell_type": "markdown",
   "id": "110d3ac3-d54f-4766-9cfa-71293dc3f6c1",
   "metadata": {},
   "source": [
    "#### 错误写法"
   ]
  },
  {
   "cell_type": "code",
   "execution_count": 47,
   "id": "990f84bb-cf1a-46ee-8c4e-27ddfb48d62e",
   "metadata": {},
   "outputs": [
    {
     "data": {
      "text/plain": [
       "{('0x55555556b4fe', '0x55555556b4fe'): 'E_FnEL',\n",
       " ('0x55555556b752', '0x55555556b752'): 'E_FnEL',\n",
       " ('0x55555556cc0c', '0x55555556cc0c'): 'E_FnEL',\n",
       " ('0x55555556ca72', '0x55555556ca72'): 'E_FnEL',\n",
       " ('0x7ffff770930c', '0x7ffff770930c'): 'E_FnEL',\n",
       " ('0x7ffff770ef00', '0x7ffff770ef00'): 'E_FnEL',\n",
       " ('0x7ffff771130c', '0x7ffff771130c'): 'E_FnEL',\n",
       " ('0x7ffff6d19966', '0x7ffff6d19966'): 'E_FnEL',\n",
       " ('0x7ffff4bf84ea', '0x7ffff4bf84ea'): 'E_FnEL',\n",
       " ('0x7ffff4bf9326', '0x7ffff4bf9326'): 'E_FnEL',\n",
       " ('0x7ffff74ba1c1', '0x7ffff74ba1c1'): 'E_FnEL',\n",
       " ('0x7ffff74be6f8', '0x7ffff74be6f8'): 'E_FnEL',\n",
       " ('0x7ffff74be706', '0x7ffff74be706'): 'E_FnEL',\n",
       " ('0x7ffff770ef80', '0x7ffff770ef80'): 'E_FnEL',\n",
       " ('0x7ffff747029e', '0x7ffff747029e'): 'E_FnEL',\n",
       " ('0x7ffff7471d70', '0x7ffff7471d70'): 'E_FnEL',\n",
       " ('0x7ffff771133a', '0x7ffff771133a'): 'E_FnEL',\n",
       " ('0x7ffff7712a4a', '0x7ffff7712a4a'): 'E_FnEL',\n",
       " ('0x7ffff771489e', '0x7ffff771489e'): 'E_FnEL',\n",
       " ('0x7ffff7712a6a', '0x7ffff7712a6a'): 'E_FnEL',\n",
       " ('0x55555556a5cf', '0x55555556a5cf'): 'E_FnEL'}"
      ]
     },
     "execution_count": 47,
     "metadata": {},
     "output_type": "execute_result"
    }
   ],
   "source": [
    "#错误写法，只获取到了最后一个关系名字ReltnName\n",
    "{(u, v): d['E_FnEL']  for u, v, k, d in G.edges(keys=True, data=True)}"
   ]
  }
 ],
 "metadata": {
  "kernelspec": {
   "display_name": "Python 3 (ipykernel)",
   "language": "python",
   "name": "python3"
  },
  "language_info": {
   "codemirror_mode": {
    "name": "ipython",
    "version": 3
   },
   "file_extension": ".py",
   "mimetype": "text/x-python",
   "name": "python",
   "nbconvert_exporter": "python",
   "pygments_lexer": "ipython3",
   "version": "3.10.8"
  }
 },
 "nbformat": 4,
 "nbformat_minor": 5
}
